{
  "nbformat": 4,
  "nbformat_minor": 0,
  "metadata": {
    "colab": {
      "provenance": [],
      "authorship_tag": "ABX9TyOQr8EIM/h0c0YfCHWTOHgU",
      "include_colab_link": true
    },
    "kernelspec": {
      "name": "python3",
      "display_name": "Python 3"
    },
    "language_info": {
      "name": "python"
    },
    "widgets": {
      "application/vnd.jupyter.widget-state+json": {
        "13ee83b4873343aeb8d4cc60049dff04": {
          "model_module": "@jupyter-widgets/controls",
          "model_name": "HBoxModel",
          "model_module_version": "1.5.0",
          "state": {
            "_dom_classes": [],
            "_model_module": "@jupyter-widgets/controls",
            "_model_module_version": "1.5.0",
            "_model_name": "HBoxModel",
            "_view_count": null,
            "_view_module": "@jupyter-widgets/controls",
            "_view_module_version": "1.5.0",
            "_view_name": "HBoxView",
            "box_style": "",
            "children": [
              "IPY_MODEL_1d7709e76137461ab52da2ac5c857e3c",
              "IPY_MODEL_48cd01807f3241c3971a5289ad6c0508",
              "IPY_MODEL_bf1462a412404a30b743543bb9924e00"
            ],
            "layout": "IPY_MODEL_f6ce4f144cda43d49e7e3ba4b8d1975e"
          }
        },
        "1d7709e76137461ab52da2ac5c857e3c": {
          "model_module": "@jupyter-widgets/controls",
          "model_name": "HTMLModel",
          "model_module_version": "1.5.0",
          "state": {
            "_dom_classes": [],
            "_model_module": "@jupyter-widgets/controls",
            "_model_module_version": "1.5.0",
            "_model_name": "HTMLModel",
            "_view_count": null,
            "_view_module": "@jupyter-widgets/controls",
            "_view_module_version": "1.5.0",
            "_view_name": "HTMLView",
            "description": "",
            "description_tooltip": null,
            "layout": "IPY_MODEL_8edfd42d570f47b9b4c5be7c17abfc25",
            "placeholder": "​",
            "style": "IPY_MODEL_3b2074dbedf348d099c102d9f98aafe4",
            "value": "100%"
          }
        },
        "48cd01807f3241c3971a5289ad6c0508": {
          "model_module": "@jupyter-widgets/controls",
          "model_name": "FloatProgressModel",
          "model_module_version": "1.5.0",
          "state": {
            "_dom_classes": [],
            "_model_module": "@jupyter-widgets/controls",
            "_model_module_version": "1.5.0",
            "_model_name": "FloatProgressModel",
            "_view_count": null,
            "_view_module": "@jupyter-widgets/controls",
            "_view_module_version": "1.5.0",
            "_view_name": "ProgressView",
            "bar_style": "success",
            "description": "",
            "description_tooltip": null,
            "layout": "IPY_MODEL_6f6cac7b7eef4fada746f1a5d8204097",
            "max": 3,
            "min": 0,
            "orientation": "horizontal",
            "style": "IPY_MODEL_68123c4b0dc34be7a889def446f26594",
            "value": 3
          }
        },
        "bf1462a412404a30b743543bb9924e00": {
          "model_module": "@jupyter-widgets/controls",
          "model_name": "HTMLModel",
          "model_module_version": "1.5.0",
          "state": {
            "_dom_classes": [],
            "_model_module": "@jupyter-widgets/controls",
            "_model_module_version": "1.5.0",
            "_model_name": "HTMLModel",
            "_view_count": null,
            "_view_module": "@jupyter-widgets/controls",
            "_view_module_version": "1.5.0",
            "_view_name": "HTMLView",
            "description": "",
            "description_tooltip": null,
            "layout": "IPY_MODEL_e9b21e75577747c4be48f0c4315232cf",
            "placeholder": "​",
            "style": "IPY_MODEL_f34d305aebd947edba8b3e40fbf73462",
            "value": " 3/3 [00:31&lt;00:00, 10.62s/it]"
          }
        },
        "f6ce4f144cda43d49e7e3ba4b8d1975e": {
          "model_module": "@jupyter-widgets/base",
          "model_name": "LayoutModel",
          "model_module_version": "1.2.0",
          "state": {
            "_model_module": "@jupyter-widgets/base",
            "_model_module_version": "1.2.0",
            "_model_name": "LayoutModel",
            "_view_count": null,
            "_view_module": "@jupyter-widgets/base",
            "_view_module_version": "1.2.0",
            "_view_name": "LayoutView",
            "align_content": null,
            "align_items": null,
            "align_self": null,
            "border": null,
            "bottom": null,
            "display": null,
            "flex": null,
            "flex_flow": null,
            "grid_area": null,
            "grid_auto_columns": null,
            "grid_auto_flow": null,
            "grid_auto_rows": null,
            "grid_column": null,
            "grid_gap": null,
            "grid_row": null,
            "grid_template_areas": null,
            "grid_template_columns": null,
            "grid_template_rows": null,
            "height": null,
            "justify_content": null,
            "justify_items": null,
            "left": null,
            "margin": null,
            "max_height": null,
            "max_width": null,
            "min_height": null,
            "min_width": null,
            "object_fit": null,
            "object_position": null,
            "order": null,
            "overflow": null,
            "overflow_x": null,
            "overflow_y": null,
            "padding": null,
            "right": null,
            "top": null,
            "visibility": null,
            "width": null
          }
        },
        "8edfd42d570f47b9b4c5be7c17abfc25": {
          "model_module": "@jupyter-widgets/base",
          "model_name": "LayoutModel",
          "model_module_version": "1.2.0",
          "state": {
            "_model_module": "@jupyter-widgets/base",
            "_model_module_version": "1.2.0",
            "_model_name": "LayoutModel",
            "_view_count": null,
            "_view_module": "@jupyter-widgets/base",
            "_view_module_version": "1.2.0",
            "_view_name": "LayoutView",
            "align_content": null,
            "align_items": null,
            "align_self": null,
            "border": null,
            "bottom": null,
            "display": null,
            "flex": null,
            "flex_flow": null,
            "grid_area": null,
            "grid_auto_columns": null,
            "grid_auto_flow": null,
            "grid_auto_rows": null,
            "grid_column": null,
            "grid_gap": null,
            "grid_row": null,
            "grid_template_areas": null,
            "grid_template_columns": null,
            "grid_template_rows": null,
            "height": null,
            "justify_content": null,
            "justify_items": null,
            "left": null,
            "margin": null,
            "max_height": null,
            "max_width": null,
            "min_height": null,
            "min_width": null,
            "object_fit": null,
            "object_position": null,
            "order": null,
            "overflow": null,
            "overflow_x": null,
            "overflow_y": null,
            "padding": null,
            "right": null,
            "top": null,
            "visibility": null,
            "width": null
          }
        },
        "3b2074dbedf348d099c102d9f98aafe4": {
          "model_module": "@jupyter-widgets/controls",
          "model_name": "DescriptionStyleModel",
          "model_module_version": "1.5.0",
          "state": {
            "_model_module": "@jupyter-widgets/controls",
            "_model_module_version": "1.5.0",
            "_model_name": "DescriptionStyleModel",
            "_view_count": null,
            "_view_module": "@jupyter-widgets/base",
            "_view_module_version": "1.2.0",
            "_view_name": "StyleView",
            "description_width": ""
          }
        },
        "6f6cac7b7eef4fada746f1a5d8204097": {
          "model_module": "@jupyter-widgets/base",
          "model_name": "LayoutModel",
          "model_module_version": "1.2.0",
          "state": {
            "_model_module": "@jupyter-widgets/base",
            "_model_module_version": "1.2.0",
            "_model_name": "LayoutModel",
            "_view_count": null,
            "_view_module": "@jupyter-widgets/base",
            "_view_module_version": "1.2.0",
            "_view_name": "LayoutView",
            "align_content": null,
            "align_items": null,
            "align_self": null,
            "border": null,
            "bottom": null,
            "display": null,
            "flex": null,
            "flex_flow": null,
            "grid_area": null,
            "grid_auto_columns": null,
            "grid_auto_flow": null,
            "grid_auto_rows": null,
            "grid_column": null,
            "grid_gap": null,
            "grid_row": null,
            "grid_template_areas": null,
            "grid_template_columns": null,
            "grid_template_rows": null,
            "height": null,
            "justify_content": null,
            "justify_items": null,
            "left": null,
            "margin": null,
            "max_height": null,
            "max_width": null,
            "min_height": null,
            "min_width": null,
            "object_fit": null,
            "object_position": null,
            "order": null,
            "overflow": null,
            "overflow_x": null,
            "overflow_y": null,
            "padding": null,
            "right": null,
            "top": null,
            "visibility": null,
            "width": null
          }
        },
        "68123c4b0dc34be7a889def446f26594": {
          "model_module": "@jupyter-widgets/controls",
          "model_name": "ProgressStyleModel",
          "model_module_version": "1.5.0",
          "state": {
            "_model_module": "@jupyter-widgets/controls",
            "_model_module_version": "1.5.0",
            "_model_name": "ProgressStyleModel",
            "_view_count": null,
            "_view_module": "@jupyter-widgets/base",
            "_view_module_version": "1.2.0",
            "_view_name": "StyleView",
            "bar_color": null,
            "description_width": ""
          }
        },
        "e9b21e75577747c4be48f0c4315232cf": {
          "model_module": "@jupyter-widgets/base",
          "model_name": "LayoutModel",
          "model_module_version": "1.2.0",
          "state": {
            "_model_module": "@jupyter-widgets/base",
            "_model_module_version": "1.2.0",
            "_model_name": "LayoutModel",
            "_view_count": null,
            "_view_module": "@jupyter-widgets/base",
            "_view_module_version": "1.2.0",
            "_view_name": "LayoutView",
            "align_content": null,
            "align_items": null,
            "align_self": null,
            "border": null,
            "bottom": null,
            "display": null,
            "flex": null,
            "flex_flow": null,
            "grid_area": null,
            "grid_auto_columns": null,
            "grid_auto_flow": null,
            "grid_auto_rows": null,
            "grid_column": null,
            "grid_gap": null,
            "grid_row": null,
            "grid_template_areas": null,
            "grid_template_columns": null,
            "grid_template_rows": null,
            "height": null,
            "justify_content": null,
            "justify_items": null,
            "left": null,
            "margin": null,
            "max_height": null,
            "max_width": null,
            "min_height": null,
            "min_width": null,
            "object_fit": null,
            "object_position": null,
            "order": null,
            "overflow": null,
            "overflow_x": null,
            "overflow_y": null,
            "padding": null,
            "right": null,
            "top": null,
            "visibility": null,
            "width": null
          }
        },
        "f34d305aebd947edba8b3e40fbf73462": {
          "model_module": "@jupyter-widgets/controls",
          "model_name": "DescriptionStyleModel",
          "model_module_version": "1.5.0",
          "state": {
            "_model_module": "@jupyter-widgets/controls",
            "_model_module_version": "1.5.0",
            "_model_name": "DescriptionStyleModel",
            "_view_count": null,
            "_view_module": "@jupyter-widgets/base",
            "_view_module_version": "1.2.0",
            "_view_name": "StyleView",
            "description_width": ""
          }
        },
        "a1116d33b8254e2e8f7749717f211996": {
          "model_module": "@jupyter-widgets/controls",
          "model_name": "HBoxModel",
          "model_module_version": "1.5.0",
          "state": {
            "_dom_classes": [],
            "_model_module": "@jupyter-widgets/controls",
            "_model_module_version": "1.5.0",
            "_model_name": "HBoxModel",
            "_view_count": null,
            "_view_module": "@jupyter-widgets/controls",
            "_view_module_version": "1.5.0",
            "_view_name": "HBoxView",
            "box_style": "",
            "children": [
              "IPY_MODEL_c029bea20b674ec2808374753d7965b2",
              "IPY_MODEL_837f25368367456288da9e8ce355481f",
              "IPY_MODEL_5663ab503b484550b7de7162d6df64e0"
            ],
            "layout": "IPY_MODEL_adbb2c9b64f943b094e317c298d07fba"
          }
        },
        "c029bea20b674ec2808374753d7965b2": {
          "model_module": "@jupyter-widgets/controls",
          "model_name": "HTMLModel",
          "model_module_version": "1.5.0",
          "state": {
            "_dom_classes": [],
            "_model_module": "@jupyter-widgets/controls",
            "_model_module_version": "1.5.0",
            "_model_name": "HTMLModel",
            "_view_count": null,
            "_view_module": "@jupyter-widgets/controls",
            "_view_module_version": "1.5.0",
            "_view_name": "HTMLView",
            "description": "",
            "description_tooltip": null,
            "layout": "IPY_MODEL_3271ddb2c0f645d99771efe9bdebd7e7",
            "placeholder": "​",
            "style": "IPY_MODEL_494fd08876c247e6819004957c9d4f28",
            "value": "100%"
          }
        },
        "837f25368367456288da9e8ce355481f": {
          "model_module": "@jupyter-widgets/controls",
          "model_name": "FloatProgressModel",
          "model_module_version": "1.5.0",
          "state": {
            "_dom_classes": [],
            "_model_module": "@jupyter-widgets/controls",
            "_model_module_version": "1.5.0",
            "_model_name": "FloatProgressModel",
            "_view_count": null,
            "_view_module": "@jupyter-widgets/controls",
            "_view_module_version": "1.5.0",
            "_view_name": "ProgressView",
            "bar_style": "success",
            "description": "",
            "description_tooltip": null,
            "layout": "IPY_MODEL_2544e507dad24e08a22c5a85567809aa",
            "max": 3,
            "min": 0,
            "orientation": "horizontal",
            "style": "IPY_MODEL_57db6751770d45aab91208324f1589ba",
            "value": 3
          }
        },
        "5663ab503b484550b7de7162d6df64e0": {
          "model_module": "@jupyter-widgets/controls",
          "model_name": "HTMLModel",
          "model_module_version": "1.5.0",
          "state": {
            "_dom_classes": [],
            "_model_module": "@jupyter-widgets/controls",
            "_model_module_version": "1.5.0",
            "_model_name": "HTMLModel",
            "_view_count": null,
            "_view_module": "@jupyter-widgets/controls",
            "_view_module_version": "1.5.0",
            "_view_name": "HTMLView",
            "description": "",
            "description_tooltip": null,
            "layout": "IPY_MODEL_9e8c3db0a32c4b9e86d58c0a5080e6f9",
            "placeholder": "​",
            "style": "IPY_MODEL_e98e3683003b4e8aaf8efabb82259d74",
            "value": " 3/3 [00:32&lt;00:00, 10.89s/it]"
          }
        },
        "adbb2c9b64f943b094e317c298d07fba": {
          "model_module": "@jupyter-widgets/base",
          "model_name": "LayoutModel",
          "model_module_version": "1.2.0",
          "state": {
            "_model_module": "@jupyter-widgets/base",
            "_model_module_version": "1.2.0",
            "_model_name": "LayoutModel",
            "_view_count": null,
            "_view_module": "@jupyter-widgets/base",
            "_view_module_version": "1.2.0",
            "_view_name": "LayoutView",
            "align_content": null,
            "align_items": null,
            "align_self": null,
            "border": null,
            "bottom": null,
            "display": null,
            "flex": null,
            "flex_flow": null,
            "grid_area": null,
            "grid_auto_columns": null,
            "grid_auto_flow": null,
            "grid_auto_rows": null,
            "grid_column": null,
            "grid_gap": null,
            "grid_row": null,
            "grid_template_areas": null,
            "grid_template_columns": null,
            "grid_template_rows": null,
            "height": null,
            "justify_content": null,
            "justify_items": null,
            "left": null,
            "margin": null,
            "max_height": null,
            "max_width": null,
            "min_height": null,
            "min_width": null,
            "object_fit": null,
            "object_position": null,
            "order": null,
            "overflow": null,
            "overflow_x": null,
            "overflow_y": null,
            "padding": null,
            "right": null,
            "top": null,
            "visibility": null,
            "width": null
          }
        },
        "3271ddb2c0f645d99771efe9bdebd7e7": {
          "model_module": "@jupyter-widgets/base",
          "model_name": "LayoutModel",
          "model_module_version": "1.2.0",
          "state": {
            "_model_module": "@jupyter-widgets/base",
            "_model_module_version": "1.2.0",
            "_model_name": "LayoutModel",
            "_view_count": null,
            "_view_module": "@jupyter-widgets/base",
            "_view_module_version": "1.2.0",
            "_view_name": "LayoutView",
            "align_content": null,
            "align_items": null,
            "align_self": null,
            "border": null,
            "bottom": null,
            "display": null,
            "flex": null,
            "flex_flow": null,
            "grid_area": null,
            "grid_auto_columns": null,
            "grid_auto_flow": null,
            "grid_auto_rows": null,
            "grid_column": null,
            "grid_gap": null,
            "grid_row": null,
            "grid_template_areas": null,
            "grid_template_columns": null,
            "grid_template_rows": null,
            "height": null,
            "justify_content": null,
            "justify_items": null,
            "left": null,
            "margin": null,
            "max_height": null,
            "max_width": null,
            "min_height": null,
            "min_width": null,
            "object_fit": null,
            "object_position": null,
            "order": null,
            "overflow": null,
            "overflow_x": null,
            "overflow_y": null,
            "padding": null,
            "right": null,
            "top": null,
            "visibility": null,
            "width": null
          }
        },
        "494fd08876c247e6819004957c9d4f28": {
          "model_module": "@jupyter-widgets/controls",
          "model_name": "DescriptionStyleModel",
          "model_module_version": "1.5.0",
          "state": {
            "_model_module": "@jupyter-widgets/controls",
            "_model_module_version": "1.5.0",
            "_model_name": "DescriptionStyleModel",
            "_view_count": null,
            "_view_module": "@jupyter-widgets/base",
            "_view_module_version": "1.2.0",
            "_view_name": "StyleView",
            "description_width": ""
          }
        },
        "2544e507dad24e08a22c5a85567809aa": {
          "model_module": "@jupyter-widgets/base",
          "model_name": "LayoutModel",
          "model_module_version": "1.2.0",
          "state": {
            "_model_module": "@jupyter-widgets/base",
            "_model_module_version": "1.2.0",
            "_model_name": "LayoutModel",
            "_view_count": null,
            "_view_module": "@jupyter-widgets/base",
            "_view_module_version": "1.2.0",
            "_view_name": "LayoutView",
            "align_content": null,
            "align_items": null,
            "align_self": null,
            "border": null,
            "bottom": null,
            "display": null,
            "flex": null,
            "flex_flow": null,
            "grid_area": null,
            "grid_auto_columns": null,
            "grid_auto_flow": null,
            "grid_auto_rows": null,
            "grid_column": null,
            "grid_gap": null,
            "grid_row": null,
            "grid_template_areas": null,
            "grid_template_columns": null,
            "grid_template_rows": null,
            "height": null,
            "justify_content": null,
            "justify_items": null,
            "left": null,
            "margin": null,
            "max_height": null,
            "max_width": null,
            "min_height": null,
            "min_width": null,
            "object_fit": null,
            "object_position": null,
            "order": null,
            "overflow": null,
            "overflow_x": null,
            "overflow_y": null,
            "padding": null,
            "right": null,
            "top": null,
            "visibility": null,
            "width": null
          }
        },
        "57db6751770d45aab91208324f1589ba": {
          "model_module": "@jupyter-widgets/controls",
          "model_name": "ProgressStyleModel",
          "model_module_version": "1.5.0",
          "state": {
            "_model_module": "@jupyter-widgets/controls",
            "_model_module_version": "1.5.0",
            "_model_name": "ProgressStyleModel",
            "_view_count": null,
            "_view_module": "@jupyter-widgets/base",
            "_view_module_version": "1.2.0",
            "_view_name": "StyleView",
            "bar_color": null,
            "description_width": ""
          }
        },
        "9e8c3db0a32c4b9e86d58c0a5080e6f9": {
          "model_module": "@jupyter-widgets/base",
          "model_name": "LayoutModel",
          "model_module_version": "1.2.0",
          "state": {
            "_model_module": "@jupyter-widgets/base",
            "_model_module_version": "1.2.0",
            "_model_name": "LayoutModel",
            "_view_count": null,
            "_view_module": "@jupyter-widgets/base",
            "_view_module_version": "1.2.0",
            "_view_name": "LayoutView",
            "align_content": null,
            "align_items": null,
            "align_self": null,
            "border": null,
            "bottom": null,
            "display": null,
            "flex": null,
            "flex_flow": null,
            "grid_area": null,
            "grid_auto_columns": null,
            "grid_auto_flow": null,
            "grid_auto_rows": null,
            "grid_column": null,
            "grid_gap": null,
            "grid_row": null,
            "grid_template_areas": null,
            "grid_template_columns": null,
            "grid_template_rows": null,
            "height": null,
            "justify_content": null,
            "justify_items": null,
            "left": null,
            "margin": null,
            "max_height": null,
            "max_width": null,
            "min_height": null,
            "min_width": null,
            "object_fit": null,
            "object_position": null,
            "order": null,
            "overflow": null,
            "overflow_x": null,
            "overflow_y": null,
            "padding": null,
            "right": null,
            "top": null,
            "visibility": null,
            "width": null
          }
        },
        "e98e3683003b4e8aaf8efabb82259d74": {
          "model_module": "@jupyter-widgets/controls",
          "model_name": "DescriptionStyleModel",
          "model_module_version": "1.5.0",
          "state": {
            "_model_module": "@jupyter-widgets/controls",
            "_model_module_version": "1.5.0",
            "_model_name": "DescriptionStyleModel",
            "_view_count": null,
            "_view_module": "@jupyter-widgets/base",
            "_view_module_version": "1.2.0",
            "_view_name": "StyleView",
            "description_width": ""
          }
        }
      }
    }
  },
  "cells": [
    {
      "cell_type": "markdown",
      "metadata": {
        "id": "view-in-github",
        "colab_type": "text"
      },
      "source": [
        "<a href=\"https://colab.research.google.com/github/saivenkatreddy29/Pytorch-Learning/blob/main/Pytorch_Computer_Vision.ipynb\" target=\"_parent\"><img src=\"https://colab.research.google.com/assets/colab-badge.svg\" alt=\"Open In Colab\"/></a>"
      ]
    },
    {
      "cell_type": "code",
      "execution_count": 1,
      "metadata": {
        "id": "8d5cAQBupIPa"
      },
      "outputs": [],
      "source": [
        "import torch\n",
        "import torchvision\n"
      ]
    },
    {
      "cell_type": "code",
      "source": [
        "import torchvision.datasets\n",
        "import torchvision.models"
      ],
      "metadata": {
        "id": "2BUsiFWiq-id"
      },
      "execution_count": 2,
      "outputs": []
    },
    {
      "cell_type": "code",
      "source": [
        "print(torch.__version__)"
      ],
      "metadata": {
        "colab": {
          "base_uri": "https://localhost:8080/"
        },
        "id": "X5JLTZG3pSL6",
        "outputId": "775845f6-55cc-4d04-8b57-fcb0c356de88"
      },
      "execution_count": 3,
      "outputs": [
        {
          "output_type": "stream",
          "name": "stdout",
          "text": [
            "2.4.1+cu121\n"
          ]
        }
      ]
    },
    {
      "cell_type": "code",
      "source": [
        "if torch.cuda.is_available():\n",
        "  device = torch.device('cuda')\n",
        "else:\n",
        "  device = torch.device('cpu')"
      ],
      "metadata": {
        "id": "uE88pH9_9zsj"
      },
      "execution_count": 40,
      "outputs": []
    },
    {
      "cell_type": "code",
      "source": [
        "device"
      ],
      "metadata": {
        "colab": {
          "base_uri": "https://localhost:8080/"
        },
        "id": "RITlGyE49y_q",
        "outputId": "e118277c-8510-4922-c2f2-fb50dc88cdc5"
      },
      "execution_count": 41,
      "outputs": [
        {
          "output_type": "execute_result",
          "data": {
            "text/plain": [
              "device(type='cpu')"
            ]
          },
          "metadata": {},
          "execution_count": 41
        }
      ]
    },
    {
      "cell_type": "code",
      "source": [
        "import matplotlib.pyplot as plt\n",
        "from torchvision.transforms import ToTensor"
      ],
      "metadata": {
        "id": "ShG0LRQIpbcf"
      },
      "execution_count": 4,
      "outputs": []
    },
    {
      "cell_type": "code",
      "source": [
        "train_dataset = torchvision.datasets.FashionMNIST(\n",
        "    root = 'data',\n",
        "    train = True,\n",
        "    download = True,\n",
        "    transform = ToTensor(),\n",
        "    target_transform = None,\n",
        "\n",
        ")"
      ],
      "metadata": {
        "id": "ihGN98tcrt4a"
      },
      "execution_count": 88,
      "outputs": []
    },
    {
      "cell_type": "code",
      "source": [
        "test_dataset = torchvision.datasets.FashionMNIST(\n",
        "    root = 'data',\n",
        "    train = False,\n",
        "    transform = ToTensor(),\n",
        "    download = True,\n",
        "    target_transform = None,\n",
        ")"
      ],
      "metadata": {
        "id": "vV7DkBG6shHy"
      },
      "execution_count": 123,
      "outputs": []
    },
    {
      "cell_type": "code",
      "source": [
        "len(test_dataset)"
      ],
      "metadata": {
        "colab": {
          "base_uri": "https://localhost:8080/"
        },
        "id": "3VEIUugGu_4i",
        "outputId": "469d7f8a-f977-4b16-f99f-0ddceb042e6a"
      },
      "execution_count": 124,
      "outputs": [
        {
          "output_type": "execute_result",
          "data": {
            "text/plain": [
              "10000"
            ]
          },
          "metadata": {},
          "execution_count": 124
        }
      ]
    },
    {
      "cell_type": "code",
      "source": [
        "len(train_dataset)"
      ],
      "metadata": {
        "colab": {
          "base_uri": "https://localhost:8080/"
        },
        "id": "Kizyo54SvFh4",
        "outputId": "901bd48a-de9e-47b2-b510-29d56a9d5276"
      },
      "execution_count": 125,
      "outputs": [
        {
          "output_type": "execute_result",
          "data": {
            "text/plain": [
              "60000"
            ]
          },
          "metadata": {},
          "execution_count": 125
        }
      ]
    },
    {
      "cell_type": "code",
      "source": [
        "classes = train_dataset.classes"
      ],
      "metadata": {
        "id": "fab5E8OQvHY6"
      },
      "execution_count": 126,
      "outputs": []
    },
    {
      "cell_type": "code",
      "source": [
        "image, label = train_dataset[0]"
      ],
      "metadata": {
        "id": "FJBpClfJvbfY"
      },
      "execution_count": 127,
      "outputs": []
    },
    {
      "cell_type": "code",
      "source": [
        "plt.imshow(image.squeeze())\n",
        "plt.title(classes[label]);"
      ],
      "metadata": {
        "colab": {
          "base_uri": "https://localhost:8080/",
          "height": 452
        },
        "id": "jilSNrNovSXG",
        "outputId": "394f0047-51de-4a0e-d40c-132905c2871a"
      },
      "execution_count": 128,
      "outputs": [
        {
          "output_type": "display_data",
          "data": {
            "text/plain": [
              "<Figure size 640x480 with 1 Axes>"
            ],
            "image/png": "[encoded data removed]"
          },
          "metadata": {}
        }
      ]
    },
    {
      "cell_type": "code",
      "source": [
        "plt.imshow(image.squeeze(), cmap = 'gray')\n",
        "plt.title(classes[label]);"
      ],
      "metadata": {
        "colab": {
          "base_uri": "https://localhost:8080/",
          "height": 452
        },
        "id": "SRl-Do4gvYyA",
        "outputId": "947b4a0b-c11f-4a5f-c8b9-4c7991245c2a"
      },
      "execution_count": 129,
      "outputs": [
        {
          "output_type": "display_data",
          "data": {
            "text/plain": [
              "<Figure size 640x480 with 1 Axes>"
            ],
            "image/png": "[encoded data removed]"
          },
          "metadata": {}
        }
      ]
    },
    {
      "cell_type": "code",
      "source": [
        "torch.randint(0,len(train_dataset),(1,))"
      ],
      "metadata": {
        "colab": {
          "base_uri": "https://localhost:8080/"
        },
        "id": "gNAQ_QnR0tq4",
        "outputId": "ba85c40b-243c-40b4-a32b-f0dcda39492a"
      },
      "execution_count": 130,
      "outputs": [
        {
          "output_type": "execute_result",
          "data": {
            "text/plain": [
              "tensor([16307])"
            ]
          },
          "metadata": {},
          "execution_count": 130
        }
      ]
    },
    {
      "cell_type": "code",
      "source": [],
      "metadata": {
        "id": "QcKobj1V27i2"
      },
      "execution_count": 130,
      "outputs": []
    },
    {
      "cell_type": "code",
      "source": [
        "torch.manual_seed(42)\n",
        "fig = plt.figure(figsize=(9, 9))\n",
        "for i in range (1,17):\n",
        "  j = torch.randint(0,len(train_dataset),size = [1]).item()\n",
        "  # print(j)\n",
        "  image, label = train_dataset[j]\n",
        "  fig.add_subplot(4,4,i)\n",
        "  plt.imshow(image.squeeze())\n",
        "  plt.title(classes[label])\n",
        "  plt.axis(False)\n",
        "  # break"
      ],
      "metadata": {
        "colab": {
          "base_uri": "https://localhost:8080/",
          "height": 752
        },
        "id": "7k5BccN3xfU4",
        "outputId": "53dadb2a-0cbf-424c-a14e-f1959af1cd17"
      },
      "execution_count": 131,
      "outputs": [
        {
          "output_type": "display_data",
          "data": {
            "text/plain": [
              "<Figure size 900x900 with 16 Axes>"
            ],
            "image/png": "[encoded data removed]"
          },
          "metadata": {}
        }
      ]
    },
    {
      "cell_type": "code",
      "source": [],
      "metadata": {
        "id": "ya063WG4iRRC"
      },
      "execution_count": 131,
      "outputs": []
    },
    {
      "cell_type": "markdown",
      "source": [
        "# **Preparing Data Loader**"
      ],
      "metadata": {
        "id": "sUfgDsbHBfIi"
      }
    },
    {
      "cell_type": "code",
      "source": [
        "from torch.utils.data import DataLoader"
      ],
      "metadata": {
        "id": "tWDcJoBHx5Cp"
      },
      "execution_count": 132,
      "outputs": []
    },
    {
      "cell_type": "code",
      "source": [
        "train_dataset"
      ],
      "metadata": {
        "colab": {
          "base_uri": "https://localhost:8080/"
        },
        "id": "_Tqi4dGYiG4a",
        "outputId": "a3cf0f0b-1c95-49da-dddd-3d5e9d978dee"
      },
      "execution_count": 133,
      "outputs": [
        {
          "output_type": "execute_result",
          "data": {
            "text/plain": [
              "Dataset FashionMNIST\n",
              "    Number of datapoints: 60000\n",
              "    Root location: data\n",
              "    Split: Train\n",
              "    StandardTransform\n",
              "Transform: ToTensor()"
            ]
          },
          "metadata": {},
          "execution_count": 133
        }
      ]
    },
    {
      "cell_type": "code",
      "source": [
        "test_dataset"
      ],
      "metadata": {
        "colab": {
          "base_uri": "https://localhost:8080/"
        },
        "id": "M6zxWM9JiEPV",
        "outputId": "eed9d2a7-cdce-4a41-87ff-334fdffb6552"
      },
      "execution_count": 134,
      "outputs": [
        {
          "output_type": "execute_result",
          "data": {
            "text/plain": [
              "Dataset FashionMNIST\n",
              "    Number of datapoints: 10000\n",
              "    Root location: data\n",
              "    Split: Test\n",
              "    StandardTransform\n",
              "Transform: ToTensor()"
            ]
          },
          "metadata": {},
          "execution_count": 134
        }
      ]
    },
    {
      "cell_type": "code",
      "source": [
        "train_data = DataLoader(\n",
        "    dataset = train_dataset,\n",
        "    batch_size = 32,\n",
        "    shuffle = True,\n",
        ")\n",
        "\n",
        "test_data = DataLoader(\n",
        "    dataset = test_dataset,\n",
        "    batch_size = 32,\n",
        "    shuffle = False\n",
        ")"
      ],
      "metadata": {
        "id": "fKpCskIV1s0R"
      },
      "execution_count": 135,
      "outputs": []
    },
    {
      "cell_type": "code",
      "source": [
        "train_data, test_data"
      ],
      "metadata": {
        "colab": {
          "base_uri": "https://localhost:8080/"
        },
        "id": "DdUrvG8YCLbN",
        "outputId": "c3a2d5c8-a7e8-49f4-997e-85f06bdd4bc5"
      },
      "execution_count": 136,
      "outputs": [
        {
          "output_type": "execute_result",
          "data": {
            "text/plain": [
              "(<torch.utils.data.dataloader.DataLoader at 0x7d287f8b75e0>,\n",
              " <torch.utils.data.dataloader.DataLoader at 0x7d287f8ed390>)"
            ]
          },
          "metadata": {},
          "execution_count": 136
        }
      ]
    },
    {
      "cell_type": "code",
      "source": [
        "len(train_data)"
      ],
      "metadata": {
        "colab": {
          "base_uri": "https://localhost:8080/"
        },
        "id": "4c3P-eF1CNdl",
        "outputId": "1a09dcf9-3916-49d5-856d-31ecbd9a77b9"
      },
      "execution_count": 137,
      "outputs": [
        {
          "output_type": "execute_result",
          "data": {
            "text/plain": [
              "1875"
            ]
          },
          "metadata": {},
          "execution_count": 137
        }
      ]
    },
    {
      "cell_type": "code",
      "source": [
        "train_batch,train_label = next(iter(train_data))"
      ],
      "metadata": {
        "id": "UNLYmL-kDOZb"
      },
      "execution_count": 138,
      "outputs": []
    },
    {
      "cell_type": "code",
      "source": [
        "train_batch.shape"
      ],
      "metadata": {
        "colab": {
          "base_uri": "https://localhost:8080/"
        },
        "id": "n3wzv4VxEqJD",
        "outputId": "59ddd210-64d6-445f-f3cc-4ae90d66f643"
      },
      "execution_count": 139,
      "outputs": [
        {
          "output_type": "execute_result",
          "data": {
            "text/plain": [
              "torch.Size([32, 1, 28, 28])"
            ]
          },
          "metadata": {},
          "execution_count": 139
        }
      ]
    },
    {
      "cell_type": "code",
      "source": [
        "train_label.shape"
      ],
      "metadata": {
        "colab": {
          "base_uri": "https://localhost:8080/"
        },
        "id": "dmGcAdZZDd72",
        "outputId": "4533e5ad-bf71-4616-b45e-d62f8989200d"
      },
      "execution_count": 140,
      "outputs": [
        {
          "output_type": "execute_result",
          "data": {
            "text/plain": [
              "torch.Size([32])"
            ]
          },
          "metadata": {},
          "execution_count": 140
        }
      ]
    },
    {
      "cell_type": "code",
      "source": [
        "train_batch[0].squeeze().shape"
      ],
      "metadata": {
        "colab": {
          "base_uri": "https://localhost:8080/"
        },
        "id": "J8YeHG7yHKF6",
        "outputId": "f89bb62b-c514-49b1-aa65-b0787d111f61"
      },
      "execution_count": 141,
      "outputs": [
        {
          "output_type": "execute_result",
          "data": {
            "text/plain": [
              "torch.Size([28, 28])"
            ]
          },
          "metadata": {},
          "execution_count": 141
        }
      ]
    },
    {
      "cell_type": "code",
      "source": [
        "# torch.manual_seed(42)\n",
        "j = torch.randint(0, len(train_batch), size = [1]).item()\n",
        "print(j)\n",
        "plt.imshow(train_batch[j].squeeze(), cmap = 'gray');\n",
        "plt.title(train_label[j]);"
      ],
      "metadata": {
        "colab": {
          "base_uri": "https://localhost:8080/",
          "height": 469
        },
        "id": "pcPJOEfGDqN7",
        "outputId": "a45ae2c1-83c8-493d-ea1b-cc8adcecd7ab"
      },
      "execution_count": 142,
      "outputs": [
        {
          "output_type": "stream",
          "name": "stdout",
          "text": [
            "21\n"
          ]
        },
        {
          "output_type": "display_data",
          "data": {
            "text/plain": [
              "<Figure size 640x480 with 1 Axes>"
            ],
            "image/png": "[encoded data removed]"
          },
          "metadata": {}
        }
      ]
    },
    {
      "cell_type": "markdown",
      "source": [
        "# **Create a model**"
      ],
      "metadata": {
        "id": "q_pnegBLHn63"
      }
    },
    {
      "cell_type": "code",
      "source": [
        "import torch.nn as nn"
      ],
      "metadata": {
        "id": "2oYdLnLUHzyn"
      },
      "execution_count": 143,
      "outputs": []
    },
    {
      "cell_type": "code",
      "source": [
        "class FashionMNSTv1(nn.Module):\n",
        "  def __init__(self, input_shape, hidden_layer, output_shape):\n",
        "    super().__init__()\n",
        "\n",
        "    self.stack = nn.Sequential(\n",
        "        nn.Flatten(),\n",
        "        nn.Linear(input_shape, hidden_layer),\n",
        "        nn.Linear(hidden_layer, output_shape),\n",
        "    )\n",
        "\n",
        "  def forward(self,x):\n",
        "    return self.stack(x)"
      ],
      "metadata": {
        "id": "0TpFE-NFHGoE"
      },
      "execution_count": 144,
      "outputs": []
    },
    {
      "cell_type": "code",
      "source": [],
      "metadata": {
        "id": "02goYqbYJKvT"
      },
      "execution_count": 144,
      "outputs": []
    },
    {
      "cell_type": "code",
      "source": [
        "model0 = FashionMNSTv1(input_shape = (28 * 28), hidden_layer = 10,output_shape = len(classes))\n",
        "model0"
      ],
      "metadata": {
        "colab": {
          "base_uri": "https://localhost:8080/"
        },
        "id": "4UdP5npaI9Sr",
        "outputId": "d62a19a1-ca48-4315-9169-4a9bb760bd3c"
      },
      "execution_count": 145,
      "outputs": [
        {
          "output_type": "execute_result",
          "data": {
            "text/plain": [
              "FashionMNSTv1(\n",
              "  (stack): Sequential(\n",
              "    (0): Flatten(start_dim=1, end_dim=-1)\n",
              "    (1): Linear(in_features=784, out_features=10, bias=True)\n",
              "    (2): Linear(in_features=10, out_features=10, bias=True)\n",
              "  )\n",
              ")"
            ]
          },
          "metadata": {},
          "execution_count": 145
        }
      ]
    },
    {
      "cell_type": "code",
      "source": [
        "import requests\n",
        "from pathlib import Path\n",
        "\n",
        "if Path('helper_functions.py').is_file():\n",
        "  print('The helper file already exists')\n",
        "else:\n",
        "  helper = requests.get(\"https://raw.githubusercontent.com/mrdbourke/pytorch-deep-learning/main/helper_functions.py\")\n"
      ],
      "metadata": {
        "id": "6bNcnA09JQAp"
      },
      "execution_count": 146,
      "outputs": []
    },
    {
      "cell_type": "code",
      "source": [
        "with open('/content/helper_function.py', 'wb') as f:\n",
        "  f.write(helper.content)"
      ],
      "metadata": {
        "id": "toHmHgjb4sG3"
      },
      "execution_count": 147,
      "outputs": []
    },
    {
      "cell_type": "code",
      "source": [
        "from helper_function import accuracy_fn"
      ],
      "metadata": {
        "id": "YLuNIDm35oIw"
      },
      "execution_count": 148,
      "outputs": []
    },
    {
      "cell_type": "code",
      "source": [
        "# create loss adn accuracy\n",
        "import torch.nn as nn\n",
        "loss_fn = nn.CrossEntropyLoss()\n",
        "optimizer = torch.optim.SGD(params = model0.parameters(), lr =0.1)"
      ],
      "metadata": {
        "id": "HR1Em07s5vrx"
      },
      "execution_count": 149,
      "outputs": []
    },
    {
      "cell_type": "markdown",
      "source": [
        "# **Creating timer to track our time**"
      ],
      "metadata": {
        "id": "L9Dlaav26i3O"
      }
    },
    {
      "cell_type": "code",
      "source": [
        "def print_time(start,end,device):\n",
        "  total_time = end - start\n",
        "  print(f'the time on {device} is {total_time}')\n",
        "  return end-start"
      ],
      "metadata": {
        "id": "mJ3gawAZ9bNy"
      },
      "execution_count": 179,
      "outputs": []
    },
    {
      "cell_type": "code",
      "source": [
        "from timeit import default_timer as time\n"
      ],
      "metadata": {
        "id": "hIpPQMHx6Hvq"
      },
      "execution_count": 180,
      "outputs": []
    },
    {
      "cell_type": "code",
      "source": [
        "# Write the training loop\n",
        "from tqdm.auto import tqdm\n",
        "epochs = 3\n",
        "\n",
        "start_timeon_cpu = time()\n",
        "for epoch in tqdm(range(epochs)):\n",
        "  print(f'The epoch is {epoch} ---->')\n",
        "\n",
        "  train_loss = 0\n",
        "  model0.train()\n",
        "  for batch,(X,y) in enumerate(train_data):\n",
        "\n",
        "    y_logits = model0(X)\n",
        "    batch_loss = loss_fn(y_logits,y)\n",
        "    train_loss += batch_loss.item()\n",
        "\n",
        "    optimizer.zero_grad()\n",
        "    batch_loss.backward()\n",
        "    optimizer.step()\n",
        "    if batch % 400 ==0:\n",
        "      print(f'training for the batch {batch * len(X)}/{len(train_dataset)}')\n",
        "  train_loss /= len(train_data)\n",
        "  model0.eval()\n",
        "  test_acc, test_loss= 0,0\n",
        "\n",
        "  with torch.inference_mode():\n",
        "    for X,y in test_data:\n",
        "      y_tlogits = model0(X)\n",
        "      batch_loss = loss_fn(y_tlogits, y)\n",
        "      test_loss += batch_loss.item()\n",
        "      accuracy = accuracy_fn(y,y_tlogits.argmax(dim = 1))\n",
        "      test_acc += accuracy\n",
        "\n",
        "  test_loss /= len(test_data)\n",
        "  test_acc /= len(test_data)\n",
        "  end_time_on_cpu = time()\n",
        "  totaltime = print_time(start_timeon_cpu, end_time_on_cpu, 'cpu')\n",
        "  # print(start_timeon_cpu)\n",
        "  # print(end_time_on_cpu)\n",
        "  print(f'\\nthe average training loss of epoch is {train_loss} the test_loss:{test_loss}, test_accuracy:{test_acc}\\n')\n",
        "\n",
        "\n",
        "\n",
        "\n",
        "\n",
        ""
      ],
      "metadata": {
        "colab": {
          "base_uri": "https://localhost:8080/",
          "height": 590,
          "referenced_widgets": [
            "13ee83b4873343aeb8d4cc60049dff04",
            "1d7709e76137461ab52da2ac5c857e3c",
            "48cd01807f3241c3971a5289ad6c0508",
            "bf1462a412404a30b743543bb9924e00",
            "f6ce4f144cda43d49e7e3ba4b8d1975e",
            "8edfd42d570f47b9b4c5be7c17abfc25",
            "3b2074dbedf348d099c102d9f98aafe4",
            "6f6cac7b7eef4fada746f1a5d8204097",
            "68123c4b0dc34be7a889def446f26594",
            "e9b21e75577747c4be48f0c4315232cf",
            "f34d305aebd947edba8b3e40fbf73462"
          ]
        },
        "id": "s8sz4m9b9anE",
        "outputId": "21987874-9ab9-4fcd-e294-3ee45693a7d8"
      },
      "execution_count": 181,
      "outputs": [
        {
          "output_type": "display_data",
          "data": {
            "text/plain": [
              "  0%|          | 0/3 [00:00<?, ?it/s]"
            ],
            "application/vnd.jupyter.widget-view+json": {
              "version_major": 2,
              "version_minor": 0,
              "model_id": "13ee83b4873343aeb8d4cc60049dff04"
            }
          },
          "metadata": {}
        },
        {
          "output_type": "stream",
          "name": "stdout",
          "text": [
            "The epoch is 0 ---->\n",
            "training for the batch 0/60000\n",
            "training for the batch 12800/60000\n",
            "training for the batch 25600/60000\n",
            "training for the batch 38400/60000\n",
            "training for the batch 51200/60000\n",
            "the time on cpu is 10.678462501997274\n",
            "\n",
            "the average training loss of epoch is 0.3959162397702535 the test_loss:0.47829070987221534, test_accuracy:83.22683706070288\n",
            "\n",
            "The epoch is 1 ---->\n",
            "training for the batch 0/60000\n",
            "training for the batch 12800/60000\n",
            "training for the batch 25600/60000\n",
            "training for the batch 38400/60000\n",
            "training for the batch 51200/60000\n",
            "the time on cpu is 21.27934601099696\n",
            "\n",
            "the average training loss of epoch is 0.39479763928453127 the test_loss:0.4604823926386361, test_accuracy:83.93570287539936\n",
            "\n",
            "The epoch is 2 ---->\n",
            "training for the batch 0/60000\n",
            "training for the batch 12800/60000\n",
            "training for the batch 25600/60000\n",
            "training for the batch 38400/60000\n",
            "training for the batch 51200/60000\n",
            "the time on cpu is 31.881706373998895\n",
            "\n",
            "the average training loss of epoch is 0.39595196483532585 the test_loss:0.4638498077948634, test_accuracy:83.90575079872204\n",
            "\n"
          ]
        }
      ]
    },
    {
      "cell_type": "markdown",
      "source": [
        "# **Non linear model**"
      ],
      "metadata": {
        "id": "sdM8g4Pl_Zgj"
      }
    },
    {
      "cell_type": "code",
      "source": [
        "class FashionMNSTv1(nn.Module):\n",
        "  def __init__(self, input_layers, hidden_layers, output_layers):\n",
        "    super().__init__()\n",
        "    self.stack = nn.Sequential(\n",
        "        nn.Flatten(),\n",
        "        nn.Linear(input_layers, hidden_layers),\n",
        "        nn.ReLU(),\n",
        "        nn.Linear(hidden_layers, output_layers),\n",
        "        nn.ReLU()\n",
        "    )\n",
        "\n",
        "  def forward(self, x):\n",
        "    return self.stack(x)"
      ],
      "metadata": {
        "id": "K-nixT774Hu4"
      },
      "execution_count": 194,
      "outputs": []
    },
    {
      "cell_type": "code",
      "source": [
        "model1 = FashionMNSTv1((28 * 28), 10, len(classes))\n",
        "model1"
      ],
      "metadata": {
        "colab": {
          "base_uri": "https://localhost:8080/"
        },
        "id": "vnf7UgBsAP6s",
        "outputId": "5b3a9373-1b50-40c8-f429-8dcdedcb21e4"
      },
      "execution_count": 216,
      "outputs": [
        {
          "output_type": "execute_result",
          "data": {
            "text/plain": [
              "FashionMNSTv1(\n",
              "  (stack): Sequential(\n",
              "    (0): Flatten(start_dim=1, end_dim=-1)\n",
              "    (1): Linear(in_features=784, out_features=10, bias=True)\n",
              "    (2): ReLU()\n",
              "    (3): Linear(in_features=10, out_features=10, bias=True)\n",
              "    (4): ReLU()\n",
              "  )\n",
              ")"
            ]
          },
          "metadata": {},
          "execution_count": 216
        }
      ]
    },
    {
      "cell_type": "code",
      "source": [
        "loss_fn = nn.CrossEntropyLoss()\n",
        "optimizer = torch.optim.SGD(params = model1.parameters(), lr = 0.1)\n"
      ],
      "metadata": {
        "id": "G23sy0vaAcKu"
      },
      "execution_count": 217,
      "outputs": []
    },
    {
      "cell_type": "code",
      "source": [
        "len(train_dataset)"
      ],
      "metadata": {
        "colab": {
          "base_uri": "https://localhost:8080/"
        },
        "id": "lplT9mkwRHki",
        "outputId": "2d744330-1ae8-4197-a6ab-20ae04c70a16"
      },
      "execution_count": 218,
      "outputs": [
        {
          "output_type": "execute_result",
          "data": {
            "text/plain": [
              "60000"
            ]
          },
          "metadata": {},
          "execution_count": 218
        }
      ]
    },
    {
      "cell_type": "code",
      "source": [
        "def train_step(model,train_data,loss_fn, optimizer):\n",
        "  train_loss = 0\n",
        "  model.train()\n",
        "  for batch, (X,y) in enumerate(train_data):\n",
        "    train_logits = model1(X)\n",
        "    batch_loss = loss_fn(train_logits, y)\n",
        "    train_loss += batch_loss.item()\n",
        "\n",
        "    optimizer.zero_grad()\n",
        "    batch_loss.backward()\n",
        "    optimizer.step()\n",
        "    if batch % 400 ==0:\n",
        "      print(f'running {batch * len(X)}/ {len(train_dataset)}')\n",
        "  train_loss /= len(train_data)\n",
        "  print(f'the training loss :{train_loss}')\n",
        "\n",
        "### Test Loop\n",
        "def test_step(model,test_data,loss_fn, optimizer, accuracy_fn):\n",
        "  model.eval()\n",
        "  test_loss, test_acc = 0,0\n",
        "  for X,y in test_data:\n",
        "    with torch.inference_mode():\n",
        "      test_logits = model(X)\n",
        "      batch_loss = loss_fn(test_logits, y)\n",
        "      test_loss += batch_loss.item()\n",
        "      batch_acc = accuracy_fn(y,test_logits.argmax(dim =1))\n",
        "      test_acc += batch_acc\n",
        "  test_loss /= len(test_data)\n",
        "  test_acc /= len(test_data)\n",
        "  print(f'testing_loss:{test_loss}, testing_acc:{test_acc}\\n')\n",
        "\n",
        "\n"
      ],
      "metadata": {
        "id": "m4ji8Kj-BNLw"
      },
      "execution_count": 219,
      "outputs": []
    },
    {
      "cell_type": "code",
      "source": [
        "epochs = 3\n",
        "for epoch in tqdm(range(epochs)):\n",
        "  print(f'The results of epoch {epoch}')\n",
        "  train_step(model1, train_data,loss_fn, optimizer)\n",
        "  test_step(model1, test_data,loss_fn, optimizer, accuracy_fn)"
      ],
      "metadata": {
        "colab": {
          "base_uri": "https://localhost:8080/",
          "height": 518,
          "referenced_widgets": [
            "a1116d33b8254e2e8f7749717f211996",
            "c029bea20b674ec2808374753d7965b2",
            "837f25368367456288da9e8ce355481f",
            "5663ab503b484550b7de7162d6df64e0",
            "adbb2c9b64f943b094e317c298d07fba",
            "3271ddb2c0f645d99771efe9bdebd7e7",
            "494fd08876c247e6819004957c9d4f28",
            "2544e507dad24e08a22c5a85567809aa",
            "57db6751770d45aab91208324f1589ba",
            "9e8c3db0a32c4b9e86d58c0a5080e6f9",
            "e98e3683003b4e8aaf8efabb82259d74"
          ]
        },
        "id": "vb5AULNbPZyn",
        "outputId": "23665629-df35-439d-d50e-0e590111b5fa"
      },
      "execution_count": 221,
      "outputs": [
        {
          "output_type": "display_data",
          "data": {
            "text/plain": [
              "  0%|          | 0/3 [00:00<?, ?it/s]"
            ],
            "application/vnd.jupyter.widget-view+json": {
              "version_major": 2,
              "version_minor": 0,
              "model_id": "a1116d33b8254e2e8f7749717f211996"
            }
          },
          "metadata": {}
        },
        {
          "output_type": "stream",
          "name": "stdout",
          "text": [
            "The results of epoch 0\n",
            "running 0/ 60000\n",
            "running 12800/ 60000\n",
            "running 25600/ 60000\n",
            "running 38400/ 60000\n",
            "running 51200/ 60000\n",
            "the training loss :0.9277604061603546\n",
            "testing_loss:0.87631417925175, testing_acc:70.62699680511182\n",
            "\n",
            "The results of epoch 1\n",
            "running 0/ 60000\n",
            "running 12800/ 60000\n",
            "running 25600/ 60000\n",
            "running 38400/ 60000\n",
            "running 51200/ 60000\n",
            "the training loss :0.8662296848773956\n",
            "testing_loss:0.950346605465435, testing_acc:67.71166134185303\n",
            "\n",
            "The results of epoch 2\n",
            "running 0/ 60000\n",
            "running 12800/ 60000\n",
            "running 25600/ 60000\n",
            "running 38400/ 60000\n",
            "running 51200/ 60000\n",
            "the training loss :0.8467207236289978\n",
            "testing_loss:0.8804194464946327, testing_acc:70.14776357827476\n",
            "\n"
          ]
        }
      ]
    },
    {
      "cell_type": "code",
      "source": [],
      "metadata": {
        "id": "P6FPRE7-UCSX"
      },
      "execution_count": null,
      "outputs": []
    }
  ]
}
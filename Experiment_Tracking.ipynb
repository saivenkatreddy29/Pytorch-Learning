{
  "nbformat": 4,
  "nbformat_minor": 0,
  "metadata": {
    "colab": {
      "provenance": [],
      "authorship_tag": "ABX9TyM7wT58esNVKL8zdqLMwqZr",
      "include_colab_link": true
    },
    "kernelspec": {
      "name": "python3",
      "display_name": "Python 3"
    },
    "language_info": {
      "name": "python"
    }
  },
  "cells": [
    {
      "cell_type": "markdown",
      "metadata": {
        "id": "view-in-github",
        "colab_type": "text"
      },
      "source": [
        "<a href=\"https://colab.research.google.com/github/saivenkatreddy29/Pytorch-Learning/blob/main/Experiment_Tracking.ipynb\" target=\"_parent\"><img src=\"https://colab.research.google.com/assets/colab-badge.svg\" alt=\"Open In Colab\"/></a>"
      ]
    },
    {
      "cell_type": "code",
      "execution_count": null,
      "metadata": {
        "id": "ukh5-mR2roUS"
      },
      "outputs": [],
      "source": [
        "import torch\n",
        "import torch.nn as nn\n"
      ]
    },
    {
      "cell_type": "code",
      "source": [
        "try:\n",
        "  import torchinfo\n",
        "except:\n",
        "  print(f'[Info] The module is not installed installing it now')\n",
        "  !pip install torchinfo -q\n",
        "  import torchinfo"
      ],
      "metadata": {
        "colab": {
          "base_uri": "https://localhost:8080/"
        },
        "id": "dkIzftxZuTBN",
        "outputId": "b44d8df6-b89b-4f1b-93a9-2140d9716b29"
      },
      "execution_count": null,
      "outputs": [
        {
          "output_type": "stream",
          "name": "stdout",
          "text": [
            "[Info] The module is not installed installing it now\n"
          ]
        }
      ]
    },
    {
      "cell_type": "code",
      "source": [
        "try:\n",
        "  from going_modular import data_setup, engine\n",
        "except:\n",
        "  print(f'[Info] The module is not installed getting it from github')\n",
        "  !git clone https://github.com/mrdbourke/pytorch-deep-learning\n",
        "  !mv pytorch-deep-learning/going_modular .\n",
        "  !rm -rf pytorch-deep-learning\n",
        "  from going_modular.going_modular import data_setup,engine"
      ],
      "metadata": {
        "id": "Rv2yWQFVujpu",
        "colab": {
          "base_uri": "https://localhost:8080/"
        },
        "outputId": "34c3cd38-c8ca-4a0c-e0e2-076c84beba3b"
      },
      "execution_count": null,
      "outputs": [
        {
          "output_type": "stream",
          "name": "stdout",
          "text": [
            "[Info] The module is not installed getting it from github\n",
            "Cloning into 'pytorch-deep-learning'...\n",
            "remote: Enumerating objects: 4356, done.\u001b[K\n",
            "remote: Counting objects: 100% (321/321), done.\u001b[K\n",
            "remote: Compressing objects: 100% (142/142), done.\u001b[K\n",
            "remote: Total 4356 (delta 213), reused 254 (delta 178), pack-reused 4035 (from 1)\u001b[K\n",
            "Receiving objects: 100% (4356/4356), 654.51 MiB | 24.68 MiB/s, done.\n",
            "Resolving deltas: 100% (2585/2585), done.\n",
            "Updating files: 100% (248/248), done.\n"
          ]
        }
      ]
    },
    {
      "cell_type": "code",
      "source": [
        "from going_modular.going_modular import data_setup,engine"
      ],
      "metadata": {
        "id": "YqnedqMrvySj"
      },
      "execution_count": null,
      "outputs": []
    },
    {
      "cell_type": "markdown",
      "source": [
        "**Make paths and get the data**"
      ],
      "metadata": {
        "id": "MFD4t7olzFlv"
      }
    },
    {
      "cell_type": "code",
      "source": [
        "from pathlib import Path\n",
        "import requests\n",
        "from zipfile import ZipFile\n",
        "import os\n",
        "def download_data(source,\n",
        "                  destination,\n",
        "                  remove_zip):\n",
        "\n",
        "\n",
        "  with open(destination/'data.zip','wb') as f:\n",
        "    request = requests.get(source)\n",
        "    f.write(request.content)\n",
        "\n",
        "  with ZipFile(destination/'data.zip','r') as zip_ref:\n",
        "    zip_ref.extractall(destination)\n",
        "\n",
        "\n",
        "\n"
      ],
      "metadata": {
        "id": "LHgoh2kYwIi3"
      },
      "execution_count": null,
      "outputs": []
    },
    {
      "cell_type": "code",
      "source": [
        "source=\"https://github.com/mrdbourke/pytorch-deep-learning/raw/main/data/pizza_steak_sushi.zip\"\n",
        "data = Path('data/')\n",
        "image_path = data/'pizza_steak_sushi'\n",
        "image_path.mkdir(parents = True, exist_ok = True)\n",
        "download_data(source = source, destination = image_path, remove_zip = True)"
      ],
      "metadata": {
        "collapsed": true,
        "id": "FrhokXpl03yl"
      },
      "execution_count": null,
      "outputs": []
    },
    {
      "cell_type": "code",
      "source": [
        "source"
      ],
      "metadata": {
        "id": "_bTr7WlP1s_n",
        "colab": {
          "base_uri": "https://localhost:8080/",
          "height": 35
        },
        "outputId": "1879c90f-a375-4879-a9c6-6721d3cd10ba"
      },
      "execution_count": null,
      "outputs": [
        {
          "output_type": "execute_result",
          "data": {
            "text/plain": [
              "'https://github.com/mrdbourke/pytorch-deep-learning/raw/main/data/pizza_steak_sushi.zip'"
            ],
            "application/vnd.google.colaboratory.intrinsic+json": {
              "type": "string"
            }
          },
          "metadata": {},
          "execution_count": 7
        }
      ]
    },
    {
      "cell_type": "code",
      "source": [
        "train_dir = image_path/'train'\n",
        "test_dir = image_path/'test'"
      ],
      "metadata": {
        "id": "P4PUD-4QdndK"
      },
      "execution_count": null,
      "outputs": []
    },
    {
      "cell_type": "code",
      "source": [
        "import torchvision\n",
        "weights = torchvision.models.EfficientNet_B0_Weights.DEFAULT"
      ],
      "metadata": {
        "id": "2fRsCSn4d_jy"
      },
      "execution_count": null,
      "outputs": []
    },
    {
      "cell_type": "code",
      "source": [
        "auto_transform = weights.transforms"
      ],
      "metadata": {
        "id": "3YDIvf45fbqq"
      },
      "execution_count": null,
      "outputs": []
    },
    {
      "cell_type": "code",
      "source": [
        "train_dataloder, test_dataloder, class_names = data_setup.create_dataloaders(train_dir,\n",
        "                              test_dir,\n",
        "                              transform = auto_transform,\n",
        "                              batch_size = 32,\n",
        "\n",
        "      )"
      ],
      "metadata": {
        "id": "PkKCyNJBdSTI"
      },
      "execution_count": null,
      "outputs": []
    },
    {
      "cell_type": "code",
      "source": [],
      "metadata": {
        "id": "KphkvL8Ddhbx"
      },
      "execution_count": null,
      "outputs": []
    }
  ]
}
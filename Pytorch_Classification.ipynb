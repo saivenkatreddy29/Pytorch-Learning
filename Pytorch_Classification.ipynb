{
  "nbformat": 4,
  "nbformat_minor": 0,
  "metadata": {
    "colab": {
      "provenance": [],
      "authorship_tag": "ABX9TyMRt+fWx8XT0v53oWBRsAHB",
      "include_colab_link": true
    },
    "kernelspec": {
      "name": "python3",
      "display_name": "Python 3"
    },
    "language_info": {
      "name": "python"
    }
  },
  "cells": [
    {
      "cell_type": "markdown",
      "metadata": {
        "id": "view-in-github",
        "colab_type": "text"
      },
      "source": [
        "<a href=\"https://colab.research.google.com/github/saivenkatreddy29/Pytorch-Learning/blob/main/Pytorch_Classification.ipynb\" target=\"_parent\"><img src=\"https://colab.research.google.com/assets/colab-badge.svg\" alt=\"Open In Colab\"/></a>"
      ]
    },
    {
      "cell_type": "code",
      "execution_count": 19,
      "metadata": {
        "id": "UV1aj1GiShga"
      },
      "outputs": [],
      "source": [
        "import tensorflow as tf\n",
        "import sklearn as sk\n"
      ]
    },
    {
      "cell_type": "code",
      "source": [
        "import pandas as pd\n",
        "import matplotlib.pyplot as plt"
      ],
      "metadata": {
        "id": "cbfXzomxyrC4"
      },
      "execution_count": 20,
      "outputs": []
    },
    {
      "cell_type": "code",
      "source": [
        "from sklearn.datasets import make_circles\n",
        "X,y = make_circles(n_samples = 1000)"
      ],
      "metadata": {
        "id": "60ivbMWVx_6c"
      },
      "execution_count": 21,
      "outputs": []
    },
    {
      "cell_type": "code",
      "source": [
        "data = pd.DataFrame(data = {'variable1' : X[:,0], 'variable2': X[:,1], 'label': y})"
      ],
      "metadata": {
        "id": "441Vaypqyaf0"
      },
      "execution_count": 22,
      "outputs": []
    },
    {
      "cell_type": "code",
      "source": [
        "data"
      ],
      "metadata": {
        "colab": {
          "base_uri": "https://localhost:8080/",
          "height": 423
        },
        "id": "J_p0Zp6kybjN",
        "outputId": "34314645-c0f0-45ca-b787-24c842adb9ef"
      },
      "execution_count": 23,
      "outputs": [
        {
          "output_type": "execute_result",
          "data": {
            "text/plain": [
              "     variable1  variable2  label\n",
              "0     0.990461  -0.137790      0\n",
              "1    -0.248690  -0.968583      0\n",
              "2     0.723862  -0.340623      1\n",
              "3     0.394182  -0.696147      1\n",
              "4    -0.799937  -0.010053      1\n",
              "..         ...        ...    ...\n",
              "995  -0.947098  -0.320944      0\n",
              "996  -0.587785   0.809017      0\n",
              "997  -0.037690   0.999289      0\n",
              "998  -0.208673   0.772305      1\n",
              "999   0.984564  -0.175023      0\n",
              "\n",
              "[1000 rows x 3 columns]"
            ],
            "text/html": [
              "\n",
              "  <div id=\"df-12480a5b-628b-41a8-b3c7-c0335a29ce49\" class=\"colab-df-container\">\n",
              "    <div>\n",
              "<style scoped>\n",
              "    .dataframe tbody tr th:only-of-type {\n",
              "        vertical-align: middle;\n",
              "    }\n",
              "\n",
              "    .dataframe tbody tr th {\n",
              "        vertical-align: top;\n",
              "    }\n",
              "\n",
              "    .dataframe thead th {\n",
              "        text-align: right;\n",
              "    }\n",
              "</style>\n",
              "<table border=\"1\" class=\"dataframe\">\n",
              "  <thead>\n",
              "    <tr style=\"text-align: right;\">\n",
              "      <th></th>\n",
              "      <th>variable1</th>\n",
              "      <th>variable2</th>\n",
              "      <th>label</th>\n",
              "    </tr>\n",
              "  </thead>\n",
              "  <tbody>\n",
              "    <tr>\n",
              "      <th>0</th>\n",
              "      <td>0.990461</td>\n",
              "      <td>-0.137790</td>\n",
              "      <td>0</td>\n",
              "    </tr>\n",
              "    <tr>\n",
              "      <th>1</th>\n",
              "      <td>-0.248690</td>\n",
              "      <td>-0.968583</td>\n",
              "      <td>0</td>\n",
              "    </tr>\n",
              "    <tr>\n",
              "      <th>2</th>\n",
              "      <td>0.723862</td>\n",
              "      <td>-0.340623</td>\n",
              "      <td>1</td>\n",
              "    </tr>\n",
              "    <tr>\n",
              "      <th>3</th>\n",
              "      <td>0.394182</td>\n",
              "      <td>-0.696147</td>\n",
              "      <td>1</td>\n",
              "    </tr>\n",
              "    <tr>\n",
              "      <th>4</th>\n",
              "      <td>-0.799937</td>\n",
              "      <td>-0.010053</td>\n",
              "      <td>1</td>\n",
              "    </tr>\n",
              "    <tr>\n",
              "      <th>...</th>\n",
              "      <td>...</td>\n",
              "      <td>...</td>\n",
              "      <td>...</td>\n",
              "    </tr>\n",
              "    <tr>\n",
              "      <th>995</th>\n",
              "      <td>-0.947098</td>\n",
              "      <td>-0.320944</td>\n",
              "      <td>0</td>\n",
              "    </tr>\n",
              "    <tr>\n",
              "      <th>996</th>\n",
              "      <td>-0.587785</td>\n",
              "      <td>0.809017</td>\n",
              "      <td>0</td>\n",
              "    </tr>\n",
              "    <tr>\n",
              "      <th>997</th>\n",
              "      <td>-0.037690</td>\n",
              "      <td>0.999289</td>\n",
              "      <td>0</td>\n",
              "    </tr>\n",
              "    <tr>\n",
              "      <th>998</th>\n",
              "      <td>-0.208673</td>\n",
              "      <td>0.772305</td>\n",
              "      <td>1</td>\n",
              "    </tr>\n",
              "    <tr>\n",
              "      <th>999</th>\n",
              "      <td>0.984564</td>\n",
              "      <td>-0.175023</td>\n",
              "      <td>0</td>\n",
              "    </tr>\n",
              "  </tbody>\n",
              "</table>\n",
              "<p>1000 rows × 3 columns</p>\n",
              "</div>\n",
              "    <div class=\"colab-df-buttons\">\n",
              "\n",
              "  <div class=\"colab-df-container\">\n",
              "    <button class=\"colab-df-convert\" onclick=\"convertToInteractive('df-12480a5b-628b-41a8-b3c7-c0335a29ce49')\"\n",
              "            title=\"Convert this dataframe to an interactive table.\"\n",
              "            style=\"display:none;\">\n",
              "\n",
              "  <svg xmlns=\"http://www.w3.org/2000/svg\" height=\"24px\" viewBox=\"0 -960 960 960\">\n",
              "    <path d=\"M120-120v-720h720v720H120Zm60-500h600v-160H180v160Zm220 220h160v-160H400v160Zm0 220h160v-160H400v160ZM180-400h160v-160H180v160Zm440 0h160v-160H620v160ZM180-180h160v-160H180v160Zm440 0h160v-160H620v160Z\"/>\n",
              "  </svg>\n",
              "    </button>\n",
              "\n",
              "  <style>\n",
              "    .colab-df-container {\n",
              "      display:flex;\n",
              "      gap: 12px;\n",
              "    }\n",
              "\n",
              "    .colab-df-convert {\n",
              "      background-color: #E8F0FE;\n",
              "      border: none;\n",
              "      border-radius: 50%;\n",
              "      cursor: pointer;\n",
              "      display: none;\n",
              "      fill: #1967D2;\n",
              "      height: 32px;\n",
              "      padding: 0 0 0 0;\n",
              "      width: 32px;\n",
              "    }\n",
              "\n",
              "    .colab-df-convert:hover {\n",
              "      background-color: #E2EBFA;\n",
              "      box-shadow: 0px 1px 2px rgba(60, 64, 67, 0.3), 0px 1px 3px 1px rgba(60, 64, 67, 0.15);\n",
              "      fill: #174EA6;\n",
              "    }\n",
              "\n",
              "    .colab-df-buttons div {\n",
              "      margin-bottom: 4px;\n",
              "    }\n",
              "\n",
              "    [theme=dark] .colab-df-convert {\n",
              "      background-color: #3B4455;\n",
              "      fill: #D2E3FC;\n",
              "    }\n",
              "\n",
              "    [theme=dark] .colab-df-convert:hover {\n",
              "      background-color: #434B5C;\n",
              "      box-shadow: 0px 1px 3px 1px rgba(0, 0, 0, 0.15);\n",
              "      filter: drop-shadow(0px 1px 2px rgba(0, 0, 0, 0.3));\n",
              "      fill: #FFFFFF;\n",
              "    }\n",
              "  </style>\n",
              "\n",
              "    <script>\n",
              "      const buttonEl =\n",
              "        document.querySelector('#df-12480a5b-628b-41a8-b3c7-c0335a29ce49 button.colab-df-convert');\n",
              "      buttonEl.style.display =\n",
              "        google.colab.kernel.accessAllowed ? 'block' : 'none';\n",
              "\n",
              "      async function convertToInteractive(key) {\n",
              "        const element = document.querySelector('#df-12480a5b-628b-41a8-b3c7-c0335a29ce49');\n",
              "        const dataTable =\n",
              "          await google.colab.kernel.invokeFunction('convertToInteractive',\n",
              "                                                    [key], {});\n",
              "        if (!dataTable) return;\n",
              "\n",
              "        const docLinkHtml = 'Like what you see? Visit the ' +\n",
              "          '<a target=\"_blank\" href=https://colab.research.google.com/notebooks/data_table.ipynb>data table notebook</a>'\n",
              "          + ' to learn more about interactive tables.';\n",
              "        element.innerHTML = '';\n",
              "        dataTable['output_type'] = 'display_data';\n",
              "        await google.colab.output.renderOutput(dataTable, element);\n",
              "        const docLink = document.createElement('div');\n",
              "        docLink.innerHTML = docLinkHtml;\n",
              "        element.appendChild(docLink);\n",
              "      }\n",
              "    </script>\n",
              "  </div>\n",
              "\n",
              "\n",
              "<div id=\"df-fc4f53d1-dd43-4d5a-8c59-19b7ae9d82b5\">\n",
              "  <button class=\"colab-df-quickchart\" onclick=\"quickchart('df-fc4f53d1-dd43-4d5a-8c59-19b7ae9d82b5')\"\n",
              "            title=\"Suggest charts\"\n",
              "            style=\"display:none;\">\n",
              "\n",
              "<svg xmlns=\"http://www.w3.org/2000/svg\" height=\"24px\"viewBox=\"0 0 24 24\"\n",
              "     width=\"24px\">\n",
              "    <g>\n",
              "        <path d=\"M19 3H5c-1.1 0-2 .9-2 2v14c0 1.1.9 2 2 2h14c1.1 0 2-.9 2-2V5c0-1.1-.9-2-2-2zM9 17H7v-7h2v7zm4 0h-2V7h2v10zm4 0h-2v-4h2v4z\"/>\n",
              "    </g>\n",
              "</svg>\n",
              "  </button>\n",
              "\n",
              "<style>\n",
              "  .colab-df-quickchart {\n",
              "      --bg-color: #E8F0FE;\n",
              "      --fill-color: #1967D2;\n",
              "      --hover-bg-color: #E2EBFA;\n",
              "      --hover-fill-color: #174EA6;\n",
              "      --disabled-fill-color: #AAA;\n",
              "      --disabled-bg-color: #DDD;\n",
              "  }\n",
              "\n",
              "  [theme=dark] .colab-df-quickchart {\n",
              "      --bg-color: #3B4455;\n",
              "      --fill-color: #D2E3FC;\n",
              "      --hover-bg-color: #434B5C;\n",
              "      --hover-fill-color: #FFFFFF;\n",
              "      --disabled-bg-color: #3B4455;\n",
              "      --disabled-fill-color: #666;\n",
              "  }\n",
              "\n",
              "  .colab-df-quickchart {\n",
              "    background-color: var(--bg-color);\n",
              "    border: none;\n",
              "    border-radius: 50%;\n",
              "    cursor: pointer;\n",
              "    display: none;\n",
              "    fill: var(--fill-color);\n",
              "    height: 32px;\n",
              "    padding: 0;\n",
              "    width: 32px;\n",
              "  }\n",
              "\n",
              "  .colab-df-quickchart:hover {\n",
              "    background-color: var(--hover-bg-color);\n",
              "    box-shadow: 0 1px 2px rgba(60, 64, 67, 0.3), 0 1px 3px 1px rgba(60, 64, 67, 0.15);\n",
              "    fill: var(--button-hover-fill-color);\n",
              "  }\n",
              "\n",
              "  .colab-df-quickchart-complete:disabled,\n",
              "  .colab-df-quickchart-complete:disabled:hover {\n",
              "    background-color: var(--disabled-bg-color);\n",
              "    fill: var(--disabled-fill-color);\n",
              "    box-shadow: none;\n",
              "  }\n",
              "\n",
              "  .colab-df-spinner {\n",
              "    border: 2px solid var(--fill-color);\n",
              "    border-color: transparent;\n",
              "    border-bottom-color: var(--fill-color);\n",
              "    animation:\n",
              "      spin 1s steps(1) infinite;\n",
              "  }\n",
              "\n",
              "  @keyframes spin {\n",
              "    0% {\n",
              "      border-color: transparent;\n",
              "      border-bottom-color: var(--fill-color);\n",
              "      border-left-color: var(--fill-color);\n",
              "    }\n",
              "    20% {\n",
              "      border-color: transparent;\n",
              "      border-left-color: var(--fill-color);\n",
              "      border-top-color: var(--fill-color);\n",
              "    }\n",
              "    30% {\n",
              "      border-color: transparent;\n",
              "      border-left-color: var(--fill-color);\n",
              "      border-top-color: var(--fill-color);\n",
              "      border-right-color: var(--fill-color);\n",
              "    }\n",
              "    40% {\n",
              "      border-color: transparent;\n",
              "      border-right-color: var(--fill-color);\n",
              "      border-top-color: var(--fill-color);\n",
              "    }\n",
              "    60% {\n",
              "      border-color: transparent;\n",
              "      border-right-color: var(--fill-color);\n",
              "    }\n",
              "    80% {\n",
              "      border-color: transparent;\n",
              "      border-right-color: var(--fill-color);\n",
              "      border-bottom-color: var(--fill-color);\n",
              "    }\n",
              "    90% {\n",
              "      border-color: transparent;\n",
              "      border-bottom-color: var(--fill-color);\n",
              "    }\n",
              "  }\n",
              "</style>\n",
              "\n",
              "  <script>\n",
              "    async function quickchart(key) {\n",
              "      const quickchartButtonEl =\n",
              "        document.querySelector('#' + key + ' button');\n",
              "      quickchartButtonEl.disabled = true;  // To prevent multiple clicks.\n",
              "      quickchartButtonEl.classList.add('colab-df-spinner');\n",
              "      try {\n",
              "        const charts = await google.colab.kernel.invokeFunction(\n",
              "            'suggestCharts', [key], {});\n",
              "      } catch (error) {\n",
              "        console.error('Error during call to suggestCharts:', error);\n",
              "      }\n",
              "      quickchartButtonEl.classList.remove('colab-df-spinner');\n",
              "      quickchartButtonEl.classList.add('colab-df-quickchart-complete');\n",
              "    }\n",
              "    (() => {\n",
              "      let quickchartButtonEl =\n",
              "        document.querySelector('#df-fc4f53d1-dd43-4d5a-8c59-19b7ae9d82b5 button');\n",
              "      quickchartButtonEl.style.display =\n",
              "        google.colab.kernel.accessAllowed ? 'block' : 'none';\n",
              "    })();\n",
              "  </script>\n",
              "</div>\n",
              "\n",
              "  <div id=\"id_00d74505-24a4-46f2-b145-7e9da03d39c4\">\n",
              "    <style>\n",
              "      .colab-df-generate {\n",
              "        background-color: #E8F0FE;\n",
              "        border: none;\n",
              "        border-radius: 50%;\n",
              "        cursor: pointer;\n",
              "        display: none;\n",
              "        fill: #1967D2;\n",
              "        height: 32px;\n",
              "        padding: 0 0 0 0;\n",
              "        width: 32px;\n",
              "      }\n",
              "\n",
              "      .colab-df-generate:hover {\n",
              "        background-color: #E2EBFA;\n",
              "        box-shadow: 0px 1px 2px rgba(60, 64, 67, 0.3), 0px 1px 3px 1px rgba(60, 64, 67, 0.15);\n",
              "        fill: #174EA6;\n",
              "      }\n",
              "\n",
              "      [theme=dark] .colab-df-generate {\n",
              "        background-color: #3B4455;\n",
              "        fill: #D2E3FC;\n",
              "      }\n",
              "\n",
              "      [theme=dark] .colab-df-generate:hover {\n",
              "        background-color: #434B5C;\n",
              "        box-shadow: 0px 1px 3px 1px rgba(0, 0, 0, 0.15);\n",
              "        filter: drop-shadow(0px 1px 2px rgba(0, 0, 0, 0.3));\n",
              "        fill: #FFFFFF;\n",
              "      }\n",
              "    </style>\n",
              "    <button class=\"colab-df-generate\" onclick=\"generateWithVariable('data')\"\n",
              "            title=\"Generate code using this dataframe.\"\n",
              "            style=\"display:none;\">\n",
              "\n",
              "  <svg xmlns=\"http://www.w3.org/2000/svg\" height=\"24px\"viewBox=\"0 0 24 24\"\n",
              "       width=\"24px\">\n",
              "    <path d=\"M7,19H8.4L18.45,9,17,7.55,7,17.6ZM5,21V16.75L18.45,3.32a2,2,0,0,1,2.83,0l1.4,1.43a1.91,1.91,0,0,1,.58,1.4,1.91,1.91,0,0,1-.58,1.4L9.25,21ZM18.45,9,17,7.55Zm-12,3A5.31,5.31,0,0,0,4.9,8.1,5.31,5.31,0,0,0,1,6.5,5.31,5.31,0,0,0,4.9,4.9,5.31,5.31,0,0,0,6.5,1,5.31,5.31,0,0,0,8.1,4.9,5.31,5.31,0,0,0,12,6.5,5.46,5.46,0,0,0,6.5,12Z\"/>\n",
              "  </svg>\n",
              "    </button>\n",
              "    <script>\n",
              "      (() => {\n",
              "      const buttonEl =\n",
              "        document.querySelector('#id_00d74505-24a4-46f2-b145-7e9da03d39c4 button.colab-df-generate');\n",
              "      buttonEl.style.display =\n",
              "        google.colab.kernel.accessAllowed ? 'block' : 'none';\n",
              "\n",
              "      buttonEl.onclick = () => {\n",
              "        google.colab.notebook.generateWithVariable('data');\n",
              "      }\n",
              "      })();\n",
              "    </script>\n",
              "  </div>\n",
              "\n",
              "    </div>\n",
              "  </div>\n"
            ],
            "application/vnd.google.colaboratory.intrinsic+json": {
              "type": "dataframe",
              "variable_name": "data",
              "summary": "{\n  \"name\": \"data\",\n  \"rows\": 1000,\n  \"fields\": [\n    {\n      \"column\": \"variable1\",\n      \"properties\": {\n        \"dtype\": \"number\",\n        \"std\": 0.6406328202725883,\n        \"min\": -1.0,\n        \"max\": 1.0,\n        \"num_unique_values\": 862,\n        \"samples\": [\n          -0.32094360980720954,\n          -0.07532680552793285,\n          -0.48175367410171543\n        ],\n        \"semantic_type\": \"\",\n        \"description\": \"\"\n      }\n    },\n    {\n      \"column\": \"variable2\",\n      \"properties\": {\n        \"dtype\": \"number\",\n        \"std\": 0.6406328202725883,\n        \"min\": -1.0,\n        \"max\": 1.0,\n        \"num_unique_values\": 850,\n        \"samples\": [\n          -0.7893487553662946,\n          0.647213595499958,\n          -0.228015409975981\n        ],\n        \"semantic_type\": \"\",\n        \"description\": \"\"\n      }\n    },\n    {\n      \"column\": \"label\",\n      \"properties\": {\n        \"dtype\": \"number\",\n        \"std\": 0,\n        \"min\": 0,\n        \"max\": 1,\n        \"num_unique_values\": 2,\n        \"samples\": [\n          1,\n          0\n        ],\n        \"semantic_type\": \"\",\n        \"description\": \"\"\n      }\n    }\n  ]\n}"
            }
          },
          "metadata": {},
          "execution_count": 23
        }
      ]
    },
    {
      "cell_type": "code",
      "source": [
        "plt.scatter(data['variable1'],data['variable2'],c = y,cmap=plt.cm.RdYlBu)"
      ],
      "metadata": {
        "colab": {
          "base_uri": "https://localhost:8080/",
          "height": 447
        },
        "id": "yAonOieozAXP",
        "outputId": "499ae721-b03b-4cdc-9ce1-7f843a5e9ef6"
      },
      "execution_count": 24,
      "outputs": [
        {
          "output_type": "execute_result",
          "data": {
            "text/plain": [
              "<matplotlib.collections.PathCollection at 0x7bd46b865cf0>"
            ]
          },
          "metadata": {},
          "execution_count": 24
        },
        {
          "output_type": "display_data",
          "data": {
            "text/plain": [
              "<Figure size 640x480 with 1 Axes>"
            ],
            "image/png": "[encoded data removed]"
          },
          "metadata": {}
        }
      ]
    },
    {
      "cell_type": "code",
      "source": [
        "y_tes = data['label']"
      ],
      "metadata": {
        "id": "G8zsCRwD0Q0O"
      },
      "execution_count": 25,
      "outputs": []
    },
    {
      "cell_type": "code",
      "source": [
        "import torch\n",
        "y_tes = y_tes.to_numpy()"
      ],
      "metadata": {
        "id": "iyp8ChrX2DSr"
      },
      "execution_count": 26,
      "outputs": []
    },
    {
      "cell_type": "code",
      "source": [
        "y_tes = torch.from_numpy(y_tes)"
      ],
      "metadata": {
        "id": "WcLbAyYN1Ejn"
      },
      "execution_count": 27,
      "outputs": []
    },
    {
      "cell_type": "code",
      "source": [
        "data = data.drop('label',axis = 1)"
      ],
      "metadata": {
        "id": "3tv8kd5a2fcN"
      },
      "execution_count": 28,
      "outputs": []
    },
    {
      "cell_type": "code",
      "source": [
        "X_tes = data.to_numpy()"
      ],
      "metadata": {
        "id": "ApAp-BBS2pW3"
      },
      "execution_count": 29,
      "outputs": []
    },
    {
      "cell_type": "code",
      "source": [
        "X_tes = torch.from_numpy(X_tes)"
      ],
      "metadata": {
        "id": "4QWQuizM1xdg"
      },
      "execution_count": 30,
      "outputs": []
    },
    {
      "cell_type": "code",
      "source": [
        "X_tes.shape"
      ],
      "metadata": {
        "colab": {
          "base_uri": "https://localhost:8080/"
        },
        "id": "bClMZq0M2bwM",
        "outputId": "0d21d57b-243d-4569-9bf7-9d2941ba08eb"
      },
      "execution_count": 31,
      "outputs": [
        {
          "output_type": "execute_result",
          "data": {
            "text/plain": [
              "torch.Size([1000, 2])"
            ]
          },
          "metadata": {},
          "execution_count": 31
        }
      ]
    },
    {
      "cell_type": "code",
      "source": [
        "X_tes = torch.tensor(X_tes, dtype = torch.float32)\n",
        "y_tes = torch.tensor(y_tes,dtype = torch.float32)"
      ],
      "metadata": {
        "colab": {
          "base_uri": "https://localhost:8080/"
        },
        "id": "TgpVyvFdwX63",
        "outputId": "de612c9d-12ac-464d-cce0-c2b4d2a3476b"
      },
      "execution_count": 46,
      "outputs": [
        {
          "output_type": "stream",
          "name": "stderr",
          "text": [
            "<ipython-input-46-d48ba99c0cde>:1: UserWarning: To copy construct from a tensor, it is recommended to use sourceTensor.clone().detach() or sourceTensor.clone().detach().requires_grad_(True), rather than torch.tensor(sourceTensor).\n",
            "  X_tes = torch.tensor(X_tes, dtype = torch.float32)\n",
            "<ipython-input-46-d48ba99c0cde>:2: UserWarning: To copy construct from a tensor, it is recommended to use sourceTensor.clone().detach() or sourceTensor.clone().detach().requires_grad_(True), rather than torch.tensor(sourceTensor).\n",
            "  y_tes = torch.tensor(y_tes,dtype = torch.float32)\n"
          ]
        }
      ]
    },
    {
      "cell_type": "code",
      "source": [
        "from sklearn.model_selection import train_test_split\n",
        "X_train, X_test, y_train, y_test = train_test_split(X_tes, y_tes)\n"
      ],
      "metadata": {
        "id": "wzxdhQcp2zo0"
      },
      "execution_count": 47,
      "outputs": []
    },
    {
      "cell_type": "markdown",
      "source": [
        "# **Build a Pytorch Model**"
      ],
      "metadata": {
        "id": "hkZcgQmQ3pOW"
      }
    },
    {
      "cell_type": "code",
      "source": [
        "device = 'cuda' if torch.cuda.is_available() else 'cpu'"
      ],
      "metadata": {
        "id": "bpZQ26404ll4"
      },
      "execution_count": 33,
      "outputs": []
    },
    {
      "cell_type": "code",
      "source": [
        "import torch.nn as nn"
      ],
      "metadata": {
        "id": "7KC6q8Ae35ry"
      },
      "execution_count": 34,
      "outputs": []
    },
    {
      "cell_type": "code",
      "source": [
        "class MakeCircles(nn.Module):\n",
        "  def __init__(self):\n",
        "    super().__init__()\n",
        "    self.layer1 = nn.Linear(2, 8)\n",
        "    self.layer2 = nn.Linear(8,1)\n",
        "  def forward(self, x):\n",
        "    return self.layer2(self.layer1(x))\n",
        "\n"
      ],
      "metadata": {
        "id": "jvfeD5fP3oI2"
      },
      "execution_count": 35,
      "outputs": []
    },
    {
      "cell_type": "code",
      "source": [
        "model0 = MakeCircles().to(device)\n",
        "model0"
      ],
      "metadata": {
        "colab": {
          "base_uri": "https://localhost:8080/"
        },
        "id": "sSt11G9h3ujm",
        "outputId": "c56b6053-a968-4300-f58b-1e3db58d0d2a"
      },
      "execution_count": 37,
      "outputs": [
        {
          "output_type": "execute_result",
          "data": {
            "text/plain": [
              "MakeCircles(\n",
              "  (layer1): Linear(in_features=2, out_features=8, bias=True)\n",
              "  (layer2): Linear(in_features=8, out_features=1, bias=True)\n",
              ")"
            ]
          },
          "metadata": {},
          "execution_count": 37
        }
      ]
    },
    {
      "cell_type": "markdown",
      "source": [
        "# **Make predictions using random weights of the model**"
      ],
      "metadata": {
        "id": "546T9vNTvqSm"
      }
    },
    {
      "cell_type": "code",
      "source": [
        "X_test[:10]"
      ],
      "metadata": {
        "colab": {
          "base_uri": "https://localhost:8080/"
        },
        "id": "M8Hqku-NwQ3I",
        "outputId": "057a00af-47f0-43eb-8181-79954c867f40"
      },
      "execution_count": 42,
      "outputs": [
        {
          "output_type": "execute_result",
          "data": {
            "text/plain": [
              "tensor([[ 0.9471, -0.3209],\n",
              "        [-0.7510, -0.2757],\n",
              "        [-0.3854,  0.7010],\n",
              "        [-0.7994,  0.0302],\n",
              "        [ 0.7026,  0.7115],\n",
              "        [ 0.6471,  0.7624],\n",
              "        [-0.0879,  0.9961],\n",
              "        [ 0.0803,  0.7960],\n",
              "        [ 0.5144, -0.8575],\n",
              "        [-0.9993, -0.0377]], dtype=torch.float64)"
            ]
          },
          "metadata": {},
          "execution_count": 42
        }
      ]
    },
    {
      "cell_type": "code",
      "source": [
        "y_pred = model0(X_test)\n",
        "y_pred[:10].squeeze()"
      ],
      "metadata": {
        "id": "JfG7dVY93ugF",
        "colab": {
          "base_uri": "https://localhost:8080/"
        },
        "outputId": "e507ab02-bbbd-4e9f-8866-e01a05909b8e"
      },
      "execution_count": 63,
      "outputs": [
        {
          "output_type": "execute_result",
          "data": {
            "text/plain": [
              "tensor([-0.1401, -0.6767, -0.6762, -0.9555, -0.1320, -0.2166, -0.7444, -0.9155,\n",
              "        -0.7772, -0.0860], grad_fn=<SqueezeBackward0>)"
            ]
          },
          "metadata": {},
          "execution_count": 63
        }
      ]
    },
    {
      "cell_type": "code",
      "source": [
        "loss = torch.nn.BCEWithLogitsLoss()\n",
        "optimizer = torch.optim.Adam(params = model0.parameters(), lr = 0.1)"
      ],
      "metadata": {
        "id": "EAjIL0mSwGrK"
      },
      "execution_count": 52,
      "outputs": []
    },
    {
      "cell_type": "code",
      "source": [
        "y_logits = model0(X_test).squeeze()\n",
        "y_pred = torch.round(torch.sigmoid(y_logits))\n",
        "\n",
        "y_logits[:10], y_pred[:10]"
      ],
      "metadata": {
        "colab": {
          "base_uri": "https://localhost:8080/"
        },
        "id": "Vg909TH8w2gN",
        "outputId": "208b1e25-3ee8-4bb0-eaa2-c3c8fcc8501b"
      },
      "execution_count": 54,
      "outputs": [
        {
          "output_type": "execute_result",
          "data": {
            "text/plain": [
              "(tensor([-0.1401, -0.6767, -0.6762, -0.9555, -0.1320, -0.2166, -0.7444, -0.9155,\n",
              "         -0.7772, -0.0860], grad_fn=<SliceBackward0>),\n",
              " tensor([0., 0., 0., 0., 0., 0., 0., 0., 0., 0.], grad_fn=<SliceBackward0>))"
            ]
          },
          "metadata": {},
          "execution_count": 54
        }
      ]
    },
    {
      "cell_type": "code",
      "source": [
        "epochs = 100"
      ],
      "metadata": {
        "id": "prOllhxMx6Cj"
      },
      "execution_count": 56,
      "outputs": []
    },
    {
      "cell_type": "code",
      "source": [
        "def accuracy(y_true, y_pred):\n",
        "  count = torch.eq(y_true, y_pred).sum().item()\n",
        "  return count/len(y_pred)"
      ],
      "metadata": {
        "id": "9mUWS7L8zBFG"
      },
      "execution_count": 57,
      "outputs": []
    },
    {
      "cell_type": "code",
      "source": [
        "for epoch in range(epochs):\n",
        "\n",
        "  # set the model into training mode\n",
        "  model0.train()\n",
        "\n",
        "  # Forward pass\n",
        "  train_logits = model0(X_train).squeeze()\n",
        "\n",
        "  # convert Logits into predictions\n",
        "  train_preds = torch.round(torch.sigmoid(train_logits))\n",
        "\n",
        "  # calculate the loss\n",
        "  train_loss = loss(train_logits, y_train)\n",
        "\n",
        "  # zero grad\n",
        "  optimizer.zero_grad()\n",
        "\n",
        "  # train loss back propagation\n",
        "  train_loss.backward()\n",
        "\n",
        "  # train accuracy\n",
        "  train_accuracy = accuracy(y_train, train_preds)\n",
        "\n",
        "  ## Testing loop\n",
        "\n",
        "  model0.eval()\n",
        "  with torch.inference_mode():\n",
        "    test_logits = model0(X_test).squeeze()\n",
        "    # conver the logits into predictions\n",
        "    test_preds = torch.round(torch.sigmoid(test_logits))\n",
        "\n",
        "    # loss calculation\n",
        "    test_loss = loss(test_logits,y_test)\n",
        "\n",
        "    test_accuracy = accuracy(y_test, test_preds)\n",
        "  if epoch % 10 == 0:\n",
        "    print(f'for {epoch} epoch, training loss : {train_loss:.2f}, training accuracy: {train_accuracy: .2f}')\n",
        "    print(f'for {epoch} epoch, testing loss : {test_loss: .2f}, testing accuracy: {test_accuracy: .2f}')\n",
        "    print('\\n')\n",
        "\n",
        "\n",
        "\n"
      ],
      "metadata": {
        "colab": {
          "base_uri": "https://localhost:8080/"
        },
        "id": "NvhJb5WsxwS8",
        "outputId": "2191b260-375b-4fac-eb6b-824128704981"
      },
      "execution_count": 62,
      "outputs": [
        {
          "output_type": "stream",
          "name": "stdout",
          "text": [
            "for 0 epoch, training loss : 0.74, training accuracy:  0.49\n",
            "for 0 epoch, testing loss :  0.72, testing accuracy:  0.53\n",
            "\n",
            "\n",
            "for 10 epoch, training loss : 0.74, training accuracy:  0.49\n",
            "for 10 epoch, testing loss :  0.72, testing accuracy:  0.53\n",
            "\n",
            "\n",
            "for 20 epoch, training loss : 0.74, training accuracy:  0.49\n",
            "for 20 epoch, testing loss :  0.72, testing accuracy:  0.53\n",
            "\n",
            "\n",
            "for 30 epoch, training loss : 0.74, training accuracy:  0.49\n",
            "for 30 epoch, testing loss :  0.72, testing accuracy:  0.53\n",
            "\n",
            "\n",
            "for 40 epoch, training loss : 0.74, training accuracy:  0.49\n",
            "for 40 epoch, testing loss :  0.72, testing accuracy:  0.53\n",
            "\n",
            "\n",
            "for 50 epoch, training loss : 0.74, training accuracy:  0.49\n",
            "for 50 epoch, testing loss :  0.72, testing accuracy:  0.53\n",
            "\n",
            "\n",
            "for 60 epoch, training loss : 0.74, training accuracy:  0.49\n",
            "for 60 epoch, testing loss :  0.72, testing accuracy:  0.53\n",
            "\n",
            "\n",
            "for 70 epoch, training loss : 0.74, training accuracy:  0.49\n",
            "for 70 epoch, testing loss :  0.72, testing accuracy:  0.53\n",
            "\n",
            "\n",
            "for 80 epoch, training loss : 0.74, training accuracy:  0.49\n",
            "for 80 epoch, testing loss :  0.72, testing accuracy:  0.53\n",
            "\n",
            "\n",
            "for 90 epoch, training loss : 0.74, training accuracy:  0.49\n",
            "for 90 epoch, testing loss :  0.72, testing accuracy:  0.53\n",
            "\n",
            "\n"
          ]
        }
      ]
    },
    {
      "cell_type": "markdown",
      "source": [
        "**Plot the graphs and see what is going wrong**"
      ],
      "metadata": {
        "id": "EjNiVQz34d9M"
      }
    },
    {
      "cell_type": "code",
      "source": [
        "import requests\n",
        "from pathlib import Path\n",
        "\n",
        "if Path('helper_functions.py').is_file():\n",
        "  print('the file already exists')\n",
        "else:\n",
        "  request = requests.get(\"https://raw.githubusercontent.com/mrdbourke/pytorch-deep-learning/main/helper_functions.py\")\n",
        "  with open('helper_functions.py', 'wb') as f:\n",
        "    f.write(request.content)"
      ],
      "metadata": {
        "id": "jV3JJ7RD3pFl"
      },
      "execution_count": 68,
      "outputs": []
    },
    {
      "cell_type": "code",
      "source": [
        "len(X_train), len(y_train), len(X_test), len(y_test)"
      ],
      "metadata": {
        "colab": {
          "base_uri": "https://localhost:8080/"
        },
        "id": "X_0hYwwYIltg",
        "outputId": "38ea110c-056b-4a66-c8f1-70d53b55121d"
      },
      "execution_count": 72,
      "outputs": [
        {
          "output_type": "execute_result",
          "data": {
            "text/plain": [
              "(750, 750, 250, 250)"
            ]
          },
          "metadata": {},
          "execution_count": 72
        }
      ]
    },
    {
      "cell_type": "code",
      "source": [
        "X_train.shape, y_train.shape, X_test.shape, y_test.shape"
      ],
      "metadata": {
        "colab": {
          "base_uri": "https://localhost:8080/"
        },
        "id": "uxgAM9E7I70O",
        "outputId": "3fdc9030-f86b-4532-ba70-b4387c6b5ee0"
      },
      "execution_count": 75,
      "outputs": [
        {
          "output_type": "execute_result",
          "data": {
            "text/plain": [
              "(torch.Size([750, 2]),\n",
              " torch.Size([750]),\n",
              " torch.Size([250, 2]),\n",
              " torch.Size([250]))"
            ]
          },
          "metadata": {},
          "execution_count": 75
        }
      ]
    },
    {
      "cell_type": "code",
      "source": [
        "import matplotlib.pyplot as plt"
      ],
      "metadata": {
        "id": "K6thze9OJ1KW"
      },
      "execution_count": 78,
      "outputs": []
    },
    {
      "cell_type": "code",
      "source": [
        "from helper_functions import plot_predictions, plot_decision_boundary\n",
        "plt.figure(figsize = (12,6))\n",
        "plt.subplot(1,2,1)\n",
        "plt.title('training boundary')\n",
        "plot_decision_boundary(model0, X_train, y_train)\n",
        "plt.subplot(1,2,2)\n",
        "plt.title('testing boundary')\n",
        "plot_decision_boundary(model0, X_test, y_test)\n"
      ],
      "metadata": {
        "colab": {
          "base_uri": "https://localhost:8080/",
          "height": 468
        },
        "id": "K7ltmMvICfd9",
        "outputId": "a1f1b4ca-b379-42f6-8a72-f435cc897ac1"
      },
      "execution_count": 82,
      "outputs": [
        {
          "output_type": "display_data",
          "data": {
            "text/plain": [
              "<Figure size 1200x600 with 2 Axes>"
            ],
            "image/png": "[encoded data removed]"
          },
          "metadata": {}
        }
      ]
    },
    {
      "cell_type": "code",
      "source": [
        "class CircleModelv1(nn.Module):\n",
        "  def __init__(self):\n",
        "    super().__init__()\n",
        "    self.layer1 = nn.Linear(2, 16)\n",
        "    self.layer2 = nn.Linear(16, 32)\n",
        "    self.layer3 = nn.Linear(32, 1)\n",
        "\n",
        "  def forward(self, x):\n",
        "    z = self.layer1(x)\n",
        "    z = self.layer2(x)\n",
        "    z = self.layer3(x)\n",
        "    return x"
      ],
      "metadata": {
        "id": "ont5UUfzKne_"
      },
      "execution_count": 83,
      "outputs": []
    },
    {
      "cell_type": "code",
      "source": [
        "model1 = CircleModelv1().to(device)\n",
        "model1"
      ],
      "metadata": {
        "colab": {
          "base_uri": "https://localhost:8080/"
        },
        "id": "jOFIJPgAKmpx",
        "outputId": "2115f550-b204-4795-d204-9e5d0eb385b6"
      },
      "execution_count": 85,
      "outputs": [
        {
          "output_type": "execute_result",
          "data": {
            "text/plain": [
              "CircleModelv1(\n",
              "  (layer1): Linear(in_features=2, out_features=16, bias=True)\n",
              "  (layer2): Linear(in_features=16, out_features=32, bias=True)\n",
              "  (layer3): Linear(in_features=32, out_features=1, bias=True)\n",
              ")"
            ]
          },
          "metadata": {},
          "execution_count": 85
        }
      ]
    },
    {
      "cell_type": "code",
      "source": [
        "loss = torch.nn.BCEWithLogitsLoss()\n",
        "optimizer = torch.optim.Adam(params = model1.parameters(), lr = 0.1)"
      ],
      "metadata": {
        "id": "X8-Ce9ynIaSV"
      },
      "execution_count": 86,
      "outputs": []
    },
    {
      "cell_type": "code",
      "source": [
        "epochs = 1000"
      ],
      "metadata": {
        "id": "iawsieutLxet"
      },
      "execution_count": null,
      "outputs": []
    },
    {
      "cell_type": "code",
      "source": [
        "for epoch in range(epochs):\n",
        "\n",
        "  # set model to training mode\n",
        "  model1.train()\n",
        "\n",
        "  # forward pass and get the predictions\n",
        "  train_logits = model1(X_train).squeeze()\n",
        "\n",
        "  # get the proper predictions from the logits\n",
        "  train_preds = torch.round(torch.sigmoid(train_logits))\n",
        "\n",
        "  # calculate the loss\n",
        "  train_loss = loss(train_logits, y_train)\n",
        "\n",
        "  # make optim grad zero\n",
        "  optimizer.zero_grad()\n",
        "\n",
        "  # backpropagation\n",
        "  optimizer.backward()\n",
        "\n",
        "  ### Testing loop\n",
        "\n",
        "\n"
      ],
      "metadata": {
        "id": "nsW6-0xwLtpe"
      },
      "execution_count": null,
      "outputs": []
    }
  ]
}
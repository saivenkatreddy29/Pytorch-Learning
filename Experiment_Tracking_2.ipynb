{
  "nbformat": 4,
  "nbformat_minor": 0,
  "metadata": {
    "colab": {
      "provenance": [],
      "gpuType": "T4",
      "authorship_tag": "ABX9TyPz5HZgnsR5P2LBjPxbzctk",
      "include_colab_link": true
    },
    "kernelspec": {
      "name": "python3",
      "display_name": "Python 3"
    },
    "language_info": {
      "name": "python"
    },
    "accelerator": "GPU",
    "widgets": {
      "application/vnd.jupyter.widget-state+json": {
        "9cb68b3f52ec41f0b1879d5bc2fddc55": {
          "model_module": "@jupyter-widgets/controls",
          "model_name": "HBoxModel",
          "model_module_version": "1.5.0",
          "state": {
            "_dom_classes": [],
            "_model_module": "@jupyter-widgets/controls",
            "_model_module_version": "1.5.0",
            "_model_name": "HBoxModel",
            "_view_count": null,
            "_view_module": "@jupyter-widgets/controls",
            "_view_module_version": "1.5.0",
            "_view_name": "HBoxView",
            "box_style": "",
            "children": [
              "IPY_MODEL_6d047090c07e4932b6f1b9e29fd2bac8",
              "IPY_MODEL_9c909262da3141f2b06d1170b1ddd898",
              "IPY_MODEL_76c14ad0d77b4fac99a82b01c5dafa9c"
            ],
            "layout": "IPY_MODEL_981646b7bd404dafa58e88c5d3e8f63b"
          }
        },
        "6d047090c07e4932b6f1b9e29fd2bac8": {
          "model_module": "@jupyter-widgets/controls",
          "model_name": "HTMLModel",
          "model_module_version": "1.5.0",
          "state": {
            "_dom_classes": [],
            "_model_module": "@jupyter-widgets/controls",
            "_model_module_version": "1.5.0",
            "_model_name": "HTMLModel",
            "_view_count": null,
            "_view_module": "@jupyter-widgets/controls",
            "_view_module_version": "1.5.0",
            "_view_name": "HTMLView",
            "description": "",
            "description_tooltip": null,
            "layout": "IPY_MODEL_0b774990e2864fa7938871ea7d541372",
            "placeholder": "​",
            "style": "IPY_MODEL_dba94f456dae40b3b7ab652ac2f25de6",
            "value": "  0%"
          }
        },
        "9c909262da3141f2b06d1170b1ddd898": {
          "model_module": "@jupyter-widgets/controls",
          "model_name": "FloatProgressModel",
          "model_module_version": "1.5.0",
          "state": {
            "_dom_classes": [],
            "_model_module": "@jupyter-widgets/controls",
            "_model_module_version": "1.5.0",
            "_model_name": "FloatProgressModel",
            "_view_count": null,
            "_view_module": "@jupyter-widgets/controls",
            "_view_module_version": "1.5.0",
            "_view_name": "ProgressView",
            "bar_style": "danger",
            "description": "",
            "description_tooltip": null,
            "layout": "IPY_MODEL_dd000c96472049dfb870c29f09825721",
            "max": 5,
            "min": 0,
            "orientation": "horizontal",
            "style": "IPY_MODEL_7d605b0e434243bf9415e30da0b37322",
            "value": 0
          }
        },
        "76c14ad0d77b4fac99a82b01c5dafa9c": {
          "model_module": "@jupyter-widgets/controls",
          "model_name": "HTMLModel",
          "model_module_version": "1.5.0",
          "state": {
            "_dom_classes": [],
            "_model_module": "@jupyter-widgets/controls",
            "_model_module_version": "1.5.0",
            "_model_name": "HTMLModel",
            "_view_count": null,
            "_view_module": "@jupyter-widgets/controls",
            "_view_module_version": "1.5.0",
            "_view_name": "HTMLView",
            "description": "",
            "description_tooltip": null,
            "layout": "IPY_MODEL_c273c46f0ea84f998fe06f6dc11793a4",
            "placeholder": "​",
            "style": "IPY_MODEL_0aa1238f858249df9671c83a78cc1e88",
            "value": " 0/5 [00:00&lt;?, ?it/s]"
          }
        },
        "981646b7bd404dafa58e88c5d3e8f63b": {
          "model_module": "@jupyter-widgets/base",
          "model_name": "LayoutModel",
          "model_module_version": "1.2.0",
          "state": {
            "_model_module": "@jupyter-widgets/base",
            "_model_module_version": "1.2.0",
            "_model_name": "LayoutModel",
            "_view_count": null,
            "_view_module": "@jupyter-widgets/base",
            "_view_module_version": "1.2.0",
            "_view_name": "LayoutView",
            "align_content": null,
            "align_items": null,
            "align_self": null,
            "border": null,
            "bottom": null,
            "display": null,
            "flex": null,
            "flex_flow": null,
            "grid_area": null,
            "grid_auto_columns": null,
            "grid_auto_flow": null,
            "grid_auto_rows": null,
            "grid_column": null,
            "grid_gap": null,
            "grid_row": null,
            "grid_template_areas": null,
            "grid_template_columns": null,
            "grid_template_rows": null,
            "height": null,
            "justify_content": null,
            "justify_items": null,
            "left": null,
            "margin": null,
            "max_height": null,
            "max_width": null,
            "min_height": null,
            "min_width": null,
            "object_fit": null,
            "object_position": null,
            "order": null,
            "overflow": null,
            "overflow_x": null,
            "overflow_y": null,
            "padding": null,
            "right": null,
            "top": null,
            "visibility": null,
            "width": null
          }
        },
        "0b774990e2864fa7938871ea7d541372": {
          "model_module": "@jupyter-widgets/base",
          "model_name": "LayoutModel",
          "model_module_version": "1.2.0",
          "state": {
            "_model_module": "@jupyter-widgets/base",
            "_model_module_version": "1.2.0",
            "_model_name": "LayoutModel",
            "_view_count": null,
            "_view_module": "@jupyter-widgets/base",
            "_view_module_version": "1.2.0",
            "_view_name": "LayoutView",
            "align_content": null,
            "align_items": null,
            "align_self": null,
            "border": null,
            "bottom": null,
            "display": null,
            "flex": null,
            "flex_flow": null,
            "grid_area": null,
            "grid_auto_columns": null,
            "grid_auto_flow": null,
            "grid_auto_rows": null,
            "grid_column": null,
            "grid_gap": null,
            "grid_row": null,
            "grid_template_areas": null,
            "grid_template_columns": null,
            "grid_template_rows": null,
            "height": null,
            "justify_content": null,
            "justify_items": null,
            "left": null,
            "margin": null,
            "max_height": null,
            "max_width": null,
            "min_height": null,
            "min_width": null,
            "object_fit": null,
            "object_position": null,
            "order": null,
            "overflow": null,
            "overflow_x": null,
            "overflow_y": null,
            "padding": null,
            "right": null,
            "top": null,
            "visibility": null,
            "width": null
          }
        },
        "dba94f456dae40b3b7ab652ac2f25de6": {
          "model_module": "@jupyter-widgets/controls",
          "model_name": "DescriptionStyleModel",
          "model_module_version": "1.5.0",
          "state": {
            "_model_module": "@jupyter-widgets/controls",
            "_model_module_version": "1.5.0",
            "_model_name": "DescriptionStyleModel",
            "_view_count": null,
            "_view_module": "@jupyter-widgets/base",
            "_view_module_version": "1.2.0",
            "_view_name": "StyleView",
            "description_width": ""
          }
        },
        "dd000c96472049dfb870c29f09825721": {
          "model_module": "@jupyter-widgets/base",
          "model_name": "LayoutModel",
          "model_module_version": "1.2.0",
          "state": {
            "_model_module": "@jupyter-widgets/base",
            "_model_module_version": "1.2.0",
            "_model_name": "LayoutModel",
            "_view_count": null,
            "_view_module": "@jupyter-widgets/base",
            "_view_module_version": "1.2.0",
            "_view_name": "LayoutView",
            "align_content": null,
            "align_items": null,
            "align_self": null,
            "border": null,
            "bottom": null,
            "display": null,
            "flex": null,
            "flex_flow": null,
            "grid_area": null,
            "grid_auto_columns": null,
            "grid_auto_flow": null,
            "grid_auto_rows": null,
            "grid_column": null,
            "grid_gap": null,
            "grid_row": null,
            "grid_template_areas": null,
            "grid_template_columns": null,
            "grid_template_rows": null,
            "height": null,
            "justify_content": null,
            "justify_items": null,
            "left": null,
            "margin": null,
            "max_height": null,
            "max_width": null,
            "min_height": null,
            "min_width": null,
            "object_fit": null,
            "object_position": null,
            "order": null,
            "overflow": null,
            "overflow_x": null,
            "overflow_y": null,
            "padding": null,
            "right": null,
            "top": null,
            "visibility": null,
            "width": null
          }
        },
        "7d605b0e434243bf9415e30da0b37322": {
          "model_module": "@jupyter-widgets/controls",
          "model_name": "ProgressStyleModel",
          "model_module_version": "1.5.0",
          "state": {
            "_model_module": "@jupyter-widgets/controls",
            "_model_module_version": "1.5.0",
            "_model_name": "ProgressStyleModel",
            "_view_count": null,
            "_view_module": "@jupyter-widgets/base",
            "_view_module_version": "1.2.0",
            "_view_name": "StyleView",
            "bar_color": null,
            "description_width": ""
          }
        },
        "c273c46f0ea84f998fe06f6dc11793a4": {
          "model_module": "@jupyter-widgets/base",
          "model_name": "LayoutModel",
          "model_module_version": "1.2.0",
          "state": {
            "_model_module": "@jupyter-widgets/base",
            "_model_module_version": "1.2.0",
            "_model_name": "LayoutModel",
            "_view_count": null,
            "_view_module": "@jupyter-widgets/base",
            "_view_module_version": "1.2.0",
            "_view_name": "LayoutView",
            "align_content": null,
            "align_items": null,
            "align_self": null,
            "border": null,
            "bottom": null,
            "display": null,
            "flex": null,
            "flex_flow": null,
            "grid_area": null,
            "grid_auto_columns": null,
            "grid_auto_flow": null,
            "grid_auto_rows": null,
            "grid_column": null,
            "grid_gap": null,
            "grid_row": null,
            "grid_template_areas": null,
            "grid_template_columns": null,
            "grid_template_rows": null,
            "height": null,
            "justify_content": null,
            "justify_items": null,
            "left": null,
            "margin": null,
            "max_height": null,
            "max_width": null,
            "min_height": null,
            "min_width": null,
            "object_fit": null,
            "object_position": null,
            "order": null,
            "overflow": null,
            "overflow_x": null,
            "overflow_y": null,
            "padding": null,
            "right": null,
            "top": null,
            "visibility": null,
            "width": null
          }
        },
        "0aa1238f858249df9671c83a78cc1e88": {
          "model_module": "@jupyter-widgets/controls",
          "model_name": "DescriptionStyleModel",
          "model_module_version": "1.5.0",
          "state": {
            "_model_module": "@jupyter-widgets/controls",
            "_model_module_version": "1.5.0",
            "_model_name": "DescriptionStyleModel",
            "_view_count": null,
            "_view_module": "@jupyter-widgets/base",
            "_view_module_version": "1.2.0",
            "_view_name": "StyleView",
            "description_width": ""
          }
        }
      }
    }
  },
  "cells": [
    {
      "cell_type": "markdown",
      "metadata": {
        "id": "view-in-github",
        "colab_type": "text"
      },
      "source": [
        "<a href=\"https://colab.research.google.com/github/saivenkatreddy29/Pytorch-Learning/blob/main/Experiment_Tracking_2.ipynb\" target=\"_parent\"><img src=\"https://colab.research.google.com/assets/colab-badge.svg\" alt=\"Open In Colab\"/></a>"
      ]
    },
    {
      "cell_type": "code",
      "execution_count": null,
      "metadata": {
        "id": "fybHuklcYTsm"
      },
      "outputs": [],
      "source": [
        "import torch\n",
        "import torch.nn as nn\n",
        "try:\n",
        "  from torchinfo import Summary\n",
        "except:\n",
        "  !pip install torchinfo -q"
      ]
    },
    {
      "cell_type": "code",
      "source": [
        "import requests\n",
        "try:\n",
        "  from going_modular.going_modular import data_setup,engine\n",
        "except:\n",
        "  !git clone https://github.com/mrdbourke/pytorch-deep-learning\n",
        "  !mv pytorch-deep-learning/going_modular .\n",
        "  !rm -rf pytorch-deep-learning\n",
        "  from going_modular.going_modular import data_setup, engine"
      ],
      "metadata": {
        "colab": {
          "base_uri": "https://localhost:8080/"
        },
        "id": "qqfE0-JweFp-",
        "outputId": "f54b8099-0b65-4f3d-a814-35776e2d9e66"
      },
      "execution_count": null,
      "outputs": [
        {
          "output_type": "stream",
          "name": "stdout",
          "text": [
            "Cloning into 'pytorch-deep-learning'...\n",
            "remote: Enumerating objects: 4356, done.\u001b[K\n",
            "remote: Counting objects: 100% (321/321), done.\u001b[K\n",
            "remote: Compressing objects: 100% (142/142), done.\u001b[K\n",
            "remote: Total 4356 (delta 213), reused 254 (delta 178), pack-reused 4035 (from 1)\u001b[K\n",
            "Receiving objects: 100% (4356/4356), 654.51 MiB | 17.43 MiB/s, done.\n",
            "Resolving deltas: 100% (2585/2585), done.\n",
            "Updating files: 100% (248/248), done.\n",
            "rm: cannot remove 'rf': No such file or directory\n",
            "rm: cannot remove 'pytorch-deep-learning': Is a directory\n"
          ]
        }
      ]
    },
    {
      "cell_type": "code",
      "source": [
        "device = 'cuda' if torch.cuda.is_available() else 'cpu'\n",
        "device"
      ],
      "metadata": {
        "colab": {
          "base_uri": "https://localhost:8080/",
          "height": 35
        },
        "id": "DjpZ1nlHyL6E",
        "outputId": "b4006984-71d7-44f9-93dd-130f052ac219"
      },
      "execution_count": null,
      "outputs": [
        {
          "output_type": "execute_result",
          "data": {
            "text/plain": [
              "'cuda'"
            ],
            "application/vnd.google.colaboratory.intrinsic+json": {
              "type": "string"
            }
          },
          "metadata": {},
          "execution_count": 3
        }
      ]
    },
    {
      "cell_type": "code",
      "source": [
        "!rm -rf pytorch-deep-learning"
      ],
      "metadata": {
        "id": "eK_DKxRXfDz1"
      },
      "execution_count": null,
      "outputs": []
    },
    {
      "cell_type": "code",
      "source": [
        "from zipfile import ZipFile"
      ],
      "metadata": {
        "id": "inTehYyQfWnb"
      },
      "execution_count": null,
      "outputs": []
    },
    {
      "cell_type": "code",
      "source": [
        "import requests"
      ],
      "metadata": {
        "id": "p6vy5g4egE4U"
      },
      "execution_count": null,
      "outputs": []
    },
    {
      "cell_type": "code",
      "source": [
        "def download_data(source,\n",
        "                  destination,\n",
        "                  remove_zip= False):\n",
        "\n",
        "\n",
        "  with open(destination/'data.zip','wb') as f:\n",
        "    request = requests.get(source)\n",
        "    f.write(request.content)\n",
        "\n",
        "  with ZipFile(destination/'data.zip','r') as zip_ref:\n",
        "    zip_ref.extractall(destination)\n",
        "\n"
      ],
      "metadata": {
        "id": "PEeCZ0PBf85T"
      },
      "execution_count": null,
      "outputs": []
    },
    {
      "cell_type": "code",
      "source": [
        "from pathlib import Path\n",
        "data = Path('data')\n",
        "image_dir_10 = data/'pizza_steak_sushi'\n",
        "image_dir_20 = data/'pizza_steak_sushi_20'\n",
        "image_dir_10.mkdir(parents = True, exist_ok = True)\n",
        "image_dir_20.mkdir(parents = True, exist_ok = True)"
      ],
      "metadata": {
        "id": "BVjgCWdlgDuW"
      },
      "execution_count": null,
      "outputs": []
    },
    {
      "cell_type": "code",
      "source": [
        "download_data(source=\"https://github.com/mrdbourke/pytorch-deep-learning/raw/main/data/pizza_steak_sushi.zip\",\n",
        "              destination = image_dir_10,\n",
        "              )"
      ],
      "metadata": {
        "id": "kx0eJ8m3gco6"
      },
      "execution_count": null,
      "outputs": []
    },
    {
      "cell_type": "code",
      "source": [
        "download_data(source = \"https://github.com/mrdbourke/pytorch-deep-learning/raw/main/data/pizza_steak_sushi_20_percent.zip\",\n",
        "              destination = image_dir_20)"
      ],
      "metadata": {
        "id": "4ZFUO4l1gcln"
      },
      "execution_count": null,
      "outputs": []
    },
    {
      "cell_type": "code",
      "source": [
        "train_dir_10 = image_dir_10/'train'\n",
        "train_dir_20 = image_dir_20/'train'\n",
        "test_dir = image_dir_10/'test'"
      ],
      "metadata": {
        "id": "m6jww3hwheqp"
      },
      "execution_count": null,
      "outputs": []
    },
    {
      "cell_type": "code",
      "source": [
        "import going_modular.going_modular"
      ],
      "metadata": {
        "id": "orugAjqOh4zI"
      },
      "execution_count": null,
      "outputs": []
    },
    {
      "cell_type": "code",
      "source": [
        "from torchvision import transforms\n",
        "normalize =transforms.Normalize(\n",
        "    mean=[0.485, 0.456, 0.406],std = [0.229, 0.224, 0.225])\n",
        "\n",
        "transform = transforms.Compose([\n",
        "    transforms.Resize((224,224)),\n",
        "    transforms.ToTensor(),\n",
        "    normalize\n",
        "])"
      ],
      "metadata": {
        "id": "KRvbFYoChenO"
      },
      "execution_count": null,
      "outputs": []
    },
    {
      "cell_type": "code",
      "source": [
        "train_dataloder_10, test_dataloader,class_names = data_setup.create_dataloaders(train_dir = train_dir_10,\n",
        "                                                                                  test_dir = test_dir,\n",
        "                                                                                  batch_size = 32,\n",
        "                                                                                  transform = transform\n",
        "                                                                                  )"
      ],
      "metadata": {
        "id": "rf9kreBSe0gr"
      },
      "execution_count": null,
      "outputs": []
    },
    {
      "cell_type": "code",
      "source": [
        "train_dataloder_20, test_dataloader,class_names = data_setup.create_dataloaders(train_dir = train_dir_20,\n",
        "                                                                                  test_dir = test_dir,\n",
        "                                                                                  batch_size = 32,\n",
        "                                                                                  transform = transform\n",
        "                                                                                  )"
      ],
      "metadata": {
        "id": "2fakMADQjJ7f"
      },
      "execution_count": null,
      "outputs": []
    },
    {
      "cell_type": "code",
      "source": [
        "test_dir"
      ],
      "metadata": {
        "colab": {
          "base_uri": "https://localhost:8080/"
        },
        "id": "RZ2d1lao647W",
        "outputId": "1df8ed90-cfe6-4859-daad-d6884b885f7f"
      },
      "execution_count": null,
      "outputs": [
        {
          "output_type": "execute_result",
          "data": {
            "text/plain": [
              "PosixPath('data/pizza_steak_sushi/test')"
            ]
          },
          "metadata": {},
          "execution_count": 61
        }
      ]
    },
    {
      "cell_type": "code",
      "source": [
        "len(train_dataloder_10), len(train_dataloder_20)"
      ],
      "metadata": {
        "colab": {
          "base_uri": "https://localhost:8080/"
        },
        "id": "39lSz_QhjU-B",
        "outputId": "ff4c47e0-35c3-4f5c-dd6b-2ca4874b7810"
      },
      "execution_count": null,
      "outputs": [
        {
          "output_type": "execute_result",
          "data": {
            "text/plain": [
              "(8, 15)"
            ]
          },
          "metadata": {},
          "execution_count": 59
        }
      ]
    },
    {
      "cell_type": "code",
      "source": [
        "# next(iter(train_dataloder_10))"
      ],
      "metadata": {
        "id": "D7x6VBcD7H-T"
      },
      "execution_count": null,
      "outputs": []
    },
    {
      "cell_type": "code",
      "source": [],
      "metadata": {
        "colab": {
          "base_uri": "https://localhost:8080/"
        },
        "id": "jFNxzott7ReG",
        "outputId": "905ad026-444a-48f2-e737-d541d7b9a7f1"
      },
      "execution_count": null,
      "outputs": [
        {
          "output_type": "execute_result",
          "data": {
            "text/plain": [
              "<torch.utils.data.dataloader._MultiProcessingDataLoaderIter at 0x7848c0ae6f80>"
            ]
          },
          "metadata": {},
          "execution_count": 67
        }
      ]
    },
    {
      "cell_type": "code",
      "source": [
        "next(iter(test_dataloder))"
      ],
      "metadata": {
        "colab": {
          "base_uri": "https://localhost:8080/",
          "height": 634
        },
        "id": "aiwIxh0s6yne",
        "outputId": "6f9266bf-0755-411e-de2d-e9cfe8e5e90a"
      },
      "execution_count": null,
      "outputs": [
        {
          "output_type": "error",
          "ename": "TypeError",
          "evalue": "Caught TypeError in DataLoader worker process 0.\nOriginal Traceback (most recent call last):\n  File \"/usr/local/lib/python3.10/dist-packages/torch/utils/data/_utils/worker.py\", line 351, in _worker_loop\n    data = fetcher.fetch(index)  # type: ignore[possibly-undefined]\n  File \"/usr/local/lib/python3.10/dist-packages/torch/utils/data/_utils/fetch.py\", line 52, in fetch\n    data = [self.dataset[idx] for idx in possibly_batched_index]\n  File \"/usr/local/lib/python3.10/dist-packages/torch/utils/data/_utils/fetch.py\", line 52, in <listcomp>\n    data = [self.dataset[idx] for idx in possibly_batched_index]\n  File \"/usr/local/lib/python3.10/dist-packages/torchvision/datasets/folder.py\", line 247, in __getitem__\n    sample = self.transform(sample)\n  File \"/usr/local/lib/python3.10/dist-packages/torchvision/transforms/transforms.py\", line 95, in __call__\n    img = t(img)\n  File \"/usr/local/lib/python3.10/dist-packages/torch/nn/modules/module.py\", line 1736, in _wrapped_call_impl\n    return self._call_impl(*args, **kwargs)\n  File \"/usr/local/lib/python3.10/dist-packages/torch/nn/modules/module.py\", line 1747, in _call_impl\n    return forward_call(*args, **kwargs)\n  File \"/usr/local/lib/python3.10/dist-packages/torchvision/transforms/transforms.py\", line 277, in forward\n    return F.normalize(tensor, self.mean, self.std, self.inplace)\n  File \"/usr/local/lib/python3.10/dist-packages/torchvision/transforms/functional.py\", line 348, in normalize\n    raise TypeError(f\"img should be Tensor Image. Got {type(tensor)}\")\nTypeError: img should be Tensor Image. Got <class 'PIL.Image.Image'>\n",
          "traceback": [
            "\u001b[0;31m---------------------------------------------------------------------------\u001b[0m",
            "\u001b[0;31mTypeError\u001b[0m                                 Traceback (most recent call last)",
            "\u001b[0;32m<ipython-input-60-7a84daea7b5a>\u001b[0m in \u001b[0;36m<cell line: 1>\u001b[0;34m()\u001b[0m\n\u001b[0;32m----> 1\u001b[0;31m \u001b[0mnext\u001b[0m\u001b[0;34m(\u001b[0m\u001b[0miter\u001b[0m\u001b[0;34m(\u001b[0m\u001b[0mtest_dataloder\u001b[0m\u001b[0;34m)\u001b[0m\u001b[0;34m)\u001b[0m\u001b[0;34m\u001b[0m\u001b[0;34m\u001b[0m\u001b[0m\n\u001b[0m",
            "\u001b[0;32m/usr/local/lib/python3.10/dist-packages/torch/utils/data/dataloader.py\u001b[0m in \u001b[0;36m__next__\u001b[0;34m(self)\u001b[0m\n\u001b[1;32m    699\u001b[0m                 \u001b[0;31m# TODO(https://github.com/pytorch/pytorch/issues/76750)\u001b[0m\u001b[0;34m\u001b[0m\u001b[0;34m\u001b[0m\u001b[0m\n\u001b[1;32m    700\u001b[0m                 \u001b[0mself\u001b[0m\u001b[0;34m.\u001b[0m\u001b[0m_reset\u001b[0m\u001b[0;34m(\u001b[0m\u001b[0;34m)\u001b[0m  \u001b[0;31m# type: ignore[call-arg]\u001b[0m\u001b[0;34m\u001b[0m\u001b[0;34m\u001b[0m\u001b[0m\n\u001b[0;32m--> 701\u001b[0;31m             \u001b[0mdata\u001b[0m \u001b[0;34m=\u001b[0m \u001b[0mself\u001b[0m\u001b[0;34m.\u001b[0m\u001b[0m_next_data\u001b[0m\u001b[0;34m(\u001b[0m\u001b[0;34m)\u001b[0m\u001b[0;34m\u001b[0m\u001b[0;34m\u001b[0m\u001b[0m\n\u001b[0m\u001b[1;32m    702\u001b[0m             \u001b[0mself\u001b[0m\u001b[0;34m.\u001b[0m\u001b[0m_num_yielded\u001b[0m \u001b[0;34m+=\u001b[0m \u001b[0;36m1\u001b[0m\u001b[0;34m\u001b[0m\u001b[0;34m\u001b[0m\u001b[0m\n\u001b[1;32m    703\u001b[0m             if (\n",
            "\u001b[0;32m/usr/local/lib/python3.10/dist-packages/torch/utils/data/dataloader.py\u001b[0m in \u001b[0;36m_next_data\u001b[0;34m(self)\u001b[0m\n\u001b[1;32m   1463\u001b[0m             \u001b[0;32melse\u001b[0m\u001b[0;34m:\u001b[0m\u001b[0;34m\u001b[0m\u001b[0;34m\u001b[0m\u001b[0m\n\u001b[1;32m   1464\u001b[0m                 \u001b[0;32mdel\u001b[0m \u001b[0mself\u001b[0m\u001b[0;34m.\u001b[0m\u001b[0m_task_info\u001b[0m\u001b[0;34m[\u001b[0m\u001b[0midx\u001b[0m\u001b[0;34m]\u001b[0m\u001b[0;34m\u001b[0m\u001b[0;34m\u001b[0m\u001b[0m\n\u001b[0;32m-> 1465\u001b[0;31m                 \u001b[0;32mreturn\u001b[0m \u001b[0mself\u001b[0m\u001b[0;34m.\u001b[0m\u001b[0m_process_data\u001b[0m\u001b[0;34m(\u001b[0m\u001b[0mdata\u001b[0m\u001b[0;34m)\u001b[0m\u001b[0;34m\u001b[0m\u001b[0;34m\u001b[0m\u001b[0m\n\u001b[0m\u001b[1;32m   1466\u001b[0m \u001b[0;34m\u001b[0m\u001b[0m\n\u001b[1;32m   1467\u001b[0m     \u001b[0;32mdef\u001b[0m \u001b[0m_try_put_index\u001b[0m\u001b[0;34m(\u001b[0m\u001b[0mself\u001b[0m\u001b[0;34m)\u001b[0m\u001b[0;34m:\u001b[0m\u001b[0;34m\u001b[0m\u001b[0;34m\u001b[0m\u001b[0m\n",
            "\u001b[0;32m/usr/local/lib/python3.10/dist-packages/torch/utils/data/dataloader.py\u001b[0m in \u001b[0;36m_process_data\u001b[0;34m(self, data)\u001b[0m\n\u001b[1;32m   1489\u001b[0m         \u001b[0mself\u001b[0m\u001b[0;34m.\u001b[0m\u001b[0m_try_put_index\u001b[0m\u001b[0;34m(\u001b[0m\u001b[0;34m)\u001b[0m\u001b[0;34m\u001b[0m\u001b[0;34m\u001b[0m\u001b[0m\n\u001b[1;32m   1490\u001b[0m         \u001b[0;32mif\u001b[0m \u001b[0misinstance\u001b[0m\u001b[0;34m(\u001b[0m\u001b[0mdata\u001b[0m\u001b[0;34m,\u001b[0m \u001b[0mExceptionWrapper\u001b[0m\u001b[0;34m)\u001b[0m\u001b[0;34m:\u001b[0m\u001b[0;34m\u001b[0m\u001b[0;34m\u001b[0m\u001b[0m\n\u001b[0;32m-> 1491\u001b[0;31m             \u001b[0mdata\u001b[0m\u001b[0;34m.\u001b[0m\u001b[0mreraise\u001b[0m\u001b[0;34m(\u001b[0m\u001b[0;34m)\u001b[0m\u001b[0;34m\u001b[0m\u001b[0;34m\u001b[0m\u001b[0m\n\u001b[0m\u001b[1;32m   1492\u001b[0m         \u001b[0;32mreturn\u001b[0m \u001b[0mdata\u001b[0m\u001b[0;34m\u001b[0m\u001b[0;34m\u001b[0m\u001b[0m\n\u001b[1;32m   1493\u001b[0m \u001b[0;34m\u001b[0m\u001b[0m\n",
            "\u001b[0;32m/usr/local/lib/python3.10/dist-packages/torch/_utils.py\u001b[0m in \u001b[0;36mreraise\u001b[0;34m(self)\u001b[0m\n\u001b[1;32m    713\u001b[0m             \u001b[0;31m# instantiate since we don't know how to\u001b[0m\u001b[0;34m\u001b[0m\u001b[0;34m\u001b[0m\u001b[0m\n\u001b[1;32m    714\u001b[0m             \u001b[0;32mraise\u001b[0m \u001b[0mRuntimeError\u001b[0m\u001b[0;34m(\u001b[0m\u001b[0mmsg\u001b[0m\u001b[0;34m)\u001b[0m \u001b[0;32mfrom\u001b[0m \u001b[0;32mNone\u001b[0m\u001b[0;34m\u001b[0m\u001b[0;34m\u001b[0m\u001b[0m\n\u001b[0;32m--> 715\u001b[0;31m         \u001b[0;32mraise\u001b[0m \u001b[0mexception\u001b[0m\u001b[0;34m\u001b[0m\u001b[0;34m\u001b[0m\u001b[0m\n\u001b[0m\u001b[1;32m    716\u001b[0m \u001b[0;34m\u001b[0m\u001b[0m\n\u001b[1;32m    717\u001b[0m \u001b[0;34m\u001b[0m\u001b[0m\n",
            "\u001b[0;31mTypeError\u001b[0m: Caught TypeError in DataLoader worker process 0.\nOriginal Traceback (most recent call last):\n  File \"/usr/local/lib/python3.10/dist-packages/torch/utils/data/_utils/worker.py\", line 351, in _worker_loop\n    data = fetcher.fetch(index)  # type: ignore[possibly-undefined]\n  File \"/usr/local/lib/python3.10/dist-packages/torch/utils/data/_utils/fetch.py\", line 52, in fetch\n    data = [self.dataset[idx] for idx in possibly_batched_index]\n  File \"/usr/local/lib/python3.10/dist-packages/torch/utils/data/_utils/fetch.py\", line 52, in <listcomp>\n    data = [self.dataset[idx] for idx in possibly_batched_index]\n  File \"/usr/local/lib/python3.10/dist-packages/torchvision/datasets/folder.py\", line 247, in __getitem__\n    sample = self.transform(sample)\n  File \"/usr/local/lib/python3.10/dist-packages/torchvision/transforms/transforms.py\", line 95, in __call__\n    img = t(img)\n  File \"/usr/local/lib/python3.10/dist-packages/torch/nn/modules/module.py\", line 1736, in _wrapped_call_impl\n    return self._call_impl(*args, **kwargs)\n  File \"/usr/local/lib/python3.10/dist-packages/torch/nn/modules/module.py\", line 1747, in _call_impl\n    return forward_call(*args, **kwargs)\n  File \"/usr/local/lib/python3.10/dist-packages/torchvision/transforms/transforms.py\", line 277, in forward\n    return F.normalize(tensor, self.mean, self.std, self.inplace)\n  File \"/usr/local/lib/python3.10/dist-packages/torchvision/transforms/functional.py\", line 348, in normalize\n    raise TypeError(f\"img should be Tensor Image. Got {type(tensor)}\")\nTypeError: img should be Tensor Image. Got <class 'PIL.Image.Image'>\n"
          ]
        }
      ]
    },
    {
      "cell_type": "code",
      "source": [
        "import torchvision\n",
        "weights_b0 = torchvision.models.EfficientNet_B0_Weights.DEFAULT\n",
        "model_b0 = torchvision.models.efficientnet_b0(weights = weights_b0)\n",
        "\n",
        "weights_b2 = torchvision.models.EfficientNet_B2_Weights.DEFAULT\n",
        "model_b2 = torchvision.models.efficientnet_b2(weights = weights_b2)"
      ],
      "metadata": {
        "colab": {
          "base_uri": "https://localhost:8080/"
        },
        "id": "-eif2Cukja9A",
        "outputId": "c3d2b306-491b-4f3d-fbcf-7baaf82884eb"
      },
      "execution_count": null,
      "outputs": [
        {
          "output_type": "stream",
          "name": "stderr",
          "text": [
            "Downloading: \"https://download.pytorch.org/models/efficientnet_b0_rwightman-7f5810bc.pth\" to /root/.cache/torch/hub/checkpoints/efficientnet_b0_rwightman-7f5810bc.pth\n",
            "100%|██████████| 20.5M/20.5M [00:00<00:00, 149MB/s]\n",
            "Downloading: \"https://download.pytorch.org/models/efficientnet_b2_rwightman-c35c1473.pth\" to /root/.cache/torch/hub/checkpoints/efficientnet_b2_rwightman-c35c1473.pth\n",
            "100%|██████████| 35.2M/35.2M [00:00<00:00, 150MB/s]\n"
          ]
        }
      ]
    },
    {
      "cell_type": "code",
      "source": [],
      "metadata": {
        "id": "xOFsjT-7yFgm"
      },
      "execution_count": null,
      "outputs": []
    },
    {
      "cell_type": "code",
      "source": [
        "try:\n",
        "  from torchinfo import summary\n",
        "except:\n",
        "  print('installing')\n",
        "  !pip install torchinfo\n",
        "  from torchinfo import summary\n"
      ],
      "metadata": {
        "id": "GYLBHlLdj-Z9"
      },
      "execution_count": null,
      "outputs": []
    },
    {
      "cell_type": "code",
      "source": [
        "summary(model_b0, input_size = [1,3,224,224],\n",
        "        col_names = ['input_size','output_size', 'trainable'])"
      ],
      "metadata": {
        "colab": {
          "base_uri": "https://localhost:8080/"
        },
        "id": "UhAprYpfk_cm",
        "outputId": "e9cf44fc-f75b-4817-c49a-025df16e339a"
      },
      "execution_count": null,
      "outputs": [
        {
          "output_type": "execute_result",
          "data": {
            "text/plain": [
              "==================================================================================================================================\n",
              "Layer (type:depth-idx)                                  Input Shape               Output Shape              Trainable\n",
              "==================================================================================================================================\n",
              "EfficientNet                                            [1, 3, 224, 224]          [1, 1000]                 True\n",
              "├─Sequential: 1-1                                       [1, 3, 224, 224]          [1, 1280, 7, 7]           True\n",
              "│    └─Conv2dNormActivation: 2-1                        [1, 3, 224, 224]          [1, 32, 112, 112]         True\n",
              "│    │    └─Conv2d: 3-1                                 [1, 3, 224, 224]          [1, 32, 112, 112]         True\n",
              "│    │    └─BatchNorm2d: 3-2                            [1, 32, 112, 112]         [1, 32, 112, 112]         True\n",
              "│    │    └─SiLU: 3-3                                   [1, 32, 112, 112]         [1, 32, 112, 112]         --\n",
              "│    └─Sequential: 2-2                                  [1, 32, 112, 112]         [1, 16, 112, 112]         True\n",
              "│    │    └─MBConv: 3-4                                 [1, 32, 112, 112]         [1, 16, 112, 112]         True\n",
              "│    └─Sequential: 2-3                                  [1, 16, 112, 112]         [1, 24, 56, 56]           True\n",
              "│    │    └─MBConv: 3-5                                 [1, 16, 112, 112]         [1, 24, 56, 56]           True\n",
              "│    │    └─MBConv: 3-6                                 [1, 24, 56, 56]           [1, 24, 56, 56]           True\n",
              "│    └─Sequential: 2-4                                  [1, 24, 56, 56]           [1, 40, 28, 28]           True\n",
              "│    │    └─MBConv: 3-7                                 [1, 24, 56, 56]           [1, 40, 28, 28]           True\n",
              "│    │    └─MBConv: 3-8                                 [1, 40, 28, 28]           [1, 40, 28, 28]           True\n",
              "│    └─Sequential: 2-5                                  [1, 40, 28, 28]           [1, 80, 14, 14]           True\n",
              "│    │    └─MBConv: 3-9                                 [1, 40, 28, 28]           [1, 80, 14, 14]           True\n",
              "│    │    └─MBConv: 3-10                                [1, 80, 14, 14]           [1, 80, 14, 14]           True\n",
              "│    │    └─MBConv: 3-11                                [1, 80, 14, 14]           [1, 80, 14, 14]           True\n",
              "│    └─Sequential: 2-6                                  [1, 80, 14, 14]           [1, 112, 14, 14]          True\n",
              "│    │    └─MBConv: 3-12                                [1, 80, 14, 14]           [1, 112, 14, 14]          True\n",
              "│    │    └─MBConv: 3-13                                [1, 112, 14, 14]          [1, 112, 14, 14]          True\n",
              "│    │    └─MBConv: 3-14                                [1, 112, 14, 14]          [1, 112, 14, 14]          True\n",
              "│    └─Sequential: 2-7                                  [1, 112, 14, 14]          [1, 192, 7, 7]            True\n",
              "│    │    └─MBConv: 3-15                                [1, 112, 14, 14]          [1, 192, 7, 7]            True\n",
              "│    │    └─MBConv: 3-16                                [1, 192, 7, 7]            [1, 192, 7, 7]            True\n",
              "│    │    └─MBConv: 3-17                                [1, 192, 7, 7]            [1, 192, 7, 7]            True\n",
              "│    │    └─MBConv: 3-18                                [1, 192, 7, 7]            [1, 192, 7, 7]            True\n",
              "│    └─Sequential: 2-8                                  [1, 192, 7, 7]            [1, 320, 7, 7]            True\n",
              "│    │    └─MBConv: 3-19                                [1, 192, 7, 7]            [1, 320, 7, 7]            True\n",
              "│    └─Conv2dNormActivation: 2-9                        [1, 320, 7, 7]            [1, 1280, 7, 7]           True\n",
              "│    │    └─Conv2d: 3-20                                [1, 320, 7, 7]            [1, 1280, 7, 7]           True\n",
              "│    │    └─BatchNorm2d: 3-21                           [1, 1280, 7, 7]           [1, 1280, 7, 7]           True\n",
              "│    │    └─SiLU: 3-22                                  [1, 1280, 7, 7]           [1, 1280, 7, 7]           --\n",
              "├─AdaptiveAvgPool2d: 1-2                                [1, 1280, 7, 7]           [1, 1280, 1, 1]           --\n",
              "├─Sequential: 1-3                                       [1, 1280]                 [1, 1000]                 True\n",
              "│    └─Dropout: 2-10                                    [1, 1280]                 [1, 1280]                 --\n",
              "│    └─Linear: 2-11                                     [1, 1280]                 [1, 1000]                 True\n",
              "==================================================================================================================================\n",
              "Total params: 5,288,548\n",
              "Trainable params: 5,288,548\n",
              "Non-trainable params: 0\n",
              "Total mult-adds (M): 385.87\n",
              "==================================================================================================================================\n",
              "Input size (MB): 0.60\n",
              "Forward/backward pass size (MB): 107.89\n",
              "Params size (MB): 21.15\n",
              "Estimated Total Size (MB): 129.64\n",
              "=================================================================================================================================="
            ]
          },
          "metadata": {},
          "execution_count": 19
        }
      ]
    },
    {
      "cell_type": "code",
      "source": [
        "summary(model_b2, input_size = [1,3,224,224],\n",
        "        col_names = ['input_size','output_size', 'trainable'])"
      ],
      "metadata": {
        "colab": {
          "base_uri": "https://localhost:8080/"
        },
        "id": "xLXAIjN8lETv",
        "outputId": "f425f8c8-0f3e-4f3a-d6e1-0465c03a7b16"
      },
      "execution_count": null,
      "outputs": [
        {
          "output_type": "execute_result",
          "data": {
            "text/plain": [
              "==================================================================================================================================\n",
              "Layer (type:depth-idx)                                  Input Shape               Output Shape              Trainable\n",
              "==================================================================================================================================\n",
              "EfficientNet                                            [1, 3, 224, 224]          [1, 1000]                 True\n",
              "├─Sequential: 1-1                                       [1, 3, 224, 224]          [1, 1408, 7, 7]           True\n",
              "│    └─Conv2dNormActivation: 2-1                        [1, 3, 224, 224]          [1, 32, 112, 112]         True\n",
              "│    │    └─Conv2d: 3-1                                 [1, 3, 224, 224]          [1, 32, 112, 112]         True\n",
              "│    │    └─BatchNorm2d: 3-2                            [1, 32, 112, 112]         [1, 32, 112, 112]         True\n",
              "│    │    └─SiLU: 3-3                                   [1, 32, 112, 112]         [1, 32, 112, 112]         --\n",
              "│    └─Sequential: 2-2                                  [1, 32, 112, 112]         [1, 16, 112, 112]         True\n",
              "│    │    └─MBConv: 3-4                                 [1, 32, 112, 112]         [1, 16, 112, 112]         True\n",
              "│    │    └─MBConv: 3-5                                 [1, 16, 112, 112]         [1, 16, 112, 112]         True\n",
              "│    └─Sequential: 2-3                                  [1, 16, 112, 112]         [1, 24, 56, 56]           True\n",
              "│    │    └─MBConv: 3-6                                 [1, 16, 112, 112]         [1, 24, 56, 56]           True\n",
              "│    │    └─MBConv: 3-7                                 [1, 24, 56, 56]           [1, 24, 56, 56]           True\n",
              "│    │    └─MBConv: 3-8                                 [1, 24, 56, 56]           [1, 24, 56, 56]           True\n",
              "│    └─Sequential: 2-4                                  [1, 24, 56, 56]           [1, 48, 28, 28]           True\n",
              "│    │    └─MBConv: 3-9                                 [1, 24, 56, 56]           [1, 48, 28, 28]           True\n",
              "│    │    └─MBConv: 3-10                                [1, 48, 28, 28]           [1, 48, 28, 28]           True\n",
              "│    │    └─MBConv: 3-11                                [1, 48, 28, 28]           [1, 48, 28, 28]           True\n",
              "│    └─Sequential: 2-5                                  [1, 48, 28, 28]           [1, 88, 14, 14]           True\n",
              "│    │    └─MBConv: 3-12                                [1, 48, 28, 28]           [1, 88, 14, 14]           True\n",
              "│    │    └─MBConv: 3-13                                [1, 88, 14, 14]           [1, 88, 14, 14]           True\n",
              "│    │    └─MBConv: 3-14                                [1, 88, 14, 14]           [1, 88, 14, 14]           True\n",
              "│    │    └─MBConv: 3-15                                [1, 88, 14, 14]           [1, 88, 14, 14]           True\n",
              "│    └─Sequential: 2-6                                  [1, 88, 14, 14]           [1, 120, 14, 14]          True\n",
              "│    │    └─MBConv: 3-16                                [1, 88, 14, 14]           [1, 120, 14, 14]          True\n",
              "│    │    └─MBConv: 3-17                                [1, 120, 14, 14]          [1, 120, 14, 14]          True\n",
              "│    │    └─MBConv: 3-18                                [1, 120, 14, 14]          [1, 120, 14, 14]          True\n",
              "│    │    └─MBConv: 3-19                                [1, 120, 14, 14]          [1, 120, 14, 14]          True\n",
              "│    └─Sequential: 2-7                                  [1, 120, 14, 14]          [1, 208, 7, 7]            True\n",
              "│    │    └─MBConv: 3-20                                [1, 120, 14, 14]          [1, 208, 7, 7]            True\n",
              "│    │    └─MBConv: 3-21                                [1, 208, 7, 7]            [1, 208, 7, 7]            True\n",
              "│    │    └─MBConv: 3-22                                [1, 208, 7, 7]            [1, 208, 7, 7]            True\n",
              "│    │    └─MBConv: 3-23                                [1, 208, 7, 7]            [1, 208, 7, 7]            True\n",
              "│    │    └─MBConv: 3-24                                [1, 208, 7, 7]            [1, 208, 7, 7]            True\n",
              "│    └─Sequential: 2-8                                  [1, 208, 7, 7]            [1, 352, 7, 7]            True\n",
              "│    │    └─MBConv: 3-25                                [1, 208, 7, 7]            [1, 352, 7, 7]            True\n",
              "│    │    └─MBConv: 3-26                                [1, 352, 7, 7]            [1, 352, 7, 7]            True\n",
              "│    └─Conv2dNormActivation: 2-9                        [1, 352, 7, 7]            [1, 1408, 7, 7]           True\n",
              "│    │    └─Conv2d: 3-27                                [1, 352, 7, 7]            [1, 1408, 7, 7]           True\n",
              "│    │    └─BatchNorm2d: 3-28                           [1, 1408, 7, 7]           [1, 1408, 7, 7]           True\n",
              "│    │    └─SiLU: 3-29                                  [1, 1408, 7, 7]           [1, 1408, 7, 7]           --\n",
              "├─AdaptiveAvgPool2d: 1-2                                [1, 1408, 7, 7]           [1, 1408, 1, 1]           --\n",
              "├─Sequential: 1-3                                       [1, 1408]                 [1, 1000]                 True\n",
              "│    └─Dropout: 2-10                                    [1, 1408]                 [1, 1408]                 --\n",
              "│    └─Linear: 2-11                                     [1, 1408]                 [1, 1000]                 True\n",
              "==================================================================================================================================\n",
              "Total params: 9,109,994\n",
              "Trainable params: 9,109,994\n",
              "Non-trainable params: 0\n",
              "Total mult-adds (M): 659.05\n",
              "==================================================================================================================================\n",
              "Input size (MB): 0.60\n",
              "Forward/backward pass size (MB): 156.81\n",
              "Params size (MB): 36.44\n",
              "Estimated Total Size (MB): 193.85\n",
              "=================================================================================================================================="
            ]
          },
          "metadata": {},
          "execution_count": 20
        }
      ]
    },
    {
      "cell_type": "code",
      "source": [],
      "metadata": {
        "id": "C-C3nhb8kKVz"
      },
      "execution_count": null,
      "outputs": []
    },
    {
      "cell_type": "code",
      "source": [
        "for params in model_b0.features.parameters():\n",
        "  params.requires_grad = False\n",
        "\n",
        "for params in model_b2.features.parameters():\n",
        "  params.requires_grad = False"
      ],
      "metadata": {
        "id": "LxfUvjhNkXmB"
      },
      "execution_count": null,
      "outputs": []
    },
    {
      "cell_type": "code",
      "source": [
        "summary(model_b2, input_size = [1,3,224,224],\n",
        "        col_names = ['input_size','output_size', 'trainable'])"
      ],
      "metadata": {
        "colab": {
          "base_uri": "https://localhost:8080/"
        },
        "id": "Mi7IiRWnlb0B",
        "outputId": "0fe4ad1e-13c4-4e0d-e2b7-41062f3a341e"
      },
      "execution_count": null,
      "outputs": [
        {
          "output_type": "execute_result",
          "data": {
            "text/plain": [
              "==================================================================================================================================\n",
              "Layer (type:depth-idx)                                  Input Shape               Output Shape              Trainable\n",
              "==================================================================================================================================\n",
              "EfficientNet                                            [1, 3, 224, 224]          [1, 1000]                 Partial\n",
              "├─Sequential: 1-1                                       [1, 3, 224, 224]          [1, 1408, 7, 7]           False\n",
              "│    └─Conv2dNormActivation: 2-1                        [1, 3, 224, 224]          [1, 32, 112, 112]         False\n",
              "│    │    └─Conv2d: 3-1                                 [1, 3, 224, 224]          [1, 32, 112, 112]         False\n",
              "│    │    └─BatchNorm2d: 3-2                            [1, 32, 112, 112]         [1, 32, 112, 112]         False\n",
              "│    │    └─SiLU: 3-3                                   [1, 32, 112, 112]         [1, 32, 112, 112]         --\n",
              "│    └─Sequential: 2-2                                  [1, 32, 112, 112]         [1, 16, 112, 112]         False\n",
              "│    │    └─MBConv: 3-4                                 [1, 32, 112, 112]         [1, 16, 112, 112]         False\n",
              "│    │    └─MBConv: 3-5                                 [1, 16, 112, 112]         [1, 16, 112, 112]         False\n",
              "│    └─Sequential: 2-3                                  [1, 16, 112, 112]         [1, 24, 56, 56]           False\n",
              "│    │    └─MBConv: 3-6                                 [1, 16, 112, 112]         [1, 24, 56, 56]           False\n",
              "│    │    └─MBConv: 3-7                                 [1, 24, 56, 56]           [1, 24, 56, 56]           False\n",
              "│    │    └─MBConv: 3-8                                 [1, 24, 56, 56]           [1, 24, 56, 56]           False\n",
              "│    └─Sequential: 2-4                                  [1, 24, 56, 56]           [1, 48, 28, 28]           False\n",
              "│    │    └─MBConv: 3-9                                 [1, 24, 56, 56]           [1, 48, 28, 28]           False\n",
              "│    │    └─MBConv: 3-10                                [1, 48, 28, 28]           [1, 48, 28, 28]           False\n",
              "│    │    └─MBConv: 3-11                                [1, 48, 28, 28]           [1, 48, 28, 28]           False\n",
              "│    └─Sequential: 2-5                                  [1, 48, 28, 28]           [1, 88, 14, 14]           False\n",
              "│    │    └─MBConv: 3-12                                [1, 48, 28, 28]           [1, 88, 14, 14]           False\n",
              "│    │    └─MBConv: 3-13                                [1, 88, 14, 14]           [1, 88, 14, 14]           False\n",
              "│    │    └─MBConv: 3-14                                [1, 88, 14, 14]           [1, 88, 14, 14]           False\n",
              "│    │    └─MBConv: 3-15                                [1, 88, 14, 14]           [1, 88, 14, 14]           False\n",
              "│    └─Sequential: 2-6                                  [1, 88, 14, 14]           [1, 120, 14, 14]          False\n",
              "│    │    └─MBConv: 3-16                                [1, 88, 14, 14]           [1, 120, 14, 14]          False\n",
              "│    │    └─MBConv: 3-17                                [1, 120, 14, 14]          [1, 120, 14, 14]          False\n",
              "│    │    └─MBConv: 3-18                                [1, 120, 14, 14]          [1, 120, 14, 14]          False\n",
              "│    │    └─MBConv: 3-19                                [1, 120, 14, 14]          [1, 120, 14, 14]          False\n",
              "│    └─Sequential: 2-7                                  [1, 120, 14, 14]          [1, 208, 7, 7]            False\n",
              "│    │    └─MBConv: 3-20                                [1, 120, 14, 14]          [1, 208, 7, 7]            False\n",
              "│    │    └─MBConv: 3-21                                [1, 208, 7, 7]            [1, 208, 7, 7]            False\n",
              "│    │    └─MBConv: 3-22                                [1, 208, 7, 7]            [1, 208, 7, 7]            False\n",
              "│    │    └─MBConv: 3-23                                [1, 208, 7, 7]            [1, 208, 7, 7]            False\n",
              "│    │    └─MBConv: 3-24                                [1, 208, 7, 7]            [1, 208, 7, 7]            False\n",
              "│    └─Sequential: 2-8                                  [1, 208, 7, 7]            [1, 352, 7, 7]            False\n",
              "│    │    └─MBConv: 3-25                                [1, 208, 7, 7]            [1, 352, 7, 7]            False\n",
              "│    │    └─MBConv: 3-26                                [1, 352, 7, 7]            [1, 352, 7, 7]            False\n",
              "│    └─Conv2dNormActivation: 2-9                        [1, 352, 7, 7]            [1, 1408, 7, 7]           False\n",
              "│    │    └─Conv2d: 3-27                                [1, 352, 7, 7]            [1, 1408, 7, 7]           False\n",
              "│    │    └─BatchNorm2d: 3-28                           [1, 1408, 7, 7]           [1, 1408, 7, 7]           False\n",
              "│    │    └─SiLU: 3-29                                  [1, 1408, 7, 7]           [1, 1408, 7, 7]           --\n",
              "├─AdaptiveAvgPool2d: 1-2                                [1, 1408, 7, 7]           [1, 1408, 1, 1]           --\n",
              "├─Sequential: 1-3                                       [1, 1408]                 [1, 1000]                 True\n",
              "│    └─Dropout: 2-10                                    [1, 1408]                 [1, 1408]                 --\n",
              "│    └─Linear: 2-11                                     [1, 1408]                 [1, 1000]                 True\n",
              "==================================================================================================================================\n",
              "Total params: 9,109,994\n",
              "Trainable params: 1,409,000\n",
              "Non-trainable params: 7,700,994\n",
              "Total mult-adds (M): 659.05\n",
              "==================================================================================================================================\n",
              "Input size (MB): 0.60\n",
              "Forward/backward pass size (MB): 156.81\n",
              "Params size (MB): 36.44\n",
              "Estimated Total Size (MB): 193.85\n",
              "=================================================================================================================================="
            ]
          },
          "metadata": {},
          "execution_count": 22
        }
      ]
    },
    {
      "cell_type": "code",
      "source": [
        "summary(model_b0, input_size = [1,3,224,224],\n",
        "        col_names = ['input_size','output_size', 'trainable'])"
      ],
      "metadata": {
        "colab": {
          "base_uri": "https://localhost:8080/"
        },
        "id": "MeOhKtxqldxD",
        "outputId": "0dfecd5f-35ec-473a-98e3-0c7d658610db"
      },
      "execution_count": null,
      "outputs": [
        {
          "output_type": "execute_result",
          "data": {
            "text/plain": [
              "==================================================================================================================================\n",
              "Layer (type:depth-idx)                                  Input Shape               Output Shape              Trainable\n",
              "==================================================================================================================================\n",
              "EfficientNet                                            [1, 3, 224, 224]          [1, 1000]                 Partial\n",
              "├─Sequential: 1-1                                       [1, 3, 224, 224]          [1, 1280, 7, 7]           False\n",
              "│    └─Conv2dNormActivation: 2-1                        [1, 3, 224, 224]          [1, 32, 112, 112]         False\n",
              "│    │    └─Conv2d: 3-1                                 [1, 3, 224, 224]          [1, 32, 112, 112]         False\n",
              "│    │    └─BatchNorm2d: 3-2                            [1, 32, 112, 112]         [1, 32, 112, 112]         False\n",
              "│    │    └─SiLU: 3-3                                   [1, 32, 112, 112]         [1, 32, 112, 112]         --\n",
              "│    └─Sequential: 2-2                                  [1, 32, 112, 112]         [1, 16, 112, 112]         False\n",
              "│    │    └─MBConv: 3-4                                 [1, 32, 112, 112]         [1, 16, 112, 112]         False\n",
              "│    └─Sequential: 2-3                                  [1, 16, 112, 112]         [1, 24, 56, 56]           False\n",
              "│    │    └─MBConv: 3-5                                 [1, 16, 112, 112]         [1, 24, 56, 56]           False\n",
              "│    │    └─MBConv: 3-6                                 [1, 24, 56, 56]           [1, 24, 56, 56]           False\n",
              "│    └─Sequential: 2-4                                  [1, 24, 56, 56]           [1, 40, 28, 28]           False\n",
              "│    │    └─MBConv: 3-7                                 [1, 24, 56, 56]           [1, 40, 28, 28]           False\n",
              "│    │    └─MBConv: 3-8                                 [1, 40, 28, 28]           [1, 40, 28, 28]           False\n",
              "│    └─Sequential: 2-5                                  [1, 40, 28, 28]           [1, 80, 14, 14]           False\n",
              "│    │    └─MBConv: 3-9                                 [1, 40, 28, 28]           [1, 80, 14, 14]           False\n",
              "│    │    └─MBConv: 3-10                                [1, 80, 14, 14]           [1, 80, 14, 14]           False\n",
              "│    │    └─MBConv: 3-11                                [1, 80, 14, 14]           [1, 80, 14, 14]           False\n",
              "│    └─Sequential: 2-6                                  [1, 80, 14, 14]           [1, 112, 14, 14]          False\n",
              "│    │    └─MBConv: 3-12                                [1, 80, 14, 14]           [1, 112, 14, 14]          False\n",
              "│    │    └─MBConv: 3-13                                [1, 112, 14, 14]          [1, 112, 14, 14]          False\n",
              "│    │    └─MBConv: 3-14                                [1, 112, 14, 14]          [1, 112, 14, 14]          False\n",
              "│    └─Sequential: 2-7                                  [1, 112, 14, 14]          [1, 192, 7, 7]            False\n",
              "│    │    └─MBConv: 3-15                                [1, 112, 14, 14]          [1, 192, 7, 7]            False\n",
              "│    │    └─MBConv: 3-16                                [1, 192, 7, 7]            [1, 192, 7, 7]            False\n",
              "│    │    └─MBConv: 3-17                                [1, 192, 7, 7]            [1, 192, 7, 7]            False\n",
              "│    │    └─MBConv: 3-18                                [1, 192, 7, 7]            [1, 192, 7, 7]            False\n",
              "│    └─Sequential: 2-8                                  [1, 192, 7, 7]            [1, 320, 7, 7]            False\n",
              "│    │    └─MBConv: 3-19                                [1, 192, 7, 7]            [1, 320, 7, 7]            False\n",
              "│    └─Conv2dNormActivation: 2-9                        [1, 320, 7, 7]            [1, 1280, 7, 7]           False\n",
              "│    │    └─Conv2d: 3-20                                [1, 320, 7, 7]            [1, 1280, 7, 7]           False\n",
              "│    │    └─BatchNorm2d: 3-21                           [1, 1280, 7, 7]           [1, 1280, 7, 7]           False\n",
              "│    │    └─SiLU: 3-22                                  [1, 1280, 7, 7]           [1, 1280, 7, 7]           --\n",
              "├─AdaptiveAvgPool2d: 1-2                                [1, 1280, 7, 7]           [1, 1280, 1, 1]           --\n",
              "├─Sequential: 1-3                                       [1, 1280]                 [1, 1000]                 True\n",
              "│    └─Dropout: 2-10                                    [1, 1280]                 [1, 1280]                 --\n",
              "│    └─Linear: 2-11                                     [1, 1280]                 [1, 1000]                 True\n",
              "==================================================================================================================================\n",
              "Total params: 5,288,548\n",
              "Trainable params: 1,281,000\n",
              "Non-trainable params: 4,007,548\n",
              "Total mult-adds (M): 385.87\n",
              "==================================================================================================================================\n",
              "Input size (MB): 0.60\n",
              "Forward/backward pass size (MB): 107.89\n",
              "Params size (MB): 21.15\n",
              "Estimated Total Size (MB): 129.64\n",
              "=================================================================================================================================="
            ]
          },
          "metadata": {},
          "execution_count": 23
        }
      ]
    },
    {
      "cell_type": "markdown",
      "source": [
        "**Set the classifer to the default classifier**"
      ],
      "metadata": {
        "id": "EbpXc0yYlkN6"
      }
    },
    {
      "cell_type": "code",
      "source": [
        "model_b0.classifier = nn.Sequential(\n",
        "    nn.Dropout(0.2),\n",
        "    nn.Linear(1280,len(class_names))\n",
        ")\n",
        "\n",
        "model_b2.classifier = nn.Sequential(\n",
        "    nn.Dropout(0.3, inplace = True),\n",
        "    nn.Linear(1408, len(class_names))\n",
        ")"
      ],
      "metadata": {
        "id": "BWxLSZZklhUe"
      },
      "execution_count": null,
      "outputs": []
    },
    {
      "cell_type": "code",
      "source": [
        "summary(model_b0, input_size = [1,3,224,224],\n",
        "        col_names = ['input_size','output_size', 'trainable'])"
      ],
      "metadata": {
        "colab": {
          "base_uri": "https://localhost:8080/"
        },
        "id": "Q5QBVxL3mLD8",
        "outputId": "b6f8d37b-7c3b-48d1-b52f-09a3519da389"
      },
      "execution_count": null,
      "outputs": [
        {
          "output_type": "execute_result",
          "data": {
            "text/plain": [
              "==================================================================================================================================\n",
              "Layer (type:depth-idx)                                  Input Shape               Output Shape              Trainable\n",
              "==================================================================================================================================\n",
              "EfficientNet                                            [1, 3, 224, 224]          [1, 3]                    Partial\n",
              "├─Sequential: 1-1                                       [1, 3, 224, 224]          [1, 1280, 7, 7]           False\n",
              "│    └─Conv2dNormActivation: 2-1                        [1, 3, 224, 224]          [1, 32, 112, 112]         False\n",
              "│    │    └─Conv2d: 3-1                                 [1, 3, 224, 224]          [1, 32, 112, 112]         False\n",
              "│    │    └─BatchNorm2d: 3-2                            [1, 32, 112, 112]         [1, 32, 112, 112]         False\n",
              "│    │    └─SiLU: 3-3                                   [1, 32, 112, 112]         [1, 32, 112, 112]         --\n",
              "│    └─Sequential: 2-2                                  [1, 32, 112, 112]         [1, 16, 112, 112]         False\n",
              "│    │    └─MBConv: 3-4                                 [1, 32, 112, 112]         [1, 16, 112, 112]         False\n",
              "│    └─Sequential: 2-3                                  [1, 16, 112, 112]         [1, 24, 56, 56]           False\n",
              "│    │    └─MBConv: 3-5                                 [1, 16, 112, 112]         [1, 24, 56, 56]           False\n",
              "│    │    └─MBConv: 3-6                                 [1, 24, 56, 56]           [1, 24, 56, 56]           False\n",
              "│    └─Sequential: 2-4                                  [1, 24, 56, 56]           [1, 40, 28, 28]           False\n",
              "│    │    └─MBConv: 3-7                                 [1, 24, 56, 56]           [1, 40, 28, 28]           False\n",
              "│    │    └─MBConv: 3-8                                 [1, 40, 28, 28]           [1, 40, 28, 28]           False\n",
              "│    └─Sequential: 2-5                                  [1, 40, 28, 28]           [1, 80, 14, 14]           False\n",
              "│    │    └─MBConv: 3-9                                 [1, 40, 28, 28]           [1, 80, 14, 14]           False\n",
              "│    │    └─MBConv: 3-10                                [1, 80, 14, 14]           [1, 80, 14, 14]           False\n",
              "│    │    └─MBConv: 3-11                                [1, 80, 14, 14]           [1, 80, 14, 14]           False\n",
              "│    └─Sequential: 2-6                                  [1, 80, 14, 14]           [1, 112, 14, 14]          False\n",
              "│    │    └─MBConv: 3-12                                [1, 80, 14, 14]           [1, 112, 14, 14]          False\n",
              "│    │    └─MBConv: 3-13                                [1, 112, 14, 14]          [1, 112, 14, 14]          False\n",
              "│    │    └─MBConv: 3-14                                [1, 112, 14, 14]          [1, 112, 14, 14]          False\n",
              "│    └─Sequential: 2-7                                  [1, 112, 14, 14]          [1, 192, 7, 7]            False\n",
              "│    │    └─MBConv: 3-15                                [1, 112, 14, 14]          [1, 192, 7, 7]            False\n",
              "│    │    └─MBConv: 3-16                                [1, 192, 7, 7]            [1, 192, 7, 7]            False\n",
              "│    │    └─MBConv: 3-17                                [1, 192, 7, 7]            [1, 192, 7, 7]            False\n",
              "│    │    └─MBConv: 3-18                                [1, 192, 7, 7]            [1, 192, 7, 7]            False\n",
              "│    └─Sequential: 2-8                                  [1, 192, 7, 7]            [1, 320, 7, 7]            False\n",
              "│    │    └─MBConv: 3-19                                [1, 192, 7, 7]            [1, 320, 7, 7]            False\n",
              "│    └─Conv2dNormActivation: 2-9                        [1, 320, 7, 7]            [1, 1280, 7, 7]           False\n",
              "│    │    └─Conv2d: 3-20                                [1, 320, 7, 7]            [1, 1280, 7, 7]           False\n",
              "│    │    └─BatchNorm2d: 3-21                           [1, 1280, 7, 7]           [1, 1280, 7, 7]           False\n",
              "│    │    └─SiLU: 3-22                                  [1, 1280, 7, 7]           [1, 1280, 7, 7]           --\n",
              "├─AdaptiveAvgPool2d: 1-2                                [1, 1280, 7, 7]           [1, 1280, 1, 1]           --\n",
              "├─Sequential: 1-3                                       [1, 1280]                 [1, 3]                    True\n",
              "│    └─Dropout: 2-10                                    [1, 1280]                 [1, 1280]                 --\n",
              "│    └─Linear: 2-11                                     [1, 1280]                 [1, 3]                    True\n",
              "==================================================================================================================================\n",
              "Total params: 4,011,391\n",
              "Trainable params: 3,843\n",
              "Non-trainable params: 4,007,548\n",
              "Total mult-adds (M): 384.59\n",
              "==================================================================================================================================\n",
              "Input size (MB): 0.60\n",
              "Forward/backward pass size (MB): 107.88\n",
              "Params size (MB): 16.05\n",
              "Estimated Total Size (MB): 124.53\n",
              "=================================================================================================================================="
            ]
          },
          "metadata": {},
          "execution_count": 25
        }
      ]
    },
    {
      "cell_type": "code",
      "source": [
        "summary(model_b2, input_size = [1,3,224,224],\n",
        "        col_names = ['input_size','output_size', 'trainable'])"
      ],
      "metadata": {
        "colab": {
          "base_uri": "https://localhost:8080/"
        },
        "id": "5YdZ-vLdmNeD",
        "outputId": "0e4a4df2-3748-4bbd-eb21-49493362982d"
      },
      "execution_count": null,
      "outputs": [
        {
          "output_type": "execute_result",
          "data": {
            "text/plain": [
              "==================================================================================================================================\n",
              "Layer (type:depth-idx)                                  Input Shape               Output Shape              Trainable\n",
              "==================================================================================================================================\n",
              "EfficientNet                                            [1, 3, 224, 224]          [1, 3]                    Partial\n",
              "├─Sequential: 1-1                                       [1, 3, 224, 224]          [1, 1408, 7, 7]           False\n",
              "│    └─Conv2dNormActivation: 2-1                        [1, 3, 224, 224]          [1, 32, 112, 112]         False\n",
              "│    │    └─Conv2d: 3-1                                 [1, 3, 224, 224]          [1, 32, 112, 112]         False\n",
              "│    │    └─BatchNorm2d: 3-2                            [1, 32, 112, 112]         [1, 32, 112, 112]         False\n",
              "│    │    └─SiLU: 3-3                                   [1, 32, 112, 112]         [1, 32, 112, 112]         --\n",
              "│    └─Sequential: 2-2                                  [1, 32, 112, 112]         [1, 16, 112, 112]         False\n",
              "│    │    └─MBConv: 3-4                                 [1, 32, 112, 112]         [1, 16, 112, 112]         False\n",
              "│    │    └─MBConv: 3-5                                 [1, 16, 112, 112]         [1, 16, 112, 112]         False\n",
              "│    └─Sequential: 2-3                                  [1, 16, 112, 112]         [1, 24, 56, 56]           False\n",
              "│    │    └─MBConv: 3-6                                 [1, 16, 112, 112]         [1, 24, 56, 56]           False\n",
              "│    │    └─MBConv: 3-7                                 [1, 24, 56, 56]           [1, 24, 56, 56]           False\n",
              "│    │    └─MBConv: 3-8                                 [1, 24, 56, 56]           [1, 24, 56, 56]           False\n",
              "│    └─Sequential: 2-4                                  [1, 24, 56, 56]           [1, 48, 28, 28]           False\n",
              "│    │    └─MBConv: 3-9                                 [1, 24, 56, 56]           [1, 48, 28, 28]           False\n",
              "│    │    └─MBConv: 3-10                                [1, 48, 28, 28]           [1, 48, 28, 28]           False\n",
              "│    │    └─MBConv: 3-11                                [1, 48, 28, 28]           [1, 48, 28, 28]           False\n",
              "│    └─Sequential: 2-5                                  [1, 48, 28, 28]           [1, 88, 14, 14]           False\n",
              "│    │    └─MBConv: 3-12                                [1, 48, 28, 28]           [1, 88, 14, 14]           False\n",
              "│    │    └─MBConv: 3-13                                [1, 88, 14, 14]           [1, 88, 14, 14]           False\n",
              "│    │    └─MBConv: 3-14                                [1, 88, 14, 14]           [1, 88, 14, 14]           False\n",
              "│    │    └─MBConv: 3-15                                [1, 88, 14, 14]           [1, 88, 14, 14]           False\n",
              "│    └─Sequential: 2-6                                  [1, 88, 14, 14]           [1, 120, 14, 14]          False\n",
              "│    │    └─MBConv: 3-16                                [1, 88, 14, 14]           [1, 120, 14, 14]          False\n",
              "│    │    └─MBConv: 3-17                                [1, 120, 14, 14]          [1, 120, 14, 14]          False\n",
              "│    │    └─MBConv: 3-18                                [1, 120, 14, 14]          [1, 120, 14, 14]          False\n",
              "│    │    └─MBConv: 3-19                                [1, 120, 14, 14]          [1, 120, 14, 14]          False\n",
              "│    └─Sequential: 2-7                                  [1, 120, 14, 14]          [1, 208, 7, 7]            False\n",
              "│    │    └─MBConv: 3-20                                [1, 120, 14, 14]          [1, 208, 7, 7]            False\n",
              "│    │    └─MBConv: 3-21                                [1, 208, 7, 7]            [1, 208, 7, 7]            False\n",
              "│    │    └─MBConv: 3-22                                [1, 208, 7, 7]            [1, 208, 7, 7]            False\n",
              "│    │    └─MBConv: 3-23                                [1, 208, 7, 7]            [1, 208, 7, 7]            False\n",
              "│    │    └─MBConv: 3-24                                [1, 208, 7, 7]            [1, 208, 7, 7]            False\n",
              "│    └─Sequential: 2-8                                  [1, 208, 7, 7]            [1, 352, 7, 7]            False\n",
              "│    │    └─MBConv: 3-25                                [1, 208, 7, 7]            [1, 352, 7, 7]            False\n",
              "│    │    └─MBConv: 3-26                                [1, 352, 7, 7]            [1, 352, 7, 7]            False\n",
              "│    └─Conv2dNormActivation: 2-9                        [1, 352, 7, 7]            [1, 1408, 7, 7]           False\n",
              "│    │    └─Conv2d: 3-27                                [1, 352, 7, 7]            [1, 1408, 7, 7]           False\n",
              "│    │    └─BatchNorm2d: 3-28                           [1, 1408, 7, 7]           [1, 1408, 7, 7]           False\n",
              "│    │    └─SiLU: 3-29                                  [1, 1408, 7, 7]           [1, 1408, 7, 7]           --\n",
              "├─AdaptiveAvgPool2d: 1-2                                [1, 1408, 7, 7]           [1, 1408, 1, 1]           --\n",
              "├─Sequential: 1-3                                       [1, 1408]                 [1, 3]                    True\n",
              "│    └─Dropout: 2-10                                    [1, 1408]                 [1, 1408]                 --\n",
              "│    └─Linear: 2-11                                     [1, 1408]                 [1, 3]                    True\n",
              "==================================================================================================================================\n",
              "Total params: 7,705,221\n",
              "Trainable params: 4,227\n",
              "Non-trainable params: 7,700,994\n",
              "Total mult-adds (M): 657.64\n",
              "==================================================================================================================================\n",
              "Input size (MB): 0.60\n",
              "Forward/backward pass size (MB): 156.80\n",
              "Params size (MB): 30.82\n",
              "Estimated Total Size (MB): 188.22\n",
              "=================================================================================================================================="
            ]
          },
          "metadata": {},
          "execution_count": 26
        }
      ]
    },
    {
      "cell_type": "code",
      "source": [
        "device = 'cuda' if torch.cuda.is_available() else 'cpu'\n",
        "device"
      ],
      "metadata": {
        "colab": {
          "base_uri": "https://localhost:8080/",
          "height": 35
        },
        "id": "YXjvY7xWxTZJ",
        "outputId": "2d8fbe4c-0aae-4a37-e8c0-e7969c219fe5"
      },
      "execution_count": null,
      "outputs": [
        {
          "output_type": "execute_result",
          "data": {
            "text/plain": [
              "'cuda'"
            ],
            "application/vnd.google.colaboratory.intrinsic+json": {
              "type": "string"
            }
          },
          "metadata": {},
          "execution_count": 28
        }
      ]
    },
    {
      "cell_type": "code",
      "source": [
        "def create_effnet_b0():\n",
        "  weights = torchvision.models.EfficientNet_B0_Weights.DEFAULT\n",
        "  model = torchvision.models.efficientnet_b0(weights = weights).to(device)\n",
        "\n",
        "  for params in model.features.parameters():\n",
        "    params.requires_grad = False\n",
        "\n",
        "  model.classifier = nn.Sequential(\n",
        "      nn.Dropout(0.2),\n",
        "      nn.Linear(1280,len(class_names))\n",
        "  ).to(device)\n",
        "  print('[INFO] The model created is effecient net b0')\n",
        "  return model\n",
        "def create_effnet_b2():\n",
        "  weights = torchvision.models.EfficientNet_B2_Weights.DEFAULT\n",
        "  model = torchvision.models.efficientnet_b2(weights = weights).to(device)\n",
        "\n",
        "  for params in model.features.parameters():\n",
        "    params.requires_grad = False\n",
        "\n",
        "  model.classifier = nn.Sequential(\n",
        "      nn.Dropout(0.2),\n",
        "      nn.Linear(1408,len(class_names))\n",
        "  ).to(device)\n",
        "  print('[INFO] The model created is effecient net b2')\n",
        "  return model\n",
        "\n"
      ],
      "metadata": {
        "id": "ZwplVSezmaYJ"
      },
      "execution_count": null,
      "outputs": []
    },
    {
      "cell_type": "markdown",
      "source": [
        "# Create Experiments with the different models epochs, and datasets"
      ],
      "metadata": {
        "id": "0D0o3axQys-2"
      }
    },
    {
      "cell_type": "code",
      "source": [],
      "metadata": {
        "id": "DvYcVFzyy9wx"
      },
      "execution_count": null,
      "outputs": []
    },
    {
      "cell_type": "code",
      "source": [
        "try:\n",
        "  from torch.utils.tensorboard import SummaryWriter\n",
        "except:\n",
        "  !pip install tensorboard\n",
        "  from torch.utils.tensorboard import SummaryWriter\n"
      ],
      "metadata": {
        "id": "R0aEap14zXD-"
      },
      "execution_count": null,
      "outputs": []
    },
    {
      "cell_type": "code",
      "source": [
        "import torch\n",
        "\n",
        "from tqdm.auto import tqdm\n",
        "from typing import Dict, List, Tuple\n",
        "\n",
        "def train(model: torch.nn.Module,\n",
        "          train_dataloader: torch.utils.data.DataLoader,\n",
        "          test_dataloader: torch.utils.data.DataLoader,\n",
        "          optimizer: torch.optim.Optimizer,\n",
        "          loss_fn: torch.nn.Module,\n",
        "          epochs: int,\n",
        "          device: torch.device,\n",
        "          writer: torch.utils.tensorboard.writer.SummaryWriter = None\n",
        "          ) -> Dict[str, List]:\n",
        "    \"\"\"Trains and tests a PyTorch model.\n",
        "\n",
        "    Passes a target PyTorch models through train_step() and test_step()\n",
        "    functions for a number of epochs, training and testing the model\n",
        "    in the same epoch loop.\n",
        "\n",
        "    Calculates, prints and stores evaluation metrics throughout.\n",
        "\n",
        "    Args:\n",
        "    model: A PyTorch model to be trained and tested.\n",
        "    train_dataloader: A DataLoader instance for the model to be trained on.\n",
        "    test_dataloader: A DataLoader instance for the model to be tested on.\n",
        "    optimizer: A PyTorch optimizer to help minimize the loss function.\n",
        "    loss_fn: A PyTorch loss function to calculate loss on both datasets.\n",
        "    epochs: An integer indicating how many epochs to train for.\n",
        "    device: A target device to compute on (e.g. \"cuda\" or \"cpu\").\n",
        "\n",
        "    Returns:\n",
        "    A dictionary of training and testing loss as well as training and\n",
        "    testing accuracy metrics. Each metric has a value in a list for\n",
        "    each epoch.\n",
        "    In the form: {train_loss: [...],\n",
        "              train_acc: [...],\n",
        "              test_loss: [...],\n",
        "              test_acc: [...]}\n",
        "    For example if training for epochs=2:\n",
        "             {train_loss: [2.0616, 1.0537],\n",
        "              train_acc: [0.3945, 0.3945],\n",
        "              test_loss: [1.2641, 1.5706],\n",
        "              test_acc: [0.3400, 0.2973]}\n",
        "    \"\"\"\n",
        "    # Create empty results dictionary\n",
        "    results = {\"train_loss\": [],\n",
        "               \"train_acc\": [],\n",
        "               \"test_loss\": [],\n",
        "               \"test_acc\": []\n",
        "    }\n",
        "\n",
        "    # Make sure model on target device\n",
        "    model.to(device)\n",
        "\n",
        "    # Loop through training and testing steps for a number of epochs\n",
        "    for epoch in tqdm(range(epochs)):\n",
        "        train_loss, train_acc = engine.train_step(model=model,\n",
        "                                          dataloader=train_dataloader,\n",
        "                                          loss_fn=loss_fn,\n",
        "                                          optimizer=optimizer,\n",
        "                                          device=device)\n",
        "        test_loss, test_acc = engine.test_step(model=model,\n",
        "          dataloader=test_dataloader,\n",
        "          loss_fn=loss_fn,\n",
        "          device=device)\n",
        "\n",
        "        # Print out what's happening\n",
        "        print(\n",
        "          f\"Epoch: {epoch+1} | \"\n",
        "          f\"train_loss: {train_loss:.4f} | \"\n",
        "          f\"train_acc: {train_acc:.4f} | \"\n",
        "          f\"test_loss: {test_loss:.4f} | \"\n",
        "          f\"test_acc: {test_acc:.4f}\"\n",
        "        )\n",
        "\n",
        "        # Update results dictionary\n",
        "        results[\"train_loss\"].append(train_loss)\n",
        "        results[\"train_acc\"].append(train_acc)\n",
        "        results[\"test_loss\"].append(test_loss)\n",
        "        results[\"test_acc\"].append(test_acc)\n",
        "\n",
        "        if writer:\n",
        "          writer.add_scalars(main_tag = 'loss',\n",
        "                            tag_scalar_dict= {'train_loss' : train_loss,\n",
        "                                            'test_loss': test_loss},\n",
        "                            global_step = epoch)\n",
        "\n",
        "          writer.add_scalars(main_tag = 'accuracy',\n",
        "                            tag_scalar_dict = {'train_acc': train_acc,\n",
        "                                                'test_acc': test_acc},\n",
        "                            global_step = epoch)\n",
        "\n",
        "          writer.add_graph(model = model,\n",
        "                          input_to_model = torch.randn(32,3,224,224))\n",
        "          writer.close()\n",
        "        else:\n",
        "          pass\n",
        "\n",
        "\n",
        "    # Return the filled results at the end of the epochs\n",
        "    return results\n"
      ],
      "metadata": {
        "id": "pBOWmrYay9tG"
      },
      "execution_count": null,
      "outputs": []
    },
    {
      "cell_type": "code",
      "source": [
        "import time\n",
        "\n",
        "def create_writer(experiment_name,\n",
        "                  model_name,\n",
        "                  extras):\n",
        "\n",
        "    \"\"\"Creates a torch.utils.tensorboard.writer.SummaryWriter() instance saving to a specific log_dir.\n",
        "\n",
        "    log_dir is a combination of runs/timestamp/experiment_name/model_name/extra.\n",
        "\n",
        "    Where timestamp is the current date in YYYY-MM-DD format.\n",
        "\n",
        "    Args:\n",
        "        experiment_name (str): Name of experiment.\n",
        "        model_name (str): Name of model.\n",
        "        extra (str, optional): Anything extra to add to the directory. Defaults to None.\n",
        "\n",
        "    Returns:\n",
        "        torch.utils.tensorboard.writer.SummaryWriter(): Instance of a writer saving to log_dir.\n",
        "\n",
        "    Example usage:\n",
        "        # Create a writer saving to \"runs/2022-06-04/data_10_percent/effnetb2/5_epochs/\"\n",
        "        writer = create_writer(experiment_name=\"data_10_percent\",\n",
        "                               model_name=\"effnetb2\",\n",
        "                               extra=\"5_epochs\")\n",
        "        # The above is the same as:\n",
        "        writer = SummaryWriter(log_dir=\"runs/2022-06-04/data_10_percent/effnetb2/5_epochs/\")\n",
        "    \"\"\"\n",
        "\n",
        "    from datetime import datetime\n",
        "    time_stamp = datetime.now().strftime(\"%Y-%m-%d\")\n",
        "    import os\n",
        "    if extras:\n",
        "      directory = os.path.join(time_stamp,experiment_name,model_name, extras)\n",
        "    else:\n",
        "      directory = os.path.join(time_stamp,experiment_name,model_name)\n",
        "    print(f'The directory is {directory}')\n",
        "\n",
        "    return SummaryWriter(log_dir = directory)\n",
        "\n"
      ],
      "metadata": {
        "id": "cn1NiQrDykuB"
      },
      "execution_count": null,
      "outputs": []
    },
    {
      "cell_type": "code",
      "source": [
        "epochs = [5,10]\n",
        "model_names = ['eff_b0', 'eff_b2']\n",
        "train_datasets = {'train_data_10percent':train_dataloder_10,'train_data_20percent': train_dataloder_20}"
      ],
      "metadata": {
        "id": "VGlfye9_0BSl"
      },
      "execution_count": null,
      "outputs": []
    },
    {
      "cell_type": "code",
      "source": [
        "next(iter(test_dataloder))"
      ],
      "metadata": {
        "colab": {
          "base_uri": "https://localhost:8080/",
          "height": 634
        },
        "id": "g7cOfaJW55lY",
        "outputId": "0d35e2c2-6772-477f-8d7e-87cc5f122df9"
      },
      "execution_count": null,
      "outputs": [
        {
          "output_type": "error",
          "ename": "TypeError",
          "evalue": "Caught TypeError in DataLoader worker process 0.\nOriginal Traceback (most recent call last):\n  File \"/usr/local/lib/python3.10/dist-packages/torch/utils/data/_utils/worker.py\", line 351, in _worker_loop\n    data = fetcher.fetch(index)  # type: ignore[possibly-undefined]\n  File \"/usr/local/lib/python3.10/dist-packages/torch/utils/data/_utils/fetch.py\", line 52, in fetch\n    data = [self.dataset[idx] for idx in possibly_batched_index]\n  File \"/usr/local/lib/python3.10/dist-packages/torch/utils/data/_utils/fetch.py\", line 52, in <listcomp>\n    data = [self.dataset[idx] for idx in possibly_batched_index]\n  File \"/usr/local/lib/python3.10/dist-packages/torchvision/datasets/folder.py\", line 247, in __getitem__\n    sample = self.transform(sample)\n  File \"/usr/local/lib/python3.10/dist-packages/torchvision/transforms/transforms.py\", line 95, in __call__\n    img = t(img)\n  File \"/usr/local/lib/python3.10/dist-packages/torch/nn/modules/module.py\", line 1736, in _wrapped_call_impl\n    return self._call_impl(*args, **kwargs)\n  File \"/usr/local/lib/python3.10/dist-packages/torch/nn/modules/module.py\", line 1747, in _call_impl\n    return forward_call(*args, **kwargs)\n  File \"/usr/local/lib/python3.10/dist-packages/torchvision/transforms/transforms.py\", line 277, in forward\n    return F.normalize(tensor, self.mean, self.std, self.inplace)\n  File \"/usr/local/lib/python3.10/dist-packages/torchvision/transforms/functional.py\", line 348, in normalize\n    raise TypeError(f\"img should be Tensor Image. Got {type(tensor)}\")\nTypeError: img should be Tensor Image. Got <class 'PIL.Image.Image'>\n",
          "traceback": [
            "\u001b[0;31m---------------------------------------------------------------------------\u001b[0m",
            "\u001b[0;31mTypeError\u001b[0m                                 Traceback (most recent call last)",
            "\u001b[0;32m<ipython-input-56-7a84daea7b5a>\u001b[0m in \u001b[0;36m<cell line: 1>\u001b[0;34m()\u001b[0m\n\u001b[0;32m----> 1\u001b[0;31m \u001b[0mnext\u001b[0m\u001b[0;34m(\u001b[0m\u001b[0miter\u001b[0m\u001b[0;34m(\u001b[0m\u001b[0mtest_dataloder\u001b[0m\u001b[0;34m)\u001b[0m\u001b[0;34m)\u001b[0m\u001b[0;34m\u001b[0m\u001b[0;34m\u001b[0m\u001b[0m\n\u001b[0m",
            "\u001b[0;32m/usr/local/lib/python3.10/dist-packages/torch/utils/data/dataloader.py\u001b[0m in \u001b[0;36m__next__\u001b[0;34m(self)\u001b[0m\n\u001b[1;32m    699\u001b[0m                 \u001b[0;31m# TODO(https://github.com/pytorch/pytorch/issues/76750)\u001b[0m\u001b[0;34m\u001b[0m\u001b[0;34m\u001b[0m\u001b[0m\n\u001b[1;32m    700\u001b[0m                 \u001b[0mself\u001b[0m\u001b[0;34m.\u001b[0m\u001b[0m_reset\u001b[0m\u001b[0;34m(\u001b[0m\u001b[0;34m)\u001b[0m  \u001b[0;31m# type: ignore[call-arg]\u001b[0m\u001b[0;34m\u001b[0m\u001b[0;34m\u001b[0m\u001b[0m\n\u001b[0;32m--> 701\u001b[0;31m             \u001b[0mdata\u001b[0m \u001b[0;34m=\u001b[0m \u001b[0mself\u001b[0m\u001b[0;34m.\u001b[0m\u001b[0m_next_data\u001b[0m\u001b[0;34m(\u001b[0m\u001b[0;34m)\u001b[0m\u001b[0;34m\u001b[0m\u001b[0;34m\u001b[0m\u001b[0m\n\u001b[0m\u001b[1;32m    702\u001b[0m             \u001b[0mself\u001b[0m\u001b[0;34m.\u001b[0m\u001b[0m_num_yielded\u001b[0m \u001b[0;34m+=\u001b[0m \u001b[0;36m1\u001b[0m\u001b[0;34m\u001b[0m\u001b[0;34m\u001b[0m\u001b[0m\n\u001b[1;32m    703\u001b[0m             if (\n",
            "\u001b[0;32m/usr/local/lib/python3.10/dist-packages/torch/utils/data/dataloader.py\u001b[0m in \u001b[0;36m_next_data\u001b[0;34m(self)\u001b[0m\n\u001b[1;32m   1463\u001b[0m             \u001b[0;32melse\u001b[0m\u001b[0;34m:\u001b[0m\u001b[0;34m\u001b[0m\u001b[0;34m\u001b[0m\u001b[0m\n\u001b[1;32m   1464\u001b[0m                 \u001b[0;32mdel\u001b[0m \u001b[0mself\u001b[0m\u001b[0;34m.\u001b[0m\u001b[0m_task_info\u001b[0m\u001b[0;34m[\u001b[0m\u001b[0midx\u001b[0m\u001b[0;34m]\u001b[0m\u001b[0;34m\u001b[0m\u001b[0;34m\u001b[0m\u001b[0m\n\u001b[0;32m-> 1465\u001b[0;31m                 \u001b[0;32mreturn\u001b[0m \u001b[0mself\u001b[0m\u001b[0;34m.\u001b[0m\u001b[0m_process_data\u001b[0m\u001b[0;34m(\u001b[0m\u001b[0mdata\u001b[0m\u001b[0;34m)\u001b[0m\u001b[0;34m\u001b[0m\u001b[0;34m\u001b[0m\u001b[0m\n\u001b[0m\u001b[1;32m   1466\u001b[0m \u001b[0;34m\u001b[0m\u001b[0m\n\u001b[1;32m   1467\u001b[0m     \u001b[0;32mdef\u001b[0m \u001b[0m_try_put_index\u001b[0m\u001b[0;34m(\u001b[0m\u001b[0mself\u001b[0m\u001b[0;34m)\u001b[0m\u001b[0;34m:\u001b[0m\u001b[0;34m\u001b[0m\u001b[0;34m\u001b[0m\u001b[0m\n",
            "\u001b[0;32m/usr/local/lib/python3.10/dist-packages/torch/utils/data/dataloader.py\u001b[0m in \u001b[0;36m_process_data\u001b[0;34m(self, data)\u001b[0m\n\u001b[1;32m   1489\u001b[0m         \u001b[0mself\u001b[0m\u001b[0;34m.\u001b[0m\u001b[0m_try_put_index\u001b[0m\u001b[0;34m(\u001b[0m\u001b[0;34m)\u001b[0m\u001b[0;34m\u001b[0m\u001b[0;34m\u001b[0m\u001b[0m\n\u001b[1;32m   1490\u001b[0m         \u001b[0;32mif\u001b[0m \u001b[0misinstance\u001b[0m\u001b[0;34m(\u001b[0m\u001b[0mdata\u001b[0m\u001b[0;34m,\u001b[0m \u001b[0mExceptionWrapper\u001b[0m\u001b[0;34m)\u001b[0m\u001b[0;34m:\u001b[0m\u001b[0;34m\u001b[0m\u001b[0;34m\u001b[0m\u001b[0m\n\u001b[0;32m-> 1491\u001b[0;31m             \u001b[0mdata\u001b[0m\u001b[0;34m.\u001b[0m\u001b[0mreraise\u001b[0m\u001b[0;34m(\u001b[0m\u001b[0;34m)\u001b[0m\u001b[0;34m\u001b[0m\u001b[0;34m\u001b[0m\u001b[0m\n\u001b[0m\u001b[1;32m   1492\u001b[0m         \u001b[0;32mreturn\u001b[0m \u001b[0mdata\u001b[0m\u001b[0;34m\u001b[0m\u001b[0;34m\u001b[0m\u001b[0m\n\u001b[1;32m   1493\u001b[0m \u001b[0;34m\u001b[0m\u001b[0m\n",
            "\u001b[0;32m/usr/local/lib/python3.10/dist-packages/torch/_utils.py\u001b[0m in \u001b[0;36mreraise\u001b[0;34m(self)\u001b[0m\n\u001b[1;32m    713\u001b[0m             \u001b[0;31m# instantiate since we don't know how to\u001b[0m\u001b[0;34m\u001b[0m\u001b[0;34m\u001b[0m\u001b[0m\n\u001b[1;32m    714\u001b[0m             \u001b[0;32mraise\u001b[0m \u001b[0mRuntimeError\u001b[0m\u001b[0;34m(\u001b[0m\u001b[0mmsg\u001b[0m\u001b[0;34m)\u001b[0m \u001b[0;32mfrom\u001b[0m \u001b[0;32mNone\u001b[0m\u001b[0;34m\u001b[0m\u001b[0;34m\u001b[0m\u001b[0m\n\u001b[0;32m--> 715\u001b[0;31m         \u001b[0;32mraise\u001b[0m \u001b[0mexception\u001b[0m\u001b[0;34m\u001b[0m\u001b[0;34m\u001b[0m\u001b[0m\n\u001b[0m\u001b[1;32m    716\u001b[0m \u001b[0;34m\u001b[0m\u001b[0m\n\u001b[1;32m    717\u001b[0m \u001b[0;34m\u001b[0m\u001b[0m\n",
            "\u001b[0;31mTypeError\u001b[0m: Caught TypeError in DataLoader worker process 0.\nOriginal Traceback (most recent call last):\n  File \"/usr/local/lib/python3.10/dist-packages/torch/utils/data/_utils/worker.py\", line 351, in _worker_loop\n    data = fetcher.fetch(index)  # type: ignore[possibly-undefined]\n  File \"/usr/local/lib/python3.10/dist-packages/torch/utils/data/_utils/fetch.py\", line 52, in fetch\n    data = [self.dataset[idx] for idx in possibly_batched_index]\n  File \"/usr/local/lib/python3.10/dist-packages/torch/utils/data/_utils/fetch.py\", line 52, in <listcomp>\n    data = [self.dataset[idx] for idx in possibly_batched_index]\n  File \"/usr/local/lib/python3.10/dist-packages/torchvision/datasets/folder.py\", line 247, in __getitem__\n    sample = self.transform(sample)\n  File \"/usr/local/lib/python3.10/dist-packages/torchvision/transforms/transforms.py\", line 95, in __call__\n    img = t(img)\n  File \"/usr/local/lib/python3.10/dist-packages/torch/nn/modules/module.py\", line 1736, in _wrapped_call_impl\n    return self._call_impl(*args, **kwargs)\n  File \"/usr/local/lib/python3.10/dist-packages/torch/nn/modules/module.py\", line 1747, in _call_impl\n    return forward_call(*args, **kwargs)\n  File \"/usr/local/lib/python3.10/dist-packages/torchvision/transforms/transforms.py\", line 277, in forward\n    return F.normalize(tensor, self.mean, self.std, self.inplace)\n  File \"/usr/local/lib/python3.10/dist-packages/torchvision/transforms/functional.py\", line 348, in normalize\n    raise TypeError(f\"img should be Tensor Image. Got {type(tensor)}\")\nTypeError: img should be Tensor Image. Got <class 'PIL.Image.Image'>\n"
          ]
        }
      ]
    },
    {
      "cell_type": "code",
      "source": [
        "from going_modular.going_modular import utils"
      ],
      "metadata": {
        "id": "1RukJIrq2rnD"
      },
      "execution_count": null,
      "outputs": []
    },
    {
      "cell_type": "code",
      "source": [
        "from going_modular.going_modular import utils\n",
        "Exp_no = 0\n",
        "for epoch in epochs:\n",
        "  for model_name in model_names:\n",
        "    for data_name,train_data in train_datasets.items():\n",
        "      Exp_no += 1\n",
        "      print(f'Experiment: {Exp_no} | data: {data_name} |model_name:{model_name} | epochs: {epoch}')\n",
        "\n",
        "      if model_name == 'eff_bo':\n",
        "        model = create_effnet_b0()\n",
        "      else:\n",
        "        model = create_effnet_b2()\n",
        "      loss_fn = nn.CrossEntropyLoss()\n",
        "      optimizer = torch.optim.Adam(params = model.parameters(), lr = 0.001)\n",
        "      # print(model)\n",
        "      # print(train_data)\n",
        "      # print(test_dataloader)\n",
        "      result = train(model = model,\n",
        "            train_dataloader= train_data,\n",
        "            test_dataloader= test_dataloader,\n",
        "            optimizer = optimizer,\n",
        "            loss_fn = loss_fn,\n",
        "            epochs = epoch,\n",
        "            device = device,\n",
        "            writer = create_writer(experiment_name = data_name,\n",
        "                                   model_name = model_name,\n",
        "                                   extras = f'epoch_{epoch}'))\n",
        "\n",
        "      save_path = f'{model_name}_{data_name}_{epochs}.pth'\n",
        "      utils.save_model(model, save_path,model_name)\n",
        "\n",
        "      print('-'* 50 + '\\n')\n"
      ],
      "metadata": {
        "colab": {
          "base_uri": "https://localhost:8080/",
          "height": 787,
          "referenced_widgets": [
            "9cb68b3f52ec41f0b1879d5bc2fddc55",
            "6d047090c07e4932b6f1b9e29fd2bac8",
            "9c909262da3141f2b06d1170b1ddd898",
            "76c14ad0d77b4fac99a82b01c5dafa9c",
            "981646b7bd404dafa58e88c5d3e8f63b",
            "0b774990e2864fa7938871ea7d541372",
            "dba94f456dae40b3b7ab652ac2f25de6",
            "dd000c96472049dfb870c29f09825721",
            "7d605b0e434243bf9415e30da0b37322",
            "c273c46f0ea84f998fe06f6dc11793a4",
            "0aa1238f858249df9671c83a78cc1e88"
          ]
        },
        "id": "WwqCzWBA0DoE",
        "outputId": "56af37df-fd12-4938-ef10-f880936cf8e5"
      },
      "execution_count": null,
      "outputs": [
        {
          "output_type": "stream",
          "name": "stdout",
          "text": [
            "Experiment: 1 | data: train_data_10percent |model_name:eff_b0 | epochs: 5\n",
            "[INFO] The model created is effecient net b2\n",
            "The directory is 2024-10-24/train_data_10percent/eff_b0/epoch_5\n"
          ]
        },
        {
          "output_type": "display_data",
          "data": {
            "text/plain": [
              "  0%|          | 0/5 [00:00<?, ?it/s]"
            ],
            "application/vnd.jupyter.widget-view+json": {
              "version_major": 2,
              "version_minor": 0,
              "model_id": "9cb68b3f52ec41f0b1879d5bc2fddc55"
            }
          },
          "metadata": {}
        },
        {
          "output_type": "error",
          "ename": "TypeError",
          "evalue": "Caught TypeError in DataLoader worker process 0.\nOriginal Traceback (most recent call last):\n  File \"/usr/local/lib/python3.10/dist-packages/torch/utils/data/_utils/worker.py\", line 351, in _worker_loop\n    data = fetcher.fetch(index)  # type: ignore[possibly-undefined]\n  File \"/usr/local/lib/python3.10/dist-packages/torch/utils/data/_utils/fetch.py\", line 52, in fetch\n    data = [self.dataset[idx] for idx in possibly_batched_index]\n  File \"/usr/local/lib/python3.10/dist-packages/torch/utils/data/_utils/fetch.py\", line 52, in <listcomp>\n    data = [self.dataset[idx] for idx in possibly_batched_index]\n  File \"/usr/local/lib/python3.10/dist-packages/torchvision/datasets/folder.py\", line 247, in __getitem__\n    sample = self.transform(sample)\n  File \"/usr/local/lib/python3.10/dist-packages/torchvision/transforms/transforms.py\", line 95, in __call__\n    img = t(img)\n  File \"/usr/local/lib/python3.10/dist-packages/torch/nn/modules/module.py\", line 1736, in _wrapped_call_impl\n    return self._call_impl(*args, **kwargs)\n  File \"/usr/local/lib/python3.10/dist-packages/torch/nn/modules/module.py\", line 1747, in _call_impl\n    return forward_call(*args, **kwargs)\n  File \"/usr/local/lib/python3.10/dist-packages/torchvision/transforms/transforms.py\", line 277, in forward\n    return F.normalize(tensor, self.mean, self.std, self.inplace)\n  File \"/usr/local/lib/python3.10/dist-packages/torchvision/transforms/functional.py\", line 348, in normalize\n    raise TypeError(f\"img should be Tensor Image. Got {type(tensor)}\")\nTypeError: img should be Tensor Image. Got <class 'PIL.Image.Image'>\n",
          "traceback": [
            "\u001b[0;31m---------------------------------------------------------------------------\u001b[0m",
            "\u001b[0;31mTypeError\u001b[0m                                 Traceback (most recent call last)",
            "\u001b[0;32m<ipython-input-53-3ec18edd0f0b>\u001b[0m in \u001b[0;36m<cell line: 3>\u001b[0;34m()\u001b[0m\n\u001b[1;32m     16\u001b[0m       \u001b[0;31m# print(train_data)\u001b[0m\u001b[0;34m\u001b[0m\u001b[0;34m\u001b[0m\u001b[0m\n\u001b[1;32m     17\u001b[0m       \u001b[0;31m# print(test_dataloader)\u001b[0m\u001b[0;34m\u001b[0m\u001b[0;34m\u001b[0m\u001b[0m\n\u001b[0;32m---> 18\u001b[0;31m       result = train(model = model,\n\u001b[0m\u001b[1;32m     19\u001b[0m             \u001b[0mtrain_dataloader\u001b[0m\u001b[0;34m=\u001b[0m \u001b[0mtrain_data\u001b[0m\u001b[0;34m,\u001b[0m\u001b[0;34m\u001b[0m\u001b[0;34m\u001b[0m\u001b[0m\n\u001b[1;32m     20\u001b[0m             \u001b[0mtest_dataloader\u001b[0m\u001b[0;34m=\u001b[0m \u001b[0mtest_dataloader\u001b[0m\u001b[0;34m,\u001b[0m\u001b[0;34m\u001b[0m\u001b[0;34m\u001b[0m\u001b[0m\n",
            "\u001b[0;32m<ipython-input-39-ace99a45e492>\u001b[0m in \u001b[0;36mtrain\u001b[0;34m(model, train_dataloader, test_dataloader, optimizer, loss_fn, epochs, device, writer)\u001b[0m\n\u001b[1;32m     56\u001b[0m     \u001b[0;31m# Loop through training and testing steps for a number of epochs\u001b[0m\u001b[0;34m\u001b[0m\u001b[0;34m\u001b[0m\u001b[0m\n\u001b[1;32m     57\u001b[0m     \u001b[0;32mfor\u001b[0m \u001b[0mepoch\u001b[0m \u001b[0;32min\u001b[0m \u001b[0mtqdm\u001b[0m\u001b[0;34m(\u001b[0m\u001b[0mrange\u001b[0m\u001b[0;34m(\u001b[0m\u001b[0mepochs\u001b[0m\u001b[0;34m)\u001b[0m\u001b[0;34m)\u001b[0m\u001b[0;34m:\u001b[0m\u001b[0;34m\u001b[0m\u001b[0;34m\u001b[0m\u001b[0m\n\u001b[0;32m---> 58\u001b[0;31m         train_loss, train_acc = engine.train_step(model=model,\n\u001b[0m\u001b[1;32m     59\u001b[0m                                           \u001b[0mdataloader\u001b[0m\u001b[0;34m=\u001b[0m\u001b[0mtrain_dataloader\u001b[0m\u001b[0;34m,\u001b[0m\u001b[0;34m\u001b[0m\u001b[0;34m\u001b[0m\u001b[0m\n\u001b[1;32m     60\u001b[0m                                           \u001b[0mloss_fn\u001b[0m\u001b[0;34m=\u001b[0m\u001b[0mloss_fn\u001b[0m\u001b[0;34m,\u001b[0m\u001b[0;34m\u001b[0m\u001b[0;34m\u001b[0m\u001b[0m\n",
            "\u001b[0;32m/content/going_modular/going_modular/engine.py\u001b[0m in \u001b[0;36mtrain_step\u001b[0;34m(model, dataloader, loss_fn, optimizer, device)\u001b[0m\n\u001b[1;32m     38\u001b[0m \u001b[0;34m\u001b[0m\u001b[0m\n\u001b[1;32m     39\u001b[0m     \u001b[0;31m# Loop through data loader data batches\u001b[0m\u001b[0;34m\u001b[0m\u001b[0;34m\u001b[0m\u001b[0m\n\u001b[0;32m---> 40\u001b[0;31m     \u001b[0;32mfor\u001b[0m \u001b[0mbatch\u001b[0m\u001b[0;34m,\u001b[0m \u001b[0;34m(\u001b[0m\u001b[0mX\u001b[0m\u001b[0;34m,\u001b[0m \u001b[0my\u001b[0m\u001b[0;34m)\u001b[0m \u001b[0;32min\u001b[0m \u001b[0menumerate\u001b[0m\u001b[0;34m(\u001b[0m\u001b[0mdataloader\u001b[0m\u001b[0;34m)\u001b[0m\u001b[0;34m:\u001b[0m\u001b[0;34m\u001b[0m\u001b[0;34m\u001b[0m\u001b[0m\n\u001b[0m\u001b[1;32m     41\u001b[0m         \u001b[0;31m# Send data to target device\u001b[0m\u001b[0;34m\u001b[0m\u001b[0;34m\u001b[0m\u001b[0m\n\u001b[1;32m     42\u001b[0m         \u001b[0mX\u001b[0m\u001b[0;34m,\u001b[0m \u001b[0my\u001b[0m \u001b[0;34m=\u001b[0m \u001b[0mX\u001b[0m\u001b[0;34m.\u001b[0m\u001b[0mto\u001b[0m\u001b[0;34m(\u001b[0m\u001b[0mdevice\u001b[0m\u001b[0;34m)\u001b[0m\u001b[0;34m,\u001b[0m \u001b[0my\u001b[0m\u001b[0;34m.\u001b[0m\u001b[0mto\u001b[0m\u001b[0;34m(\u001b[0m\u001b[0mdevice\u001b[0m\u001b[0;34m)\u001b[0m\u001b[0;34m\u001b[0m\u001b[0;34m\u001b[0m\u001b[0m\n",
            "\u001b[0;32m/usr/local/lib/python3.10/dist-packages/torch/utils/data/dataloader.py\u001b[0m in \u001b[0;36m__next__\u001b[0;34m(self)\u001b[0m\n\u001b[1;32m    699\u001b[0m                 \u001b[0;31m# TODO(https://github.com/pytorch/pytorch/issues/76750)\u001b[0m\u001b[0;34m\u001b[0m\u001b[0;34m\u001b[0m\u001b[0m\n\u001b[1;32m    700\u001b[0m                 \u001b[0mself\u001b[0m\u001b[0;34m.\u001b[0m\u001b[0m_reset\u001b[0m\u001b[0;34m(\u001b[0m\u001b[0;34m)\u001b[0m  \u001b[0;31m# type: ignore[call-arg]\u001b[0m\u001b[0;34m\u001b[0m\u001b[0;34m\u001b[0m\u001b[0m\n\u001b[0;32m--> 701\u001b[0;31m             \u001b[0mdata\u001b[0m \u001b[0;34m=\u001b[0m \u001b[0mself\u001b[0m\u001b[0;34m.\u001b[0m\u001b[0m_next_data\u001b[0m\u001b[0;34m(\u001b[0m\u001b[0;34m)\u001b[0m\u001b[0;34m\u001b[0m\u001b[0;34m\u001b[0m\u001b[0m\n\u001b[0m\u001b[1;32m    702\u001b[0m             \u001b[0mself\u001b[0m\u001b[0;34m.\u001b[0m\u001b[0m_num_yielded\u001b[0m \u001b[0;34m+=\u001b[0m \u001b[0;36m1\u001b[0m\u001b[0;34m\u001b[0m\u001b[0;34m\u001b[0m\u001b[0m\n\u001b[1;32m    703\u001b[0m             if (\n",
            "\u001b[0;32m/usr/local/lib/python3.10/dist-packages/torch/utils/data/dataloader.py\u001b[0m in \u001b[0;36m_next_data\u001b[0;34m(self)\u001b[0m\n\u001b[1;32m   1463\u001b[0m             \u001b[0;32melse\u001b[0m\u001b[0;34m:\u001b[0m\u001b[0;34m\u001b[0m\u001b[0;34m\u001b[0m\u001b[0m\n\u001b[1;32m   1464\u001b[0m                 \u001b[0;32mdel\u001b[0m \u001b[0mself\u001b[0m\u001b[0;34m.\u001b[0m\u001b[0m_task_info\u001b[0m\u001b[0;34m[\u001b[0m\u001b[0midx\u001b[0m\u001b[0;34m]\u001b[0m\u001b[0;34m\u001b[0m\u001b[0;34m\u001b[0m\u001b[0m\n\u001b[0;32m-> 1465\u001b[0;31m                 \u001b[0;32mreturn\u001b[0m \u001b[0mself\u001b[0m\u001b[0;34m.\u001b[0m\u001b[0m_process_data\u001b[0m\u001b[0;34m(\u001b[0m\u001b[0mdata\u001b[0m\u001b[0;34m)\u001b[0m\u001b[0;34m\u001b[0m\u001b[0;34m\u001b[0m\u001b[0m\n\u001b[0m\u001b[1;32m   1466\u001b[0m \u001b[0;34m\u001b[0m\u001b[0m\n\u001b[1;32m   1467\u001b[0m     \u001b[0;32mdef\u001b[0m \u001b[0m_try_put_index\u001b[0m\u001b[0;34m(\u001b[0m\u001b[0mself\u001b[0m\u001b[0;34m)\u001b[0m\u001b[0;34m:\u001b[0m\u001b[0;34m\u001b[0m\u001b[0;34m\u001b[0m\u001b[0m\n",
            "\u001b[0;32m/usr/local/lib/python3.10/dist-packages/torch/utils/data/dataloader.py\u001b[0m in \u001b[0;36m_process_data\u001b[0;34m(self, data)\u001b[0m\n\u001b[1;32m   1489\u001b[0m         \u001b[0mself\u001b[0m\u001b[0;34m.\u001b[0m\u001b[0m_try_put_index\u001b[0m\u001b[0;34m(\u001b[0m\u001b[0;34m)\u001b[0m\u001b[0;34m\u001b[0m\u001b[0;34m\u001b[0m\u001b[0m\n\u001b[1;32m   1490\u001b[0m         \u001b[0;32mif\u001b[0m \u001b[0misinstance\u001b[0m\u001b[0;34m(\u001b[0m\u001b[0mdata\u001b[0m\u001b[0;34m,\u001b[0m \u001b[0mExceptionWrapper\u001b[0m\u001b[0;34m)\u001b[0m\u001b[0;34m:\u001b[0m\u001b[0;34m\u001b[0m\u001b[0;34m\u001b[0m\u001b[0m\n\u001b[0;32m-> 1491\u001b[0;31m             \u001b[0mdata\u001b[0m\u001b[0;34m.\u001b[0m\u001b[0mreraise\u001b[0m\u001b[0;34m(\u001b[0m\u001b[0;34m)\u001b[0m\u001b[0;34m\u001b[0m\u001b[0;34m\u001b[0m\u001b[0m\n\u001b[0m\u001b[1;32m   1492\u001b[0m         \u001b[0;32mreturn\u001b[0m \u001b[0mdata\u001b[0m\u001b[0;34m\u001b[0m\u001b[0;34m\u001b[0m\u001b[0m\n\u001b[1;32m   1493\u001b[0m \u001b[0;34m\u001b[0m\u001b[0m\n",
            "\u001b[0;32m/usr/local/lib/python3.10/dist-packages/torch/_utils.py\u001b[0m in \u001b[0;36mreraise\u001b[0;34m(self)\u001b[0m\n\u001b[1;32m    713\u001b[0m             \u001b[0;31m# instantiate since we don't know how to\u001b[0m\u001b[0;34m\u001b[0m\u001b[0;34m\u001b[0m\u001b[0m\n\u001b[1;32m    714\u001b[0m             \u001b[0;32mraise\u001b[0m \u001b[0mRuntimeError\u001b[0m\u001b[0;34m(\u001b[0m\u001b[0mmsg\u001b[0m\u001b[0;34m)\u001b[0m \u001b[0;32mfrom\u001b[0m \u001b[0;32mNone\u001b[0m\u001b[0;34m\u001b[0m\u001b[0;34m\u001b[0m\u001b[0m\n\u001b[0;32m--> 715\u001b[0;31m         \u001b[0;32mraise\u001b[0m \u001b[0mexception\u001b[0m\u001b[0;34m\u001b[0m\u001b[0;34m\u001b[0m\u001b[0m\n\u001b[0m\u001b[1;32m    716\u001b[0m \u001b[0;34m\u001b[0m\u001b[0m\n\u001b[1;32m    717\u001b[0m \u001b[0;34m\u001b[0m\u001b[0m\n",
            "\u001b[0;31mTypeError\u001b[0m: Caught TypeError in DataLoader worker process 0.\nOriginal Traceback (most recent call last):\n  File \"/usr/local/lib/python3.10/dist-packages/torch/utils/data/_utils/worker.py\", line 351, in _worker_loop\n    data = fetcher.fetch(index)  # type: ignore[possibly-undefined]\n  File \"/usr/local/lib/python3.10/dist-packages/torch/utils/data/_utils/fetch.py\", line 52, in fetch\n    data = [self.dataset[idx] for idx in possibly_batched_index]\n  File \"/usr/local/lib/python3.10/dist-packages/torch/utils/data/_utils/fetch.py\", line 52, in <listcomp>\n    data = [self.dataset[idx] for idx in possibly_batched_index]\n  File \"/usr/local/lib/python3.10/dist-packages/torchvision/datasets/folder.py\", line 247, in __getitem__\n    sample = self.transform(sample)\n  File \"/usr/local/lib/python3.10/dist-packages/torchvision/transforms/transforms.py\", line 95, in __call__\n    img = t(img)\n  File \"/usr/local/lib/python3.10/dist-packages/torch/nn/modules/module.py\", line 1736, in _wrapped_call_impl\n    return self._call_impl(*args, **kwargs)\n  File \"/usr/local/lib/python3.10/dist-packages/torch/nn/modules/module.py\", line 1747, in _call_impl\n    return forward_call(*args, **kwargs)\n  File \"/usr/local/lib/python3.10/dist-packages/torchvision/transforms/transforms.py\", line 277, in forward\n    return F.normalize(tensor, self.mean, self.std, self.inplace)\n  File \"/usr/local/lib/python3.10/dist-packages/torchvision/transforms/functional.py\", line 348, in normalize\n    raise TypeError(f\"img should be Tensor Image. Got {type(tensor)}\")\nTypeError: img should be Tensor Image. Got <class 'PIL.Image.Image'>\n"
          ]
        }
      ]
    },
    {
      "cell_type": "code",
      "source": [],
      "metadata": {
        "id": "YXhteK5D02i_"
      },
      "execution_count": null,
      "outputs": []
    }
  ]
}
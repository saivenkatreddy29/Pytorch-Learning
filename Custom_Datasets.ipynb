{
  "nbformat": 4,
  "nbformat_minor": 0,
  "metadata": {
    "colab": {
      "provenance": [],
      "authorship_tag": "ABX9TyOUY07tKx/i25RosLgIrBn2",
      "include_colab_link": true
    },
    "kernelspec": {
      "name": "python3",
      "display_name": "Python 3"
    },
    "language_info": {
      "name": "python"
    }
  },
  "cells": [
    {
      "cell_type": "markdown",
      "metadata": {
        "id": "view-in-github",
        "colab_type": "text"
      },
      "source": [
        "<a href=\"https://colab.research.google.com/github/saivenkatreddy29/Pytorch-Learning/blob/main/Custom_Datasets.ipynb\" target=\"_parent\"><img src=\"https://colab.research.google.com/assets/colab-badge.svg\" alt=\"Open In Colab\"/></a>"
      ]
    },
    {
      "cell_type": "code",
      "execution_count": 1,
      "metadata": {
        "id": "f0O_loA9qNF4"
      },
      "outputs": [],
      "source": [
        "import torch\n",
        "import torch.nn as nn"
      ]
    },
    {
      "cell_type": "code",
      "source": [
        "device = 'cuda' if torch.cuda.is_available() else 'cpu'"
      ],
      "metadata": {
        "id": "jHg47_rUdB3U"
      },
      "execution_count": 3,
      "outputs": []
    },
    {
      "cell_type": "code",
      "source": [
        "from pathlib import Path\n",
        "import zipfile\n",
        "\n",
        "data = Path('data')\n",
        "image_path = data/'piza_stake_sushi'\n",
        "\n",
        "if image_path.is_dir():\n",
        "  print('the image directory exists')\n",
        "else:\n",
        "  image_path.mkdir(parents = True, exist_ok = True)"
      ],
      "metadata": {
        "id": "dh1FxZt0dYDe"
      },
      "execution_count": 7,
      "outputs": []
    },
    {
      "cell_type": "code",
      "source": [
        "import requests\n",
        "with open(data/'pizza_steak_sushi.zip', 'wb') as f:\n",
        "  req = requests.get(\"https://github.com/mrdbourke/pytorch-deep-learning/raw/main/data/pizza_steak_sushi.zip\")\n",
        "  f.write(req.content)\n"
      ],
      "metadata": {
        "id": "ue-UEH37dguq"
      },
      "execution_count": 8,
      "outputs": []
    },
    {
      "cell_type": "code",
      "source": [
        "import zipfile\n",
        "with zipfile.ZipFile(data/'pizza_steak_sushi.zip', 'r') as zip_ref:\n",
        "  print('unzipping the files')\n",
        "  zip_ref.extractall(image_path)"
      ],
      "metadata": {
        "colab": {
          "base_uri": "https://localhost:8080/"
        },
        "id": "M7n6JgXwgHtJ",
        "outputId": "e8bf1bbc-3e71-4621-e6e9-6d242f53a9c8"
      },
      "execution_count": 9,
      "outputs": [
        {
          "output_type": "stream",
          "name": "stdout",
          "text": [
            "unzipping the files\n"
          ]
        }
      ]
    },
    {
      "cell_type": "markdown",
      "source": [
        "# **Becoming one with the data**"
      ],
      "metadata": {
        "id": "tXdjf78Jgl9b"
      }
    },
    {
      "cell_type": "code",
      "source": [],
      "metadata": {
        "id": "vGFZRGqOgioP"
      },
      "execution_count": null,
      "outputs": []
    }
  ]
}